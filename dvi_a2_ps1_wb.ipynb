{
  "nbformat": 4,
  "nbformat_minor": 0,
  "metadata": {
    "anaconda-cloud": {},
    "colab": {
      "name": "dvi-a2-ps1-wb.ipynb",
      "provenance": [],
      "collapsed_sections": []
    },
    "kernelspec": {
      "display_name": "Python 3",
      "language": "python",
      "name": "python3"
    },
    "language_info": {
      "codemirror_mode": {
        "name": "ipython",
        "version": 3
      },
      "file_extension": ".py",
      "mimetype": "text/x-python",
      "name": "python",
      "nbconvert_exporter": "python",
      "pygments_lexer": "ipython3",
      "version": "3.8.8"
    }
  },
  "cells": [
    {
      "cell_type": "markdown",
      "metadata": {
        "id": "J0BQyBwNnDRi"
      },
      "source": [
        "<img src = \"https://www.bits-pilani.ac.in/Uploads/Campus/BITS_university_logo.gif\">"
      ]
    },
    {
      "cell_type": "markdown",
      "metadata": {
        "id": "wOCvWHupnDSZ"
      },
      "source": [
        "<h1><center>Work Integrated Learning Programmes Division<br>\n",
        "M.Tech (Data Science and Engineering)<br> Data Visualization And Interpretation (DSECL ZG555))<br>\n",
        "Second Semester, 2020-21\n",
        "</center></h1>\n",
        "\n",
        "<h2><center>Assignment 2 – PS1 [Weightage 13%]</center></h2>"
      ]
    },
    {
      "cell_type": "markdown",
      "metadata": {
        "id": "sp26I5vbnDSm"
      },
      "source": [
        "<ol>\n",
        "  <li>Do not change the name of the data file that is shared with the problem statement.</li>\n",
        "  <li>If intermediate data files are created, retain in the present working directory and attach them during submission.</li>\n",
        "  <li>Retain the data file in the same directory as that of this workbook.</li>\n",
        "  <li>Retain the Visualizations that is produced in the file. Don't clear them away.</li>\n",
        "  <li>Submit only the .IPYNB file. Intermediate files to be attached as mentioned in (2).</li>\n",
        "  <li>All the visuals should adhere to the visualization principles learnt in the Course and must be presentation ready. Most effective visuals would fetch maximum  credits</li>\n",
        "  <li>Submissions done via means other than CANAVAS will strictly be NOT graded.</li>\n",
        "</ol>"
      ]
    },
    {
      "cell_type": "markdown",
      "metadata": {
        "id": "GuvPynfInDS4"
      },
      "source": [
        "<style>\n",
        "table {\n",
        "  font-family: arial, sans-serif;\n",
        "  border-collapse: collapse;\n",
        "  width: 100%;\n",
        "}\n",
        "\n",
        "td, th {\n",
        "  border: 1px solid #dddddd;\n",
        "  text-align: left;\n",
        "  padding: 8px;\n",
        "}\n",
        "\n",
        "tr:nth-child(even) {\n",
        "  background-color: #dddddd;\n",
        "}\n",
        "</style>\n",
        "\n",
        "<h2>Group No: 36 </h2>\n",
        "\n",
        "<table>\n",
        "  <tr>\n",
        "    <th>Full Name</th>\n",
        "    <th>BITS ID</th>\n",
        "  </tr>\n",
        "  <tr>\n",
        "    <td>Abhijith K S</td>\n",
        "    <td>2020FC04193</td>\n",
        "  </tr>\n",
        "  <tr>\n",
        "    <td>Keesari Shravya</td>\n",
        "    <td>2020FC04582</td>\n",
        "  </tr>\n",
        "  <tr>\n",
        "    <td>Manepalli Shravani</td>\n",
        "    <td>2020FC04587</td>\n",
        "  </tr>\n",
        "</table>"
      ]
    },
    {
      "cell_type": "markdown",
      "metadata": {
        "id": "lSiG-H2XnDTF"
      },
      "source": [
        "<h3>Objective</h3>\n",
        "<h4>To find best players from each positions with their age, nationality, club based on their Potential Scores</h4>\n",
        "\n",
        "\n"
      ]
    },
    {
      "cell_type": "markdown",
      "metadata": {
        "id": "SpP42_ZgnDTN"
      },
      "source": [
        "##  Download and Prep the Data: 1 Marks"
      ]
    },
    {
      "cell_type": "markdown",
      "metadata": {
        "id": "UVZP7GmMnDTV"
      },
      "source": [
        "<h4>Import the libraries needed</h4>"
      ]
    },
    {
      "cell_type": "code",
      "metadata": {
        "id": "ru_e-YoynDTc"
      },
      "source": [
        "import pandas as pd\n",
        "import numpy as np\n",
        "import seaborn as sns\n",
        "import matplotlib.pyplot as plt"
      ],
      "execution_count": 1,
      "outputs": []
    },
    {
      "cell_type": "markdown",
      "metadata": {
        "id": "l9k16HmSnDTj"
      },
      "source": [
        "<h4> Load data and store in dataframe </h4>"
      ]
    },
    {
      "cell_type": "code",
      "metadata": {
        "id": "9nF2OKprnDTn",
        "scrolled": true,
        "colab": {
          "base_uri": "https://localhost:8080/",
          "height": 389
        },
        "outputId": "88cb1371-0724-4d3c-9267-b3f0e5e79bec"
      },
      "source": [
        "ps1_data=pd.read_csv(\"./dvi-a2-ps1-data.csv\")\n",
        "ps1_data.head()"
      ],
      "execution_count": 2,
      "outputs": [
        {
          "output_type": "execute_result",
          "data": {
            "text/html": [
              "<div>\n",
              "<style scoped>\n",
              "    .dataframe tbody tr th:only-of-type {\n",
              "        vertical-align: middle;\n",
              "    }\n",
              "\n",
              "    .dataframe tbody tr th {\n",
              "        vertical-align: top;\n",
              "    }\n",
              "\n",
              "    .dataframe thead th {\n",
              "        text-align: right;\n",
              "    }\n",
              "</style>\n",
              "<table border=\"1\" class=\"dataframe\">\n",
              "  <thead>\n",
              "    <tr style=\"text-align: right;\">\n",
              "      <th></th>\n",
              "      <th>Unnamed: 0</th>\n",
              "      <th>ID</th>\n",
              "      <th>Name</th>\n",
              "      <th>Age</th>\n",
              "      <th>Photo</th>\n",
              "      <th>Nationality</th>\n",
              "      <th>Flag</th>\n",
              "      <th>Overall</th>\n",
              "      <th>Potential</th>\n",
              "      <th>Club</th>\n",
              "      <th>Club Logo</th>\n",
              "      <th>Value</th>\n",
              "      <th>Wage</th>\n",
              "      <th>Special</th>\n",
              "      <th>Preferred Foot</th>\n",
              "      <th>International Reputation</th>\n",
              "      <th>Weak Foot</th>\n",
              "      <th>Skill Moves</th>\n",
              "      <th>Work Rate</th>\n",
              "      <th>Body Type</th>\n",
              "      <th>Real Face</th>\n",
              "      <th>Position</th>\n",
              "      <th>Jersey Number</th>\n",
              "      <th>Joined</th>\n",
              "      <th>Loaned From</th>\n",
              "      <th>Contract Valid Until</th>\n",
              "      <th>Height</th>\n",
              "      <th>Weight</th>\n",
              "      <th>LS</th>\n",
              "      <th>ST</th>\n",
              "      <th>RS</th>\n",
              "      <th>LW</th>\n",
              "      <th>LF</th>\n",
              "      <th>CF</th>\n",
              "      <th>RF</th>\n",
              "      <th>RW</th>\n",
              "      <th>LAM</th>\n",
              "      <th>CAM</th>\n",
              "      <th>RAM</th>\n",
              "      <th>LM</th>\n",
              "      <th>...</th>\n",
              "      <th>LB</th>\n",
              "      <th>LCB</th>\n",
              "      <th>CB</th>\n",
              "      <th>RCB</th>\n",
              "      <th>RB</th>\n",
              "      <th>Crossing</th>\n",
              "      <th>Finishing</th>\n",
              "      <th>HeadingAccuracy</th>\n",
              "      <th>ShortPassing</th>\n",
              "      <th>Volleys</th>\n",
              "      <th>Dribbling</th>\n",
              "      <th>Curve</th>\n",
              "      <th>FKAccuracy</th>\n",
              "      <th>LongPassing</th>\n",
              "      <th>BallControl</th>\n",
              "      <th>Acceleration</th>\n",
              "      <th>SprintSpeed</th>\n",
              "      <th>Agility</th>\n",
              "      <th>Reactions</th>\n",
              "      <th>Balance</th>\n",
              "      <th>ShotPower</th>\n",
              "      <th>Jumping</th>\n",
              "      <th>Stamina</th>\n",
              "      <th>Strength</th>\n",
              "      <th>LongShots</th>\n",
              "      <th>Aggression</th>\n",
              "      <th>Interceptions</th>\n",
              "      <th>Positioning</th>\n",
              "      <th>Vision</th>\n",
              "      <th>Penalties</th>\n",
              "      <th>Composure</th>\n",
              "      <th>Marking</th>\n",
              "      <th>StandingTackle</th>\n",
              "      <th>SlidingTackle</th>\n",
              "      <th>GKDiving</th>\n",
              "      <th>GKHandling</th>\n",
              "      <th>GKKicking</th>\n",
              "      <th>GKPositioning</th>\n",
              "      <th>GKReflexes</th>\n",
              "      <th>Release Clause</th>\n",
              "    </tr>\n",
              "  </thead>\n",
              "  <tbody>\n",
              "    <tr>\n",
              "      <th>0</th>\n",
              "      <td>0</td>\n",
              "      <td>158023</td>\n",
              "      <td>L. Messi</td>\n",
              "      <td>31</td>\n",
              "      <td>https://cdn.sofifa.org/players/4/19/158023.png</td>\n",
              "      <td>Argentina</td>\n",
              "      <td>https://cdn.sofifa.org/flags/52.png</td>\n",
              "      <td>94</td>\n",
              "      <td>94</td>\n",
              "      <td>FC Barcelona</td>\n",
              "      <td>https://cdn.sofifa.org/teams/2/light/241.png</td>\n",
              "      <td>€110.5M</td>\n",
              "      <td>€565K</td>\n",
              "      <td>2202</td>\n",
              "      <td>Left</td>\n",
              "      <td>5.0</td>\n",
              "      <td>4.0</td>\n",
              "      <td>4.0</td>\n",
              "      <td>Medium/ Medium</td>\n",
              "      <td>Messi</td>\n",
              "      <td>Yes</td>\n",
              "      <td>RF</td>\n",
              "      <td>10.0</td>\n",
              "      <td>Jul 1, 2004</td>\n",
              "      <td>NaN</td>\n",
              "      <td>2021</td>\n",
              "      <td>5'7</td>\n",
              "      <td>159lbs</td>\n",
              "      <td>88+2</td>\n",
              "      <td>88+2</td>\n",
              "      <td>88+2</td>\n",
              "      <td>92+2</td>\n",
              "      <td>93+2</td>\n",
              "      <td>93+2</td>\n",
              "      <td>93+2</td>\n",
              "      <td>92+2</td>\n",
              "      <td>93+2</td>\n",
              "      <td>93+2</td>\n",
              "      <td>93+2</td>\n",
              "      <td>91+2</td>\n",
              "      <td>...</td>\n",
              "      <td>59+2</td>\n",
              "      <td>47+2</td>\n",
              "      <td>47+2</td>\n",
              "      <td>47+2</td>\n",
              "      <td>59+2</td>\n",
              "      <td>84.0</td>\n",
              "      <td>95.0</td>\n",
              "      <td>70.0</td>\n",
              "      <td>90.0</td>\n",
              "      <td>86.0</td>\n",
              "      <td>97.0</td>\n",
              "      <td>93.0</td>\n",
              "      <td>94.0</td>\n",
              "      <td>87.0</td>\n",
              "      <td>96.0</td>\n",
              "      <td>91.0</td>\n",
              "      <td>86.0</td>\n",
              "      <td>91.0</td>\n",
              "      <td>95.0</td>\n",
              "      <td>95.0</td>\n",
              "      <td>85.0</td>\n",
              "      <td>68.0</td>\n",
              "      <td>72.0</td>\n",
              "      <td>59.0</td>\n",
              "      <td>94.0</td>\n",
              "      <td>48.0</td>\n",
              "      <td>22.0</td>\n",
              "      <td>94.0</td>\n",
              "      <td>94.0</td>\n",
              "      <td>75.0</td>\n",
              "      <td>96.0</td>\n",
              "      <td>33.0</td>\n",
              "      <td>28.0</td>\n",
              "      <td>26.0</td>\n",
              "      <td>6.0</td>\n",
              "      <td>11.0</td>\n",
              "      <td>15.0</td>\n",
              "      <td>14.0</td>\n",
              "      <td>8.0</td>\n",
              "      <td>€226.5M</td>\n",
              "    </tr>\n",
              "    <tr>\n",
              "      <th>1</th>\n",
              "      <td>1</td>\n",
              "      <td>20801</td>\n",
              "      <td>Cristiano Ronaldo</td>\n",
              "      <td>33</td>\n",
              "      <td>https://cdn.sofifa.org/players/4/19/20801.png</td>\n",
              "      <td>Portugal</td>\n",
              "      <td>https://cdn.sofifa.org/flags/38.png</td>\n",
              "      <td>94</td>\n",
              "      <td>94</td>\n",
              "      <td>Juventus</td>\n",
              "      <td>https://cdn.sofifa.org/teams/2/light/45.png</td>\n",
              "      <td>€77M</td>\n",
              "      <td>€405K</td>\n",
              "      <td>2228</td>\n",
              "      <td>Right</td>\n",
              "      <td>5.0</td>\n",
              "      <td>4.0</td>\n",
              "      <td>5.0</td>\n",
              "      <td>High/ Low</td>\n",
              "      <td>C. Ronaldo</td>\n",
              "      <td>Yes</td>\n",
              "      <td>ST</td>\n",
              "      <td>7.0</td>\n",
              "      <td>Jul 10, 2018</td>\n",
              "      <td>NaN</td>\n",
              "      <td>2022</td>\n",
              "      <td>6'2</td>\n",
              "      <td>183lbs</td>\n",
              "      <td>91+3</td>\n",
              "      <td>91+3</td>\n",
              "      <td>91+3</td>\n",
              "      <td>89+3</td>\n",
              "      <td>90+3</td>\n",
              "      <td>90+3</td>\n",
              "      <td>90+3</td>\n",
              "      <td>89+3</td>\n",
              "      <td>88+3</td>\n",
              "      <td>88+3</td>\n",
              "      <td>88+3</td>\n",
              "      <td>88+3</td>\n",
              "      <td>...</td>\n",
              "      <td>61+3</td>\n",
              "      <td>53+3</td>\n",
              "      <td>53+3</td>\n",
              "      <td>53+3</td>\n",
              "      <td>61+3</td>\n",
              "      <td>84.0</td>\n",
              "      <td>94.0</td>\n",
              "      <td>89.0</td>\n",
              "      <td>81.0</td>\n",
              "      <td>87.0</td>\n",
              "      <td>88.0</td>\n",
              "      <td>81.0</td>\n",
              "      <td>76.0</td>\n",
              "      <td>77.0</td>\n",
              "      <td>94.0</td>\n",
              "      <td>89.0</td>\n",
              "      <td>91.0</td>\n",
              "      <td>87.0</td>\n",
              "      <td>96.0</td>\n",
              "      <td>70.0</td>\n",
              "      <td>95.0</td>\n",
              "      <td>95.0</td>\n",
              "      <td>88.0</td>\n",
              "      <td>79.0</td>\n",
              "      <td>93.0</td>\n",
              "      <td>63.0</td>\n",
              "      <td>29.0</td>\n",
              "      <td>95.0</td>\n",
              "      <td>82.0</td>\n",
              "      <td>85.0</td>\n",
              "      <td>95.0</td>\n",
              "      <td>28.0</td>\n",
              "      <td>31.0</td>\n",
              "      <td>23.0</td>\n",
              "      <td>7.0</td>\n",
              "      <td>11.0</td>\n",
              "      <td>15.0</td>\n",
              "      <td>14.0</td>\n",
              "      <td>11.0</td>\n",
              "      <td>€127.1M</td>\n",
              "    </tr>\n",
              "    <tr>\n",
              "      <th>2</th>\n",
              "      <td>2</td>\n",
              "      <td>190871</td>\n",
              "      <td>Neymar Jr</td>\n",
              "      <td>26</td>\n",
              "      <td>https://cdn.sofifa.org/players/4/19/190871.png</td>\n",
              "      <td>Brazil</td>\n",
              "      <td>https://cdn.sofifa.org/flags/54.png</td>\n",
              "      <td>92</td>\n",
              "      <td>93</td>\n",
              "      <td>Paris Saint-Germain</td>\n",
              "      <td>https://cdn.sofifa.org/teams/2/light/73.png</td>\n",
              "      <td>€118.5M</td>\n",
              "      <td>€290K</td>\n",
              "      <td>2143</td>\n",
              "      <td>Right</td>\n",
              "      <td>5.0</td>\n",
              "      <td>5.0</td>\n",
              "      <td>5.0</td>\n",
              "      <td>High/ Medium</td>\n",
              "      <td>Neymar</td>\n",
              "      <td>Yes</td>\n",
              "      <td>LW</td>\n",
              "      <td>10.0</td>\n",
              "      <td>Aug 3, 2017</td>\n",
              "      <td>NaN</td>\n",
              "      <td>2022</td>\n",
              "      <td>5'9</td>\n",
              "      <td>150lbs</td>\n",
              "      <td>84+3</td>\n",
              "      <td>84+3</td>\n",
              "      <td>84+3</td>\n",
              "      <td>89+3</td>\n",
              "      <td>89+3</td>\n",
              "      <td>89+3</td>\n",
              "      <td>89+3</td>\n",
              "      <td>89+3</td>\n",
              "      <td>89+3</td>\n",
              "      <td>89+3</td>\n",
              "      <td>89+3</td>\n",
              "      <td>88+3</td>\n",
              "      <td>...</td>\n",
              "      <td>60+3</td>\n",
              "      <td>47+3</td>\n",
              "      <td>47+3</td>\n",
              "      <td>47+3</td>\n",
              "      <td>60+3</td>\n",
              "      <td>79.0</td>\n",
              "      <td>87.0</td>\n",
              "      <td>62.0</td>\n",
              "      <td>84.0</td>\n",
              "      <td>84.0</td>\n",
              "      <td>96.0</td>\n",
              "      <td>88.0</td>\n",
              "      <td>87.0</td>\n",
              "      <td>78.0</td>\n",
              "      <td>95.0</td>\n",
              "      <td>94.0</td>\n",
              "      <td>90.0</td>\n",
              "      <td>96.0</td>\n",
              "      <td>94.0</td>\n",
              "      <td>84.0</td>\n",
              "      <td>80.0</td>\n",
              "      <td>61.0</td>\n",
              "      <td>81.0</td>\n",
              "      <td>49.0</td>\n",
              "      <td>82.0</td>\n",
              "      <td>56.0</td>\n",
              "      <td>36.0</td>\n",
              "      <td>89.0</td>\n",
              "      <td>87.0</td>\n",
              "      <td>81.0</td>\n",
              "      <td>94.0</td>\n",
              "      <td>27.0</td>\n",
              "      <td>24.0</td>\n",
              "      <td>33.0</td>\n",
              "      <td>9.0</td>\n",
              "      <td>9.0</td>\n",
              "      <td>15.0</td>\n",
              "      <td>15.0</td>\n",
              "      <td>11.0</td>\n",
              "      <td>€228.1M</td>\n",
              "    </tr>\n",
              "    <tr>\n",
              "      <th>3</th>\n",
              "      <td>3</td>\n",
              "      <td>193080</td>\n",
              "      <td>De Gea</td>\n",
              "      <td>27</td>\n",
              "      <td>https://cdn.sofifa.org/players/4/19/193080.png</td>\n",
              "      <td>Spain</td>\n",
              "      <td>https://cdn.sofifa.org/flags/45.png</td>\n",
              "      <td>91</td>\n",
              "      <td>93</td>\n",
              "      <td>Manchester United</td>\n",
              "      <td>https://cdn.sofifa.org/teams/2/light/11.png</td>\n",
              "      <td>€72M</td>\n",
              "      <td>€260K</td>\n",
              "      <td>1471</td>\n",
              "      <td>Right</td>\n",
              "      <td>4.0</td>\n",
              "      <td>3.0</td>\n",
              "      <td>1.0</td>\n",
              "      <td>Medium/ Medium</td>\n",
              "      <td>Lean</td>\n",
              "      <td>Yes</td>\n",
              "      <td>GK</td>\n",
              "      <td>1.0</td>\n",
              "      <td>Jul 1, 2011</td>\n",
              "      <td>NaN</td>\n",
              "      <td>2020</td>\n",
              "      <td>6'4</td>\n",
              "      <td>168lbs</td>\n",
              "      <td>NaN</td>\n",
              "      <td>NaN</td>\n",
              "      <td>NaN</td>\n",
              "      <td>NaN</td>\n",
              "      <td>NaN</td>\n",
              "      <td>NaN</td>\n",
              "      <td>NaN</td>\n",
              "      <td>NaN</td>\n",
              "      <td>NaN</td>\n",
              "      <td>NaN</td>\n",
              "      <td>NaN</td>\n",
              "      <td>NaN</td>\n",
              "      <td>...</td>\n",
              "      <td>NaN</td>\n",
              "      <td>NaN</td>\n",
              "      <td>NaN</td>\n",
              "      <td>NaN</td>\n",
              "      <td>NaN</td>\n",
              "      <td>17.0</td>\n",
              "      <td>13.0</td>\n",
              "      <td>21.0</td>\n",
              "      <td>50.0</td>\n",
              "      <td>13.0</td>\n",
              "      <td>18.0</td>\n",
              "      <td>21.0</td>\n",
              "      <td>19.0</td>\n",
              "      <td>51.0</td>\n",
              "      <td>42.0</td>\n",
              "      <td>57.0</td>\n",
              "      <td>58.0</td>\n",
              "      <td>60.0</td>\n",
              "      <td>90.0</td>\n",
              "      <td>43.0</td>\n",
              "      <td>31.0</td>\n",
              "      <td>67.0</td>\n",
              "      <td>43.0</td>\n",
              "      <td>64.0</td>\n",
              "      <td>12.0</td>\n",
              "      <td>38.0</td>\n",
              "      <td>30.0</td>\n",
              "      <td>12.0</td>\n",
              "      <td>68.0</td>\n",
              "      <td>40.0</td>\n",
              "      <td>68.0</td>\n",
              "      <td>15.0</td>\n",
              "      <td>21.0</td>\n",
              "      <td>13.0</td>\n",
              "      <td>90.0</td>\n",
              "      <td>85.0</td>\n",
              "      <td>87.0</td>\n",
              "      <td>88.0</td>\n",
              "      <td>94.0</td>\n",
              "      <td>€138.6M</td>\n",
              "    </tr>\n",
              "    <tr>\n",
              "      <th>4</th>\n",
              "      <td>4</td>\n",
              "      <td>192985</td>\n",
              "      <td>K. De Bruyne</td>\n",
              "      <td>27</td>\n",
              "      <td>https://cdn.sofifa.org/players/4/19/192985.png</td>\n",
              "      <td>Belgium</td>\n",
              "      <td>https://cdn.sofifa.org/flags/7.png</td>\n",
              "      <td>91</td>\n",
              "      <td>92</td>\n",
              "      <td>Manchester City</td>\n",
              "      <td>https://cdn.sofifa.org/teams/2/light/10.png</td>\n",
              "      <td>€102M</td>\n",
              "      <td>€355K</td>\n",
              "      <td>2281</td>\n",
              "      <td>Right</td>\n",
              "      <td>4.0</td>\n",
              "      <td>5.0</td>\n",
              "      <td>4.0</td>\n",
              "      <td>High/ High</td>\n",
              "      <td>Normal</td>\n",
              "      <td>Yes</td>\n",
              "      <td>RCM</td>\n",
              "      <td>7.0</td>\n",
              "      <td>Aug 30, 2015</td>\n",
              "      <td>NaN</td>\n",
              "      <td>2023</td>\n",
              "      <td>5'11</td>\n",
              "      <td>154lbs</td>\n",
              "      <td>82+3</td>\n",
              "      <td>82+3</td>\n",
              "      <td>82+3</td>\n",
              "      <td>87+3</td>\n",
              "      <td>87+3</td>\n",
              "      <td>87+3</td>\n",
              "      <td>87+3</td>\n",
              "      <td>87+3</td>\n",
              "      <td>88+3</td>\n",
              "      <td>88+3</td>\n",
              "      <td>88+3</td>\n",
              "      <td>88+3</td>\n",
              "      <td>...</td>\n",
              "      <td>73+3</td>\n",
              "      <td>66+3</td>\n",
              "      <td>66+3</td>\n",
              "      <td>66+3</td>\n",
              "      <td>73+3</td>\n",
              "      <td>93.0</td>\n",
              "      <td>82.0</td>\n",
              "      <td>55.0</td>\n",
              "      <td>92.0</td>\n",
              "      <td>82.0</td>\n",
              "      <td>86.0</td>\n",
              "      <td>85.0</td>\n",
              "      <td>83.0</td>\n",
              "      <td>91.0</td>\n",
              "      <td>91.0</td>\n",
              "      <td>78.0</td>\n",
              "      <td>76.0</td>\n",
              "      <td>79.0</td>\n",
              "      <td>91.0</td>\n",
              "      <td>77.0</td>\n",
              "      <td>91.0</td>\n",
              "      <td>63.0</td>\n",
              "      <td>90.0</td>\n",
              "      <td>75.0</td>\n",
              "      <td>91.0</td>\n",
              "      <td>76.0</td>\n",
              "      <td>61.0</td>\n",
              "      <td>87.0</td>\n",
              "      <td>94.0</td>\n",
              "      <td>79.0</td>\n",
              "      <td>88.0</td>\n",
              "      <td>68.0</td>\n",
              "      <td>58.0</td>\n",
              "      <td>51.0</td>\n",
              "      <td>15.0</td>\n",
              "      <td>13.0</td>\n",
              "      <td>5.0</td>\n",
              "      <td>10.0</td>\n",
              "      <td>13.0</td>\n",
              "      <td>€196.4M</td>\n",
              "    </tr>\n",
              "  </tbody>\n",
              "</table>\n",
              "<p>5 rows × 89 columns</p>\n",
              "</div>"
            ],
            "text/plain": [
              "   Unnamed: 0      ID  ... GKReflexes  Release Clause\n",
              "0           0  158023  ...        8.0         €226.5M\n",
              "1           1   20801  ...       11.0         €127.1M\n",
              "2           2  190871  ...       11.0         €228.1M\n",
              "3           3  193080  ...       94.0         €138.6M\n",
              "4           4  192985  ...       13.0         €196.4M\n",
              "\n",
              "[5 rows x 89 columns]"
            ]
          },
          "metadata": {},
          "execution_count": 2
        }
      ]
    },
    {
      "cell_type": "markdown",
      "metadata": {
        "id": "JVAlmaFYPZQw"
      },
      "source": [
        "<h3>Objective</h3>\n",
        "<h4>To find best players from each positions with their age, nationality, club based on their Potential Scores</h4>\n",
        "\n",
        "\n"
      ]
    },
    {
      "cell_type": "code",
      "metadata": {
        "colab": {
          "base_uri": "https://localhost:8080/",
          "height": 607
        },
        "id": "p6pVBvYQPWKk",
        "outputId": "005ac39f-e5a0-4cc2-c0f6-4319c22bebbe"
      },
      "source": [
        "ps1_data.iloc[ps1_data.groupby(ps1_data['Position'])['Potential'].idxmax()][['Position', 'Name', 'Age', 'Club', 'Nationality', 'Potential'\n",
        "]].sort_values(\"Potential\").style.background_gradient('Reds')"
      ],
      "execution_count": 3,
      "outputs": [
        {
          "output_type": "execute_result",
          "data": {
            "text/html": [
              "<style  type=\"text/css\" >\n",
              "#T_3b03b64a_1a3b_11ec_bed0_0242ac1c0002row0_col2,#T_3b03b64a_1a3b_11ec_bed0_0242ac1c0002row3_col2,#T_3b03b64a_1a3b_11ec_bed0_0242ac1c0002row5_col2,#T_3b03b64a_1a3b_11ec_bed0_0242ac1c0002row19_col2,#T_3b03b64a_1a3b_11ec_bed0_0242ac1c0002row23_col2{\n",
              "            background-color:  #fc9879;\n",
              "            color:  #000000;\n",
              "        }#T_3b03b64a_1a3b_11ec_bed0_0242ac1c0002row0_col5,#T_3b03b64a_1a3b_11ec_bed0_0242ac1c0002row26_col2{\n",
              "            background-color:  #fff5f0;\n",
              "            color:  #000000;\n",
              "        }#T_3b03b64a_1a3b_11ec_bed0_0242ac1c0002row1_col2,#T_3b03b64a_1a3b_11ec_bed0_0242ac1c0002row12_col2{\n",
              "            background-color:  #fee9df;\n",
              "            color:  #000000;\n",
              "        }#T_3b03b64a_1a3b_11ec_bed0_0242ac1c0002row1_col5,#T_3b03b64a_1a3b_11ec_bed0_0242ac1c0002row2_col5{\n",
              "            background-color:  #fcbba1;\n",
              "            color:  #000000;\n",
              "        }#T_3b03b64a_1a3b_11ec_bed0_0242ac1c0002row2_col2,#T_3b03b64a_1a3b_11ec_bed0_0242ac1c0002row14_col2{\n",
              "            background-color:  #fc8161;\n",
              "            color:  #000000;\n",
              "        }#T_3b03b64a_1a3b_11ec_bed0_0242ac1c0002row3_col5,#T_3b03b64a_1a3b_11ec_bed0_0242ac1c0002row4_col5,#T_3b03b64a_1a3b_11ec_bed0_0242ac1c0002row5_col5{\n",
              "            background-color:  #fc8565;\n",
              "            color:  #000000;\n",
              "        }#T_3b03b64a_1a3b_11ec_bed0_0242ac1c0002row4_col2{\n",
              "            background-color:  #bf151b;\n",
              "            color:  #f1f1f1;\n",
              "        }#T_3b03b64a_1a3b_11ec_bed0_0242ac1c0002row6_col2,#T_3b03b64a_1a3b_11ec_bed0_0242ac1c0002row13_col2,#T_3b03b64a_1a3b_11ec_bed0_0242ac1c0002row24_col2{\n",
              "            background-color:  #aa1016;\n",
              "            color:  #f1f1f1;\n",
              "        }#T_3b03b64a_1a3b_11ec_bed0_0242ac1c0002row6_col5,#T_3b03b64a_1a3b_11ec_bed0_0242ac1c0002row7_col2,#T_3b03b64a_1a3b_11ec_bed0_0242ac1c0002row7_col5,#T_3b03b64a_1a3b_11ec_bed0_0242ac1c0002row8_col2,#T_3b03b64a_1a3b_11ec_bed0_0242ac1c0002row16_col2,#T_3b03b64a_1a3b_11ec_bed0_0242ac1c0002row22_col2{\n",
              "            background-color:  #fb694a;\n",
              "            color:  #000000;\n",
              "        }#T_3b03b64a_1a3b_11ec_bed0_0242ac1c0002row8_col5,#T_3b03b64a_1a3b_11ec_bed0_0242ac1c0002row9_col5,#T_3b03b64a_1a3b_11ec_bed0_0242ac1c0002row10_col5,#T_3b03b64a_1a3b_11ec_bed0_0242ac1c0002row11_col5,#T_3b03b64a_1a3b_11ec_bed0_0242ac1c0002row12_col5{\n",
              "            background-color:  #f34a36;\n",
              "            color:  #000000;\n",
              "        }#T_3b03b64a_1a3b_11ec_bed0_0242ac1c0002row9_col2,#T_3b03b64a_1a3b_11ec_bed0_0242ac1c0002row17_col2{\n",
              "            background-color:  #fcaf93;\n",
              "            color:  #000000;\n",
              "        }#T_3b03b64a_1a3b_11ec_bed0_0242ac1c0002row10_col2{\n",
              "            background-color:  #ea362a;\n",
              "            color:  #f1f1f1;\n",
              "        }#T_3b03b64a_1a3b_11ec_bed0_0242ac1c0002row11_col2,#T_3b03b64a_1a3b_11ec_bed0_0242ac1c0002row18_col2,#T_3b03b64a_1a3b_11ec_bed0_0242ac1c0002row21_col2{\n",
              "            background-color:  #f44f39;\n",
              "            color:  #000000;\n",
              "        }#T_3b03b64a_1a3b_11ec_bed0_0242ac1c0002row13_col5,#T_3b03b64a_1a3b_11ec_bed0_0242ac1c0002row14_col5,#T_3b03b64a_1a3b_11ec_bed0_0242ac1c0002row15_col5,#T_3b03b64a_1a3b_11ec_bed0_0242ac1c0002row16_col5{\n",
              "            background-color:  #e32f27;\n",
              "            color:  #f1f1f1;\n",
              "        }#T_3b03b64a_1a3b_11ec_bed0_0242ac1c0002row15_col2{\n",
              "            background-color:  #8a0812;\n",
              "            color:  #f1f1f1;\n",
              "        }#T_3b03b64a_1a3b_11ec_bed0_0242ac1c0002row17_col5,#T_3b03b64a_1a3b_11ec_bed0_0242ac1c0002row18_col5,#T_3b03b64a_1a3b_11ec_bed0_0242ac1c0002row19_col5,#T_3b03b64a_1a3b_11ec_bed0_0242ac1c0002row20_col5{\n",
              "            background-color:  #ca181d;\n",
              "            color:  #f1f1f1;\n",
              "        }#T_3b03b64a_1a3b_11ec_bed0_0242ac1c0002row20_col2{\n",
              "            background-color:  #fdc6b0;\n",
              "            color:  #000000;\n",
              "        }#T_3b03b64a_1a3b_11ec_bed0_0242ac1c0002row21_col5,#T_3b03b64a_1a3b_11ec_bed0_0242ac1c0002row22_col5{\n",
              "            background-color:  #b11218;\n",
              "            color:  #f1f1f1;\n",
              "        }#T_3b03b64a_1a3b_11ec_bed0_0242ac1c0002row23_col5,#T_3b03b64a_1a3b_11ec_bed0_0242ac1c0002row24_col5,#T_3b03b64a_1a3b_11ec_bed0_0242ac1c0002row25_col5{\n",
              "            background-color:  #900a12;\n",
              "            color:  #f1f1f1;\n",
              "        }#T_3b03b64a_1a3b_11ec_bed0_0242ac1c0002row25_col2,#T_3b03b64a_1a3b_11ec_bed0_0242ac1c0002row26_col5{\n",
              "            background-color:  #67000d;\n",
              "            color:  #f1f1f1;\n",
              "        }</style><table id=\"T_3b03b64a_1a3b_11ec_bed0_0242ac1c0002\" ><thead>    <tr>        <th class=\"blank level0\" ></th>        <th class=\"col_heading level0 col0\" >Position</th>        <th class=\"col_heading level0 col1\" >Name</th>        <th class=\"col_heading level0 col2\" >Age</th>        <th class=\"col_heading level0 col3\" >Club</th>        <th class=\"col_heading level0 col4\" >Nationality</th>        <th class=\"col_heading level0 col5\" >Potential</th>    </tr></thead><tbody>\n",
              "                <tr>\n",
              "                        <th id=\"T_3b03b64a_1a3b_11ec_bed0_0242ac1c0002level0_row0\" class=\"row_heading level0 row0\" >601</th>\n",
              "                        <td id=\"T_3b03b64a_1a3b_11ec_bed0_0242ac1c0002row0_col0\" class=\"data row0 col0\" >LWB</td>\n",
              "                        <td id=\"T_3b03b64a_1a3b_11ec_bed0_0242ac1c0002row0_col1\" class=\"data row0 col1\" >Jonny</td>\n",
              "                        <td id=\"T_3b03b64a_1a3b_11ec_bed0_0242ac1c0002row0_col2\" class=\"data row0 col2\" >24</td>\n",
              "                        <td id=\"T_3b03b64a_1a3b_11ec_bed0_0242ac1c0002row0_col3\" class=\"data row0 col3\" >Wolverhampton Wanderers</td>\n",
              "                        <td id=\"T_3b03b64a_1a3b_11ec_bed0_0242ac1c0002row0_col4\" class=\"data row0 col4\" >Spain</td>\n",
              "                        <td id=\"T_3b03b64a_1a3b_11ec_bed0_0242ac1c0002row0_col5\" class=\"data row0 col5\" >83</td>\n",
              "            </tr>\n",
              "            <tr>\n",
              "                        <th id=\"T_3b03b64a_1a3b_11ec_bed0_0242ac1c0002level0_row1\" class=\"row_heading level0 row1\" >766</th>\n",
              "                        <td id=\"T_3b03b64a_1a3b_11ec_bed0_0242ac1c0002row1_col0\" class=\"data row1 col0\" >RWB</td>\n",
              "                        <td id=\"T_3b03b64a_1a3b_11ec_bed0_0242ac1c0002row1_col1\" class=\"data row1 col1\" >Pablo Maffeo</td>\n",
              "                        <td id=\"T_3b03b64a_1a3b_11ec_bed0_0242ac1c0002row1_col2\" class=\"data row1 col2\" >20</td>\n",
              "                        <td id=\"T_3b03b64a_1a3b_11ec_bed0_0242ac1c0002row1_col3\" class=\"data row1 col3\" >VfB Stuttgart</td>\n",
              "                        <td id=\"T_3b03b64a_1a3b_11ec_bed0_0242ac1c0002row1_col4\" class=\"data row1 col4\" >Spain</td>\n",
              "                        <td id=\"T_3b03b64a_1a3b_11ec_bed0_0242ac1c0002row1_col5\" class=\"data row1 col5\" >86</td>\n",
              "            </tr>\n",
              "            <tr>\n",
              "                        <th id=\"T_3b03b64a_1a3b_11ec_bed0_0242ac1c0002level0_row2\" class=\"row_heading level0 row2\" >171</th>\n",
              "                        <td id=\"T_3b03b64a_1a3b_11ec_bed0_0242ac1c0002row2_col0\" class=\"data row2 col0\" >RAM</td>\n",
              "                        <td id=\"T_3b03b64a_1a3b_11ec_bed0_0242ac1c0002row2_col1\" class=\"data row2 col1\" >H. Ziyech</td>\n",
              "                        <td id=\"T_3b03b64a_1a3b_11ec_bed0_0242ac1c0002row2_col2\" class=\"data row2 col2\" >25</td>\n",
              "                        <td id=\"T_3b03b64a_1a3b_11ec_bed0_0242ac1c0002row2_col3\" class=\"data row2 col3\" >Ajax</td>\n",
              "                        <td id=\"T_3b03b64a_1a3b_11ec_bed0_0242ac1c0002row2_col4\" class=\"data row2 col4\" >Morocco</td>\n",
              "                        <td id=\"T_3b03b64a_1a3b_11ec_bed0_0242ac1c0002row2_col5\" class=\"data row2 col5\" >86</td>\n",
              "            </tr>\n",
              "            <tr>\n",
              "                        <th id=\"T_3b03b64a_1a3b_11ec_bed0_0242ac1c0002level0_row3\" class=\"row_heading level0 row3\" >350</th>\n",
              "                        <td id=\"T_3b03b64a_1a3b_11ec_bed0_0242ac1c0002row3_col0\" class=\"data row3 col0\" >CF</td>\n",
              "                        <td id=\"T_3b03b64a_1a3b_11ec_bed0_0242ac1c0002row3_col1\" class=\"data row3 col1\" >A. Milik</td>\n",
              "                        <td id=\"T_3b03b64a_1a3b_11ec_bed0_0242ac1c0002row3_col2\" class=\"data row3 col2\" >24</td>\n",
              "                        <td id=\"T_3b03b64a_1a3b_11ec_bed0_0242ac1c0002row3_col3\" class=\"data row3 col3\" >Napoli</td>\n",
              "                        <td id=\"T_3b03b64a_1a3b_11ec_bed0_0242ac1c0002row3_col4\" class=\"data row3 col4\" >Poland</td>\n",
              "                        <td id=\"T_3b03b64a_1a3b_11ec_bed0_0242ac1c0002row3_col5\" class=\"data row3 col5\" >88</td>\n",
              "            </tr>\n",
              "            <tr>\n",
              "                        <th id=\"T_3b03b64a_1a3b_11ec_bed0_0242ac1c0002level0_row4\" class=\"row_heading level0 row4\" >35</th>\n",
              "                        <td id=\"T_3b03b64a_1a3b_11ec_bed0_0242ac1c0002row4_col0\" class=\"data row4 col0\" >LB</td>\n",
              "                        <td id=\"T_3b03b64a_1a3b_11ec_bed0_0242ac1c0002row4_col1\" class=\"data row4 col1\" >Marcelo</td>\n",
              "                        <td id=\"T_3b03b64a_1a3b_11ec_bed0_0242ac1c0002row4_col2\" class=\"data row4 col2\" >30</td>\n",
              "                        <td id=\"T_3b03b64a_1a3b_11ec_bed0_0242ac1c0002row4_col3\" class=\"data row4 col3\" >Real Madrid</td>\n",
              "                        <td id=\"T_3b03b64a_1a3b_11ec_bed0_0242ac1c0002row4_col4\" class=\"data row4 col4\" >Brazil</td>\n",
              "                        <td id=\"T_3b03b64a_1a3b_11ec_bed0_0242ac1c0002row4_col5\" class=\"data row4 col5\" >88</td>\n",
              "            </tr>\n",
              "            <tr>\n",
              "                        <th id=\"T_3b03b64a_1a3b_11ec_bed0_0242ac1c0002level0_row5\" class=\"row_heading level0 row5\" >247</th>\n",
              "                        <td id=\"T_3b03b64a_1a3b_11ec_bed0_0242ac1c0002row5_col0\" class=\"data row5 col0\" >RB</td>\n",
              "                        <td id=\"T_3b03b64a_1a3b_11ec_bed0_0242ac1c0002row5_col1\" class=\"data row5 col1\" >João Cancelo</td>\n",
              "                        <td id=\"T_3b03b64a_1a3b_11ec_bed0_0242ac1c0002row5_col2\" class=\"data row5 col2\" >24</td>\n",
              "                        <td id=\"T_3b03b64a_1a3b_11ec_bed0_0242ac1c0002row5_col3\" class=\"data row5 col3\" >Juventus</td>\n",
              "                        <td id=\"T_3b03b64a_1a3b_11ec_bed0_0242ac1c0002row5_col4\" class=\"data row5 col4\" >Portugal</td>\n",
              "                        <td id=\"T_3b03b64a_1a3b_11ec_bed0_0242ac1c0002row5_col5\" class=\"data row5 col5\" >88</td>\n",
              "            </tr>\n",
              "            <tr>\n",
              "                        <th id=\"T_3b03b64a_1a3b_11ec_bed0_0242ac1c0002level0_row6\" class=\"row_heading level0 row6\" >21</th>\n",
              "                        <td id=\"T_3b03b64a_1a3b_11ec_bed0_0242ac1c0002row6_col0\" class=\"data row6 col0\" >LS</td>\n",
              "                        <td id=\"T_3b03b64a_1a3b_11ec_bed0_0242ac1c0002row6_col1\" class=\"data row6 col1\" >E. Cavani</td>\n",
              "                        <td id=\"T_3b03b64a_1a3b_11ec_bed0_0242ac1c0002row6_col2\" class=\"data row6 col2\" >31</td>\n",
              "                        <td id=\"T_3b03b64a_1a3b_11ec_bed0_0242ac1c0002row6_col3\" class=\"data row6 col3\" >Paris Saint-Germain</td>\n",
              "                        <td id=\"T_3b03b64a_1a3b_11ec_bed0_0242ac1c0002row6_col4\" class=\"data row6 col4\" >Uruguay</td>\n",
              "                        <td id=\"T_3b03b64a_1a3b_11ec_bed0_0242ac1c0002row6_col5\" class=\"data row6 col5\" >89</td>\n",
              "            </tr>\n",
              "            <tr>\n",
              "                        <th id=\"T_3b03b64a_1a3b_11ec_bed0_0242ac1c0002level0_row7\" class=\"row_heading level0 row7\" >28</th>\n",
              "                        <td id=\"T_3b03b64a_1a3b_11ec_bed0_0242ac1c0002row7_col0\" class=\"data row7 col0\" >LAM</td>\n",
              "                        <td id=\"T_3b03b64a_1a3b_11ec_bed0_0242ac1c0002row7_col1\" class=\"data row7 col1\" >J. Rodríguez</td>\n",
              "                        <td id=\"T_3b03b64a_1a3b_11ec_bed0_0242ac1c0002row7_col2\" class=\"data row7 col2\" >26</td>\n",
              "                        <td id=\"T_3b03b64a_1a3b_11ec_bed0_0242ac1c0002row7_col3\" class=\"data row7 col3\" >FC Bayern München</td>\n",
              "                        <td id=\"T_3b03b64a_1a3b_11ec_bed0_0242ac1c0002row7_col4\" class=\"data row7 col4\" >Colombia</td>\n",
              "                        <td id=\"T_3b03b64a_1a3b_11ec_bed0_0242ac1c0002row7_col5\" class=\"data row7 col5\" >89</td>\n",
              "            </tr>\n",
              "            <tr>\n",
              "                        <th id=\"T_3b03b64a_1a3b_11ec_bed0_0242ac1c0002level0_row8\" class=\"row_heading level0 row8\" >27</th>\n",
              "                        <td id=\"T_3b03b64a_1a3b_11ec_bed0_0242ac1c0002row8_col0\" class=\"data row8 col0\" >CDM</td>\n",
              "                        <td id=\"T_3b03b64a_1a3b_11ec_bed0_0242ac1c0002row8_col1\" class=\"data row8 col1\" >Casemiro</td>\n",
              "                        <td id=\"T_3b03b64a_1a3b_11ec_bed0_0242ac1c0002row8_col2\" class=\"data row8 col2\" >26</td>\n",
              "                        <td id=\"T_3b03b64a_1a3b_11ec_bed0_0242ac1c0002row8_col3\" class=\"data row8 col3\" >Real Madrid</td>\n",
              "                        <td id=\"T_3b03b64a_1a3b_11ec_bed0_0242ac1c0002row8_col4\" class=\"data row8 col4\" >Brazil</td>\n",
              "                        <td id=\"T_3b03b64a_1a3b_11ec_bed0_0242ac1c0002row8_col5\" class=\"data row8 col5\" >90</td>\n",
              "            </tr>\n",
              "            <tr>\n",
              "                        <th id=\"T_3b03b64a_1a3b_11ec_bed0_0242ac1c0002level0_row9\" class=\"row_heading level0 row9\" >78</th>\n",
              "                        <td id=\"T_3b03b64a_1a3b_11ec_bed0_0242ac1c0002row9_col0\" class=\"data row9 col0\" >CM</td>\n",
              "                        <td id=\"T_3b03b64a_1a3b_11ec_bed0_0242ac1c0002row9_col1\" class=\"data row9 col1\" >S. Milinković-Savić</td>\n",
              "                        <td id=\"T_3b03b64a_1a3b_11ec_bed0_0242ac1c0002row9_col2\" class=\"data row9 col2\" >23</td>\n",
              "                        <td id=\"T_3b03b64a_1a3b_11ec_bed0_0242ac1c0002row9_col3\" class=\"data row9 col3\" >Lazio</td>\n",
              "                        <td id=\"T_3b03b64a_1a3b_11ec_bed0_0242ac1c0002row9_col4\" class=\"data row9 col4\" >Serbia</td>\n",
              "                        <td id=\"T_3b03b64a_1a3b_11ec_bed0_0242ac1c0002row9_col5\" class=\"data row9 col5\" >90</td>\n",
              "            </tr>\n",
              "            <tr>\n",
              "                        <th id=\"T_3b03b64a_1a3b_11ec_bed0_0242ac1c0002level0_row10\" class=\"row_heading level0 row10\" >11</th>\n",
              "                        <td id=\"T_3b03b64a_1a3b_11ec_bed0_0242ac1c0002row10_col0\" class=\"data row10 col0\" >LCM</td>\n",
              "                        <td id=\"T_3b03b64a_1a3b_11ec_bed0_0242ac1c0002row10_col1\" class=\"data row10 col1\" >T. Kroos</td>\n",
              "                        <td id=\"T_3b03b64a_1a3b_11ec_bed0_0242ac1c0002row10_col2\" class=\"data row10 col2\" >28</td>\n",
              "                        <td id=\"T_3b03b64a_1a3b_11ec_bed0_0242ac1c0002row10_col3\" class=\"data row10 col3\" >Real Madrid</td>\n",
              "                        <td id=\"T_3b03b64a_1a3b_11ec_bed0_0242ac1c0002row10_col4\" class=\"data row10 col4\" >Germany</td>\n",
              "                        <td id=\"T_3b03b64a_1a3b_11ec_bed0_0242ac1c0002row10_col5\" class=\"data row10 col5\" >90</td>\n",
              "            </tr>\n",
              "            <tr>\n",
              "                        <th id=\"T_3b03b64a_1a3b_11ec_bed0_0242ac1c0002level0_row11\" class=\"row_heading level0 row11\" >14</th>\n",
              "                        <td id=\"T_3b03b64a_1a3b_11ec_bed0_0242ac1c0002row11_col0\" class=\"data row11 col0\" >LDM</td>\n",
              "                        <td id=\"T_3b03b64a_1a3b_11ec_bed0_0242ac1c0002row11_col1\" class=\"data row11 col1\" >N. Kanté</td>\n",
              "                        <td id=\"T_3b03b64a_1a3b_11ec_bed0_0242ac1c0002row11_col2\" class=\"data row11 col2\" >27</td>\n",
              "                        <td id=\"T_3b03b64a_1a3b_11ec_bed0_0242ac1c0002row11_col3\" class=\"data row11 col3\" >Chelsea</td>\n",
              "                        <td id=\"T_3b03b64a_1a3b_11ec_bed0_0242ac1c0002row11_col4\" class=\"data row11 col4\" >France</td>\n",
              "                        <td id=\"T_3b03b64a_1a3b_11ec_bed0_0242ac1c0002row11_col5\" class=\"data row11 col5\" >90</td>\n",
              "            </tr>\n",
              "            <tr>\n",
              "                        <th id=\"T_3b03b64a_1a3b_11ec_bed0_0242ac1c0002level0_row12\" class=\"row_heading level0 row12\" >415</th>\n",
              "                        <td id=\"T_3b03b64a_1a3b_11ec_bed0_0242ac1c0002row12_col0\" class=\"data row12 col0\" >LM</td>\n",
              "                        <td id=\"T_3b03b64a_1a3b_11ec_bed0_0242ac1c0002row12_col1\" class=\"data row12 col1\" >H. Aouar</td>\n",
              "                        <td id=\"T_3b03b64a_1a3b_11ec_bed0_0242ac1c0002row12_col2\" class=\"data row12 col2\" >20</td>\n",
              "                        <td id=\"T_3b03b64a_1a3b_11ec_bed0_0242ac1c0002row12_col3\" class=\"data row12 col3\" >Olympique Lyonnais</td>\n",
              "                        <td id=\"T_3b03b64a_1a3b_11ec_bed0_0242ac1c0002row12_col4\" class=\"data row12 col4\" >France</td>\n",
              "                        <td id=\"T_3b03b64a_1a3b_11ec_bed0_0242ac1c0002row12_col5\" class=\"data row12 col5\" >90</td>\n",
              "            </tr>\n",
              "            <tr>\n",
              "                        <th id=\"T_3b03b64a_1a3b_11ec_bed0_0242ac1c0002level0_row13\" class=\"row_heading level0 row13\" >7</th>\n",
              "                        <td id=\"T_3b03b64a_1a3b_11ec_bed0_0242ac1c0002row13_col0\" class=\"data row13 col0\" >RS</td>\n",
              "                        <td id=\"T_3b03b64a_1a3b_11ec_bed0_0242ac1c0002row13_col1\" class=\"data row13 col1\" >L. Suárez</td>\n",
              "                        <td id=\"T_3b03b64a_1a3b_11ec_bed0_0242ac1c0002row13_col2\" class=\"data row13 col2\" >31</td>\n",
              "                        <td id=\"T_3b03b64a_1a3b_11ec_bed0_0242ac1c0002row13_col3\" class=\"data row13 col3\" >FC Barcelona</td>\n",
              "                        <td id=\"T_3b03b64a_1a3b_11ec_bed0_0242ac1c0002row13_col4\" class=\"data row13 col4\" >Uruguay</td>\n",
              "                        <td id=\"T_3b03b64a_1a3b_11ec_bed0_0242ac1c0002row13_col5\" class=\"data row13 col5\" >91</td>\n",
              "            </tr>\n",
              "            <tr>\n",
              "                        <th id=\"T_3b03b64a_1a3b_11ec_bed0_0242ac1c0002level0_row14\" class=\"row_heading level0 row14\" >45</th>\n",
              "                        <td id=\"T_3b03b64a_1a3b_11ec_bed0_0242ac1c0002row14_col0\" class=\"data row14 col0\" >RDM</td>\n",
              "                        <td id=\"T_3b03b64a_1a3b_11ec_bed0_0242ac1c0002row14_col1\" class=\"data row14 col1\" >P. Pogba</td>\n",
              "                        <td id=\"T_3b03b64a_1a3b_11ec_bed0_0242ac1c0002row14_col2\" class=\"data row14 col2\" >25</td>\n",
              "                        <td id=\"T_3b03b64a_1a3b_11ec_bed0_0242ac1c0002row14_col3\" class=\"data row14 col3\" >Manchester United</td>\n",
              "                        <td id=\"T_3b03b64a_1a3b_11ec_bed0_0242ac1c0002row14_col4\" class=\"data row14 col4\" >France</td>\n",
              "                        <td id=\"T_3b03b64a_1a3b_11ec_bed0_0242ac1c0002row14_col5\" class=\"data row14 col5\" >91</td>\n",
              "            </tr>\n",
              "            <tr>\n",
              "                        <th id=\"T_3b03b64a_1a3b_11ec_bed0_0242ac1c0002level0_row15\" class=\"row_heading level0 row15\" >8</th>\n",
              "                        <td id=\"T_3b03b64a_1a3b_11ec_bed0_0242ac1c0002row15_col0\" class=\"data row15 col0\" >RCB</td>\n",
              "                        <td id=\"T_3b03b64a_1a3b_11ec_bed0_0242ac1c0002row15_col1\" class=\"data row15 col1\" >Sergio Ramos</td>\n",
              "                        <td id=\"T_3b03b64a_1a3b_11ec_bed0_0242ac1c0002row15_col2\" class=\"data row15 col2\" >32</td>\n",
              "                        <td id=\"T_3b03b64a_1a3b_11ec_bed0_0242ac1c0002row15_col3\" class=\"data row15 col3\" >Real Madrid</td>\n",
              "                        <td id=\"T_3b03b64a_1a3b_11ec_bed0_0242ac1c0002row15_col4\" class=\"data row15 col4\" >Spain</td>\n",
              "                        <td id=\"T_3b03b64a_1a3b_11ec_bed0_0242ac1c0002row15_col5\" class=\"data row15 col5\" >91</td>\n",
              "            </tr>\n",
              "            <tr>\n",
              "                        <th id=\"T_3b03b64a_1a3b_11ec_bed0_0242ac1c0002level0_row16\" class=\"row_heading level0 row16\" >31</th>\n",
              "                        <td id=\"T_3b03b64a_1a3b_11ec_bed0_0242ac1c0002row16_col0\" class=\"data row16 col0\" >CAM</td>\n",
              "                        <td id=\"T_3b03b64a_1a3b_11ec_bed0_0242ac1c0002row16_col1\" class=\"data row16 col1\" >C. Eriksen</td>\n",
              "                        <td id=\"T_3b03b64a_1a3b_11ec_bed0_0242ac1c0002row16_col2\" class=\"data row16 col2\" >26</td>\n",
              "                        <td id=\"T_3b03b64a_1a3b_11ec_bed0_0242ac1c0002row16_col3\" class=\"data row16 col3\" >Tottenham Hotspur</td>\n",
              "                        <td id=\"T_3b03b64a_1a3b_11ec_bed0_0242ac1c0002row16_col4\" class=\"data row16 col4\" >Denmark</td>\n",
              "                        <td id=\"T_3b03b64a_1a3b_11ec_bed0_0242ac1c0002row16_col5\" class=\"data row16 col5\" >91</td>\n",
              "            </tr>\n",
              "            <tr>\n",
              "                        <th id=\"T_3b03b64a_1a3b_11ec_bed0_0242ac1c0002level0_row17\" class=\"row_heading level0 row17\" >77</th>\n",
              "                        <td id=\"T_3b03b64a_1a3b_11ec_bed0_0242ac1c0002row17_col0\" class=\"data row17 col0\" >LCB</td>\n",
              "                        <td id=\"T_3b03b64a_1a3b_11ec_bed0_0242ac1c0002row17_col1\" class=\"data row17 col1\" >M. Škriniar</td>\n",
              "                        <td id=\"T_3b03b64a_1a3b_11ec_bed0_0242ac1c0002row17_col2\" class=\"data row17 col2\" >23</td>\n",
              "                        <td id=\"T_3b03b64a_1a3b_11ec_bed0_0242ac1c0002row17_col3\" class=\"data row17 col3\" >Inter</td>\n",
              "                        <td id=\"T_3b03b64a_1a3b_11ec_bed0_0242ac1c0002row17_col4\" class=\"data row17 col4\" >Slovakia</td>\n",
              "                        <td id=\"T_3b03b64a_1a3b_11ec_bed0_0242ac1c0002row17_col5\" class=\"data row17 col5\" >92</td>\n",
              "            </tr>\n",
              "            <tr>\n",
              "                        <th id=\"T_3b03b64a_1a3b_11ec_bed0_0242ac1c0002level0_row18\" class=\"row_heading level0 row18\" >4</th>\n",
              "                        <td id=\"T_3b03b64a_1a3b_11ec_bed0_0242ac1c0002row18_col0\" class=\"data row18 col0\" >RCM</td>\n",
              "                        <td id=\"T_3b03b64a_1a3b_11ec_bed0_0242ac1c0002row18_col1\" class=\"data row18 col1\" >K. De Bruyne</td>\n",
              "                        <td id=\"T_3b03b64a_1a3b_11ec_bed0_0242ac1c0002row18_col2\" class=\"data row18 col2\" >27</td>\n",
              "                        <td id=\"T_3b03b64a_1a3b_11ec_bed0_0242ac1c0002row18_col3\" class=\"data row18 col3\" >Manchester City</td>\n",
              "                        <td id=\"T_3b03b64a_1a3b_11ec_bed0_0242ac1c0002row18_col4\" class=\"data row18 col4\" >Belgium</td>\n",
              "                        <td id=\"T_3b03b64a_1a3b_11ec_bed0_0242ac1c0002row18_col5\" class=\"data row18 col5\" >92</td>\n",
              "            </tr>\n",
              "            <tr>\n",
              "                        <th id=\"T_3b03b64a_1a3b_11ec_bed0_0242ac1c0002level0_row19\" class=\"row_heading level0 row19\" >42</th>\n",
              "                        <td id=\"T_3b03b64a_1a3b_11ec_bed0_0242ac1c0002row19_col0\" class=\"data row19 col0\" >CB</td>\n",
              "                        <td id=\"T_3b03b64a_1a3b_11ec_bed0_0242ac1c0002row19_col1\" class=\"data row19 col1\" >S. Umtiti</td>\n",
              "                        <td id=\"T_3b03b64a_1a3b_11ec_bed0_0242ac1c0002row19_col2\" class=\"data row19 col2\" >24</td>\n",
              "                        <td id=\"T_3b03b64a_1a3b_11ec_bed0_0242ac1c0002row19_col3\" class=\"data row19 col3\" >FC Barcelona</td>\n",
              "                        <td id=\"T_3b03b64a_1a3b_11ec_bed0_0242ac1c0002row19_col4\" class=\"data row19 col4\" >France</td>\n",
              "                        <td id=\"T_3b03b64a_1a3b_11ec_bed0_0242ac1c0002row19_col5\" class=\"data row19 col5\" >92</td>\n",
              "            </tr>\n",
              "            <tr>\n",
              "                        <th id=\"T_3b03b64a_1a3b_11ec_bed0_0242ac1c0002level0_row20\" class=\"row_heading level0 row20\" >79</th>\n",
              "                        <td id=\"T_3b03b64a_1a3b_11ec_bed0_0242ac1c0002row20_col0\" class=\"data row20 col0\" >RW</td>\n",
              "                        <td id=\"T_3b03b64a_1a3b_11ec_bed0_0242ac1c0002row20_col1\" class=\"data row20 col1\" >Marco Asensio</td>\n",
              "                        <td id=\"T_3b03b64a_1a3b_11ec_bed0_0242ac1c0002row20_col2\" class=\"data row20 col2\" >22</td>\n",
              "                        <td id=\"T_3b03b64a_1a3b_11ec_bed0_0242ac1c0002row20_col3\" class=\"data row20 col3\" >Real Madrid</td>\n",
              "                        <td id=\"T_3b03b64a_1a3b_11ec_bed0_0242ac1c0002row20_col4\" class=\"data row20 col4\" >Spain</td>\n",
              "                        <td id=\"T_3b03b64a_1a3b_11ec_bed0_0242ac1c0002row20_col5\" class=\"data row20 col5\" >92</td>\n",
              "            </tr>\n",
              "            <tr>\n",
              "                        <th id=\"T_3b03b64a_1a3b_11ec_bed0_0242ac1c0002level0_row21\" class=\"row_heading level0 row21\" >3</th>\n",
              "                        <td id=\"T_3b03b64a_1a3b_11ec_bed0_0242ac1c0002row21_col0\" class=\"data row21 col0\" >GK</td>\n",
              "                        <td id=\"T_3b03b64a_1a3b_11ec_bed0_0242ac1c0002row21_col1\" class=\"data row21 col1\" >De Gea</td>\n",
              "                        <td id=\"T_3b03b64a_1a3b_11ec_bed0_0242ac1c0002row21_col2\" class=\"data row21 col2\" >27</td>\n",
              "                        <td id=\"T_3b03b64a_1a3b_11ec_bed0_0242ac1c0002row21_col3\" class=\"data row21 col3\" >Manchester United</td>\n",
              "                        <td id=\"T_3b03b64a_1a3b_11ec_bed0_0242ac1c0002row21_col4\" class=\"data row21 col4\" >Spain</td>\n",
              "                        <td id=\"T_3b03b64a_1a3b_11ec_bed0_0242ac1c0002row21_col5\" class=\"data row21 col5\" >93</td>\n",
              "            </tr>\n",
              "            <tr>\n",
              "                        <th id=\"T_3b03b64a_1a3b_11ec_bed0_0242ac1c0002level0_row22\" class=\"row_heading level0 row22\" >2</th>\n",
              "                        <td id=\"T_3b03b64a_1a3b_11ec_bed0_0242ac1c0002row22_col0\" class=\"data row22 col0\" >LW</td>\n",
              "                        <td id=\"T_3b03b64a_1a3b_11ec_bed0_0242ac1c0002row22_col1\" class=\"data row22 col1\" >Neymar Jr</td>\n",
              "                        <td id=\"T_3b03b64a_1a3b_11ec_bed0_0242ac1c0002row22_col2\" class=\"data row22 col2\" >26</td>\n",
              "                        <td id=\"T_3b03b64a_1a3b_11ec_bed0_0242ac1c0002row22_col3\" class=\"data row22 col3\" >Paris Saint-Germain</td>\n",
              "                        <td id=\"T_3b03b64a_1a3b_11ec_bed0_0242ac1c0002row22_col4\" class=\"data row22 col4\" >Brazil</td>\n",
              "                        <td id=\"T_3b03b64a_1a3b_11ec_bed0_0242ac1c0002row22_col5\" class=\"data row22 col5\" >93</td>\n",
              "            </tr>\n",
              "            <tr>\n",
              "                        <th id=\"T_3b03b64a_1a3b_11ec_bed0_0242ac1c0002level0_row23\" class=\"row_heading level0 row23\" >15</th>\n",
              "                        <td id=\"T_3b03b64a_1a3b_11ec_bed0_0242ac1c0002row23_col0\" class=\"data row23 col0\" >LF</td>\n",
              "                        <td id=\"T_3b03b64a_1a3b_11ec_bed0_0242ac1c0002row23_col1\" class=\"data row23 col1\" >P. Dybala</td>\n",
              "                        <td id=\"T_3b03b64a_1a3b_11ec_bed0_0242ac1c0002row23_col2\" class=\"data row23 col2\" >24</td>\n",
              "                        <td id=\"T_3b03b64a_1a3b_11ec_bed0_0242ac1c0002row23_col3\" class=\"data row23 col3\" >Juventus</td>\n",
              "                        <td id=\"T_3b03b64a_1a3b_11ec_bed0_0242ac1c0002row23_col4\" class=\"data row23 col4\" >Argentina</td>\n",
              "                        <td id=\"T_3b03b64a_1a3b_11ec_bed0_0242ac1c0002row23_col5\" class=\"data row23 col5\" >94</td>\n",
              "            </tr>\n",
              "            <tr>\n",
              "                        <th id=\"T_3b03b64a_1a3b_11ec_bed0_0242ac1c0002level0_row24\" class=\"row_heading level0 row24\" >0</th>\n",
              "                        <td id=\"T_3b03b64a_1a3b_11ec_bed0_0242ac1c0002row24_col0\" class=\"data row24 col0\" >RF</td>\n",
              "                        <td id=\"T_3b03b64a_1a3b_11ec_bed0_0242ac1c0002row24_col1\" class=\"data row24 col1\" >L. Messi</td>\n",
              "                        <td id=\"T_3b03b64a_1a3b_11ec_bed0_0242ac1c0002row24_col2\" class=\"data row24 col2\" >31</td>\n",
              "                        <td id=\"T_3b03b64a_1a3b_11ec_bed0_0242ac1c0002row24_col3\" class=\"data row24 col3\" >FC Barcelona</td>\n",
              "                        <td id=\"T_3b03b64a_1a3b_11ec_bed0_0242ac1c0002row24_col4\" class=\"data row24 col4\" >Argentina</td>\n",
              "                        <td id=\"T_3b03b64a_1a3b_11ec_bed0_0242ac1c0002row24_col5\" class=\"data row24 col5\" >94</td>\n",
              "            </tr>\n",
              "            <tr>\n",
              "                        <th id=\"T_3b03b64a_1a3b_11ec_bed0_0242ac1c0002level0_row25\" class=\"row_heading level0 row25\" >1</th>\n",
              "                        <td id=\"T_3b03b64a_1a3b_11ec_bed0_0242ac1c0002row25_col0\" class=\"data row25 col0\" >ST</td>\n",
              "                        <td id=\"T_3b03b64a_1a3b_11ec_bed0_0242ac1c0002row25_col1\" class=\"data row25 col1\" >Cristiano Ronaldo</td>\n",
              "                        <td id=\"T_3b03b64a_1a3b_11ec_bed0_0242ac1c0002row25_col2\" class=\"data row25 col2\" >33</td>\n",
              "                        <td id=\"T_3b03b64a_1a3b_11ec_bed0_0242ac1c0002row25_col3\" class=\"data row25 col3\" >Juventus</td>\n",
              "                        <td id=\"T_3b03b64a_1a3b_11ec_bed0_0242ac1c0002row25_col4\" class=\"data row25 col4\" >Portugal</td>\n",
              "                        <td id=\"T_3b03b64a_1a3b_11ec_bed0_0242ac1c0002row25_col5\" class=\"data row25 col5\" >94</td>\n",
              "            </tr>\n",
              "            <tr>\n",
              "                        <th id=\"T_3b03b64a_1a3b_11ec_bed0_0242ac1c0002level0_row26\" class=\"row_heading level0 row26\" >25</th>\n",
              "                        <td id=\"T_3b03b64a_1a3b_11ec_bed0_0242ac1c0002row26_col0\" class=\"data row26 col0\" >RM</td>\n",
              "                        <td id=\"T_3b03b64a_1a3b_11ec_bed0_0242ac1c0002row26_col1\" class=\"data row26 col1\" >K. Mbappé</td>\n",
              "                        <td id=\"T_3b03b64a_1a3b_11ec_bed0_0242ac1c0002row26_col2\" class=\"data row26 col2\" >19</td>\n",
              "                        <td id=\"T_3b03b64a_1a3b_11ec_bed0_0242ac1c0002row26_col3\" class=\"data row26 col3\" >Paris Saint-Germain</td>\n",
              "                        <td id=\"T_3b03b64a_1a3b_11ec_bed0_0242ac1c0002row26_col4\" class=\"data row26 col4\" >France</td>\n",
              "                        <td id=\"T_3b03b64a_1a3b_11ec_bed0_0242ac1c0002row26_col5\" class=\"data row26 col5\" >95</td>\n",
              "            </tr>\n",
              "    </tbody></table>"
            ],
            "text/plain": [
              "<pandas.io.formats.style.Styler at 0x7fbd6dd87410>"
            ]
          },
          "metadata": {},
          "execution_count": 3
        }
      ]
    },
    {
      "cell_type": "markdown",
      "metadata": {
        "id": "NKetma-zQMHy"
      },
      "source": [
        "* We have grouped the data at Position level and identified the best player from each position who is having maximum Potential and identified Name, Age, Club and Nationality of the player.\n",
        "* From this we have observed that the maximum available Potential values is 95 and least is 83.\n",
        "* K. Mbappé is the youngest player among them and Cristiano Ronaldo being the eldest."
      ]
    },
    {
      "cell_type": "markdown",
      "metadata": {
        "id": "nsdRMXMZnDTq"
      },
      "source": [
        "<h4>Find out  what type of variable you are dealing with. This will help you find the right visualization method for that variable.</p>\n"
      ]
    },
    {
      "cell_type": "code",
      "metadata": {
        "id": "nOd1XdJEnDTt",
        "colab": {
          "base_uri": "https://localhost:8080/"
        },
        "outputId": "46e13f6c-29d8-4cfd-c3eb-a8802a1eb811"
      },
      "source": [
        "ps1_data.info()"
      ],
      "execution_count": 4,
      "outputs": [
        {
          "output_type": "stream",
          "name": "stdout",
          "text": [
            "<class 'pandas.core.frame.DataFrame'>\n",
            "RangeIndex: 16684 entries, 0 to 16683\n",
            "Data columns (total 89 columns):\n",
            " #   Column                    Non-Null Count  Dtype  \n",
            "---  ------                    --------------  -----  \n",
            " 0   Unnamed: 0                16684 non-null  int64  \n",
            " 1   ID                        16684 non-null  int64  \n",
            " 2   Name                      16684 non-null  object \n",
            " 3   Age                       16684 non-null  int64  \n",
            " 4   Photo                     16684 non-null  object \n",
            " 5   Nationality               16684 non-null  object \n",
            " 6   Flag                      16684 non-null  object \n",
            " 7   Overall                   16684 non-null  int64  \n",
            " 8   Potential                 16684 non-null  int64  \n",
            " 9   Club                      16455 non-null  object \n",
            " 10  Club Logo                 16684 non-null  object \n",
            " 11  Value                     16684 non-null  object \n",
            " 12  Wage                      16684 non-null  object \n",
            " 13  Special                   16684 non-null  int64  \n",
            " 14  Preferred Foot            16636 non-null  object \n",
            " 15  International Reputation  16636 non-null  float64\n",
            " 16  Weak Foot                 16636 non-null  float64\n",
            " 17  Skill Moves               16636 non-null  float64\n",
            " 18  Work Rate                 16636 non-null  object \n",
            " 19  Body Type                 16636 non-null  object \n",
            " 20  Real Face                 16636 non-null  object \n",
            " 21  Position                  16629 non-null  object \n",
            " 22  Jersey Number             16629 non-null  float64\n",
            " 23  Joined                    15182 non-null  object \n",
            " 24  Loaned From               1225 non-null   object \n",
            " 25  Contract Valid Until      16407 non-null  object \n",
            " 26  Height                    16636 non-null  object \n",
            " 27  Weight                    16636 non-null  object \n",
            " 28  LS                        14921 non-null  object \n",
            " 29  ST                        14921 non-null  object \n",
            " 30  RS                        14921 non-null  object \n",
            " 31  LW                        14921 non-null  object \n",
            " 32  LF                        14921 non-null  object \n",
            " 33  CF                        14921 non-null  object \n",
            " 34  RF                        14921 non-null  object \n",
            " 35  RW                        14921 non-null  object \n",
            " 36  LAM                       14921 non-null  object \n",
            " 37  CAM                       14921 non-null  object \n",
            " 38  RAM                       14921 non-null  object \n",
            " 39  LM                        14921 non-null  object \n",
            " 40  LCM                       14921 non-null  object \n",
            " 41  CM                        14921 non-null  object \n",
            " 42  RCM                       14921 non-null  object \n",
            " 43  RM                        14921 non-null  object \n",
            " 44  LWB                       14921 non-null  object \n",
            " 45  LDM                       14921 non-null  object \n",
            " 46  CDM                       14921 non-null  object \n",
            " 47  RDM                       14921 non-null  object \n",
            " 48  RWB                       14921 non-null  object \n",
            " 49  LB                        14921 non-null  object \n",
            " 50  LCB                       14921 non-null  object \n",
            " 51  CB                        14921 non-null  object \n",
            " 52  RCB                       14921 non-null  object \n",
            " 53  RB                        14921 non-null  object \n",
            " 54  Crossing                  16636 non-null  float64\n",
            " 55  Finishing                 16636 non-null  float64\n",
            " 56  HeadingAccuracy           16636 non-null  float64\n",
            " 57  ShortPassing              16636 non-null  float64\n",
            " 58  Volleys                   16636 non-null  float64\n",
            " 59  Dribbling                 16636 non-null  float64\n",
            " 60  Curve                     16636 non-null  float64\n",
            " 61  FKAccuracy                16636 non-null  float64\n",
            " 62  LongPassing               16636 non-null  float64\n",
            " 63  BallControl               16636 non-null  float64\n",
            " 64  Acceleration              16636 non-null  float64\n",
            " 65  SprintSpeed               16636 non-null  float64\n",
            " 66  Agility                   16636 non-null  float64\n",
            " 67  Reactions                 16636 non-null  float64\n",
            " 68  Balance                   16635 non-null  float64\n",
            " 69  ShotPower                 16635 non-null  float64\n",
            " 70  Jumping                   16635 non-null  float64\n",
            " 71  Stamina                   16635 non-null  float64\n",
            " 72  Strength                  16635 non-null  float64\n",
            " 73  LongShots                 16635 non-null  float64\n",
            " 74  Aggression                16635 non-null  float64\n",
            " 75  Interceptions             16635 non-null  float64\n",
            " 76  Positioning               16635 non-null  float64\n",
            " 77  Vision                    16635 non-null  float64\n",
            " 78  Penalties                 16635 non-null  float64\n",
            " 79  Composure                 16635 non-null  float64\n",
            " 80  Marking                   16635 non-null  float64\n",
            " 81  StandingTackle            16635 non-null  float64\n",
            " 82  SlidingTackle             16635 non-null  float64\n",
            " 83  GKDiving                  16635 non-null  float64\n",
            " 84  GKHandling                16635 non-null  float64\n",
            " 85  GKKicking                 16635 non-null  float64\n",
            " 86  GKPositioning             16635 non-null  float64\n",
            " 87  GKReflexes                16635 non-null  float64\n",
            " 88  Release Clause            15174 non-null  object \n",
            "dtypes: float64(38), int64(6), object(45)\n",
            "memory usage: 11.3+ MB\n"
          ]
        }
      ]
    },
    {
      "cell_type": "markdown",
      "metadata": {
        "id": "hlS_gWSWnDTv"
      },
      "source": [
        "# Visualisation Questions - 2 X 5 = 10 Marks"
      ]
    },
    {
      "cell_type": "markdown",
      "metadata": {
        "id": "ratiPWMcnDTx"
      },
      "source": [
        "### Question 1\n",
        "<h4>a. Fill the missing value for the continous variables with Mean(average) for proper data visualization\n",
        "<br><br>\n",
        "    b. Preprocess height - convert data in  format xx'xx to xx.xx Remove \"nan\" with Mode and convert the column to numerical\n",
        "<br><br>    \n",
        "    c. Preprocess weight - convert data in  format xxlbs to xx Remove \"nan\" with Mode and convert the column to numerical\n",
        "<h4>d. Do Univariate anlaysis for outliers detection for height and weight\n",
        "<br><br>\n",
        "<h4>Write the python code in the below cell to create appropriate visual to perform the above task.\n",
        "<h4> Answer in markdown cells below the visual\n",
        "<br><br>\n",
        "<ol>\n",
        "    <li>Summarise your findings from the visual</li>\n",
        "    <li>The reason for selecting the chart type you did</li>\n",
        "    <li>Mention the pre-attentive attributes used.(atleast 2)</li>\n",
        "    <li>Mention the gestalt principles used.(atleast 2)</li>\n",
        "</ol>"
      ]
    },
    {
      "cell_type": "markdown",
      "metadata": {
        "id": "QrfRzqRDe1S2"
      },
      "source": [
        "**a. To fill in the missing value for the continous variables with Mean(average) for proper data visualization**\n",
        "\n",
        "Note: Filling of missing values of continuous variables is shown after part (c) of the question as some of the columns of object type have numerical values enclosed as strings "
      ]
    },
    {
      "cell_type": "markdown",
      "metadata": {
        "id": "Jgql8b7Mg59x"
      },
      "source": [
        "**Preprocesssing**"
      ]
    },
    {
      "cell_type": "code",
      "metadata": {
        "id": "y_HuRfLdnDT1",
        "colab": {
          "base_uri": "https://localhost:8080/"
        },
        "outputId": "85ab130b-8b65-474e-98a2-c0d969a021e7"
      },
      "source": [
        "# Separate Numerical and Categorical Variables\n",
        "\n",
        "numeric_col=[]\n",
        "cat_col=[]\n",
        "for col in ps1_data.columns:\n",
        "    if ps1_data[\"{}\".format(col)].dtype in [\"float64\",\"int64\"]:\n",
        "        numeric_col.append(col)\n",
        "    else:\n",
        "        cat_col.append(col)\n",
        "print(\"Number of Numeric columns : {}\".format(len(numeric_col)))\n",
        "print(\"Number of Categorical columns : {}\".format(len(cat_col)))\n",
        "print(\"Total number of columns : {}\".format(len(numeric_col)+len(cat_col)))"
      ],
      "execution_count": 5,
      "outputs": [
        {
          "output_type": "stream",
          "name": "stdout",
          "text": [
            "Number of Numeric columns : 44\n",
            "Number of Categorical columns : 45\n",
            "Total number of columns : 89\n"
          ]
        }
      ]
    },
    {
      "cell_type": "code",
      "metadata": {
        "colab": {
          "base_uri": "https://localhost:8080/"
        },
        "id": "dzd9POQXnYLj",
        "outputId": "7d13d358-d5a4-4bbb-96e2-6aac81a80b8c"
      },
      "source": [
        "# Numerical column : Count of Numeric values\n",
        "print(\"Numeric Columns: Number of unique values\")\n",
        "for col in numeric_col:\n",
        "    print(col,\" : \",ps1_data[\"{}\".format(col)].nunique())\n",
        "    # Count of unique values less than 10 indicates it may be a categorical column\n",
        "    if ps1_data[\"{}\".format(col)].nunique() <10: \n",
        "        print(\"Unique values \",\" : \",ps1_data[\"{}\".format(col)].unique())"
      ],
      "execution_count": 6,
      "outputs": [
        {
          "output_type": "stream",
          "name": "stdout",
          "text": [
            "Numeric Columns: Number of unique values\n",
            "Unnamed: 0  :  16684\n",
            "ID  :  16684\n",
            "Age  :  28\n",
            "Overall  :  38\n",
            "Potential  :  40\n",
            "Special  :  1357\n",
            "International Reputation  :  5\n",
            "Unique values   :  [ 5.  4.  3.  2.  1. nan]\n",
            "Weak Foot  :  5\n",
            "Unique values   :  [ 4.  5.  3.  2.  1. nan]\n",
            "Skill Moves  :  5\n",
            "Unique values   :  [ 4.  5.  1.  3.  2. nan]\n",
            "Jersey Number  :  99\n",
            "Crossing  :  89\n",
            "Finishing  :  93\n",
            "HeadingAccuracy  :  91\n",
            "ShortPassing  :  85\n",
            "Volleys  :  87\n",
            "Dribbling  :  94\n",
            "Curve  :  89\n",
            "FKAccuracy  :  90\n",
            "LongPassing  :  84\n",
            "BallControl  :  90\n",
            "Acceleration  :  86\n",
            "SprintSpeed  :  84\n",
            "Agility  :  80\n",
            "Reactions  :  65\n",
            "Balance  :  81\n",
            "ShotPower  :  92\n",
            "Jumping  :  72\n",
            "Stamina  :  85\n",
            "Strength  :  74\n",
            "LongShots  :  92\n",
            "Aggression  :  85\n",
            "Interceptions  :  87\n",
            "Positioning  :  94\n",
            "Vision  :  85\n",
            "Penalties  :  87\n",
            "Composure  :  84\n",
            "Marking  :  92\n",
            "StandingTackle  :  90\n",
            "SlidingTackle  :  88\n",
            "GKDiving  :  66\n",
            "GKHandling  :  67\n",
            "GKKicking  :  78\n",
            "GKPositioning  :  71\n",
            "GKReflexes  :  69\n"
          ]
        }
      ]
    },
    {
      "cell_type": "code",
      "metadata": {
        "id": "8DuOKTOWtBV0",
        "colab": {
          "base_uri": "https://localhost:8080/"
        },
        "outputId": "4130023a-5a15-455b-ee96-c63ab37a27c2"
      },
      "source": [
        "# Categorical column : Count of unique values and unique values\n",
        "print(\"Categorical Columns: Number of unique values\")\n",
        "for col in cat_col:\n",
        "  print(col,\" : \",ps1_data[\"{}\".format(col)].nunique())\n",
        "  print(\"Unique values \",\" : \",ps1_data[\"{}\".format(col)].sample(5).unique())"
      ],
      "execution_count": 7,
      "outputs": [
        {
          "output_type": "stream",
          "name": "stdout",
          "text": [
            "Categorical Columns: Number of unique values\n",
            "Name  :  15799\n",
            "Unique values   :  ['G. Pereiro' 'M. Besler' 'S. Pinas' 'A. Ceesay' 'A. Absalem']\n",
            "Photo  :  16684\n",
            "Unique values   :  ['https://cdn.sofifa.org/players/4/19/163631.png'\n",
            " 'https://cdn.sofifa.org/players/4/19/224582.png'\n",
            " 'https://cdn.sofifa.org/players/4/19/246037.png'\n",
            " 'https://cdn.sofifa.org/players/4/19/211840.png'\n",
            " 'https://cdn.sofifa.org/players/4/19/181457.png']\n",
            "Nationality  :  162\n",
            "Unique values   :  ['Spain' 'France' 'United States' 'Germany' 'Argentina']\n",
            "Flag  :  162\n",
            "Unique values   :  ['https://cdn.sofifa.org/flags/54.png'\n",
            " 'https://cdn.sofifa.org/flags/21.png'\n",
            " 'https://cdn.sofifa.org/flags/35.png'\n",
            " 'https://cdn.sofifa.org/flags/103.png']\n",
            "Club  :  651\n",
            "Unique values   :  ['Minnesota United FC' 'FC Bayern München' 'Junior FC' 'Lecce'\n",
            " 'Zagłębie Lubin']\n",
            "Club Logo  :  678\n",
            "Unique values   :  ['https://cdn.sofifa.org/teams/2/light/110770.png'\n",
            " 'https://cdn.sofifa.org/teams/2/light/172.png'\n",
            " 'https://cdn.sofifa.org/teams/2/light/614.png'\n",
            " 'https://cdn.sofifa.org/teams/2/light/101102.png'\n",
            " 'https://cdn.sofifa.org/teams/2/light/110373.png']\n",
            "Value  :  217\n",
            "Unique values   :  ['€675K' '€2.8M' '€825K' '€110K' '€600K']\n",
            "Wage  :  144\n",
            "Unique values   :  ['€13K' '€46K' '€2K' '€20K' '€1K']\n",
            "Preferred Foot  :  2\n",
            "Unique values   :  ['Right']\n",
            "Work Rate  :  9\n",
            "Unique values   :  ['High/ Medium' 'Medium/ Low' 'Medium/ High' 'Medium/ Medium']\n",
            "Body Type  :  10\n",
            "Unique values   :  ['Normal' 'Stocky']\n",
            "Real Face  :  2\n",
            "Unique values   :  ['No']\n",
            "Position  :  27\n",
            "Unique values   :  ['RCB' 'LM' 'RB' 'CDM' 'RW']\n",
            "Joined  :  1658\n",
            "Unique values   :  ['Jan 4, 2018' 'Jul 21, 2015' 'Jan 1, 2016' 'Aug 30, 2016' 'Aug 17, 2016']\n",
            "Loaned From  :  338\n",
            "Unique values   :  ['West Ham United' nan 'Barnsley']\n",
            "Contract Valid Until  :  34\n",
            "Unique values   :  ['2019' '2020' '2021']\n",
            "Height  :  21\n",
            "Unique values   :  [\"5'11\" \"6'1\" \"6'4\" \"6'2\"]\n",
            "Weight  :  57\n",
            "Unique values   :  ['154lbs' '187lbs' '163lbs' '185lbs' '165lbs']\n",
            "LS  :  93\n",
            "Unique values   :  ['54+2' '61+2' '70+2' '69+2']\n",
            "ST  :  93\n",
            "Unique values   :  ['42+2' '50+2' '56+2' '81+3']\n",
            "RS  :  93\n",
            "Unique values   :  ['69+3' '40+2' '68+2' nan '56+2']\n",
            "LW  :  104\n",
            "Unique values   :  ['52+2' '58+2' '64+2' '40+2']\n",
            "LF  :  102\n",
            "Unique values   :  [nan '57+2' '72+2' '58+2']\n",
            "CF  :  102\n",
            "Unique values   :  ['69+2' '54+2' '56+2' '59+2' '65+2']\n",
            "RF  :  102\n",
            "Unique values   :  ['54+2' '69+2' '66+2' '58+2' nan]\n",
            "RW  :  104\n",
            "Unique values   :  ['58+2' '59+2' '64+2' '54+2' '68+2']\n",
            "LAM  :  100\n",
            "Unique values   :  ['74+2' '62+2' '59+2' '64+2' '42+2']\n",
            "CAM  :  100\n",
            "Unique values   :  ['54+2' '56+2' '64+2' '57+2']\n",
            "RAM  :  100\n",
            "Unique values   :  [nan '69+3' '69+2' '68+2']\n",
            "LM  :  99\n",
            "Unique values   :  ['73+2' '58+2' '46+2' '59+2' '64+2']\n",
            "LCM  :  90\n",
            "Unique values   :  ['74+2' '49+2' '65+2' nan '61+2']\n",
            "CM  :  90\n",
            "Unique values   :  ['55+2' '69+2' nan '60+2']\n",
            "RCM  :  90\n",
            "Unique values   :  [nan '56+2' '61+2' '60+2']\n",
            "RM  :  99\n",
            "Unique values   :  ['65+2' '62+2' nan '66+2' '61+2']\n",
            "LWB  :  91\n",
            "Unique values   :  ['57+2' nan '58+2' '67+2' '53+2']\n",
            "LDM  :  96\n",
            "Unique values   :  ['48+2' '40+2' '41+2' '68+2' '58+2']\n",
            "CDM  :  96\n",
            "Unique values   :  ['59+2' '60+2' '49+3' '48+2' nan]\n",
            "RDM  :  96\n",
            "Unique values   :  ['61+2' '64+2' nan '56+2' '83+3']\n",
            "RWB  :  91\n",
            "Unique values   :  ['49+2' '59+2' nan '57+2' '71+2']\n",
            "LB  :  94\n",
            "Unique values   :  ['69+2' '62+2' '52+2' '74+2' '47+2']\n",
            "LCB  :  107\n",
            "Unique values   :  ['78+3' '54+2' '52+2' '60+2' '61+2']\n",
            "CB  :  107\n",
            "Unique values   :  ['61+2' '62+2' '31+2' nan '64+2']\n",
            "RCB  :  107\n",
            "Unique values   :  ['64+2' '32+2' '58+2' '74+2' nan]\n",
            "RB  :  94\n",
            "Unique values   :  ['46+2' '54+2' '56+2' '66+2' '67+2']\n",
            "Release Clause  :  1183\n",
            "Unique values   :  [nan '€8.2M' '€105K' '€13.3M' '€761K']\n"
          ]
        }
      ]
    },
    {
      "cell_type": "code",
      "metadata": {
        "colab": {
          "base_uri": "https://localhost:8080/"
        },
        "id": "MF-bEyKvzgt1",
        "outputId": "a100aa5c-4528-435d-b726-1c38b413a16a"
      },
      "source": [
        "# Count of null values of all categorical columns\n",
        "print(\"Categorical columns   Number of null values\")\n",
        "ps1_data[cat_col].isnull().sum()"
      ],
      "execution_count": 8,
      "outputs": [
        {
          "output_type": "stream",
          "name": "stdout",
          "text": [
            "Categorical columns   Number of null values\n"
          ]
        },
        {
          "output_type": "execute_result",
          "data": {
            "text/plain": [
              "Name                        0\n",
              "Photo                       0\n",
              "Nationality                 0\n",
              "Flag                        0\n",
              "Club                      229\n",
              "Club Logo                   0\n",
              "Value                       0\n",
              "Wage                        0\n",
              "Preferred Foot             48\n",
              "Work Rate                  48\n",
              "Body Type                  48\n",
              "Real Face                  48\n",
              "Position                   55\n",
              "Joined                   1502\n",
              "Loaned From             15459\n",
              "Contract Valid Until      277\n",
              "Height                     48\n",
              "Weight                     48\n",
              "LS                       1763\n",
              "ST                       1763\n",
              "RS                       1763\n",
              "LW                       1763\n",
              "LF                       1763\n",
              "CF                       1763\n",
              "RF                       1763\n",
              "RW                       1763\n",
              "LAM                      1763\n",
              "CAM                      1763\n",
              "RAM                      1763\n",
              "LM                       1763\n",
              "LCM                      1763\n",
              "CM                       1763\n",
              "RCM                      1763\n",
              "RM                       1763\n",
              "LWB                      1763\n",
              "LDM                      1763\n",
              "CDM                      1763\n",
              "RDM                      1763\n",
              "RWB                      1763\n",
              "LB                       1763\n",
              "LCB                      1763\n",
              "CB                       1763\n",
              "RCB                      1763\n",
              "RB                       1763\n",
              "Release Clause           1510\n",
              "dtype: int64"
            ]
          },
          "metadata": {},
          "execution_count": 8
        }
      ]
    },
    {
      "cell_type": "code",
      "metadata": {
        "colab": {
          "base_uri": "https://localhost:8080/"
        },
        "id": "m86ljt2aiP5M",
        "outputId": "ccfd3984-bfc3-41f8-c13b-7c4c13ffb786"
      },
      "source": [
        "# Count of null values of all numerical columns\n",
        "print(\"Numerical columns   Number of null values\")\n",
        "ps1_data[numeric_col].isnull().sum()"
      ],
      "execution_count": 9,
      "outputs": [
        {
          "output_type": "stream",
          "name": "stdout",
          "text": [
            "Numerical columns   Number of null values\n"
          ]
        },
        {
          "output_type": "execute_result",
          "data": {
            "text/plain": [
              "Unnamed: 0                   0\n",
              "ID                           0\n",
              "Age                          0\n",
              "Overall                      0\n",
              "Potential                    0\n",
              "Special                      0\n",
              "International Reputation    48\n",
              "Weak Foot                   48\n",
              "Skill Moves                 48\n",
              "Jersey Number               55\n",
              "Crossing                    48\n",
              "Finishing                   48\n",
              "HeadingAccuracy             48\n",
              "ShortPassing                48\n",
              "Volleys                     48\n",
              "Dribbling                   48\n",
              "Curve                       48\n",
              "FKAccuracy                  48\n",
              "LongPassing                 48\n",
              "BallControl                 48\n",
              "Acceleration                48\n",
              "SprintSpeed                 48\n",
              "Agility                     48\n",
              "Reactions                   48\n",
              "Balance                     49\n",
              "ShotPower                   49\n",
              "Jumping                     49\n",
              "Stamina                     49\n",
              "Strength                    49\n",
              "LongShots                   49\n",
              "Aggression                  49\n",
              "Interceptions               49\n",
              "Positioning                 49\n",
              "Vision                      49\n",
              "Penalties                   49\n",
              "Composure                   49\n",
              "Marking                     49\n",
              "StandingTackle              49\n",
              "SlidingTackle               49\n",
              "GKDiving                    49\n",
              "GKHandling                  49\n",
              "GKKicking                   49\n",
              "GKPositioning               49\n",
              "GKReflexes                  49\n",
              "dtype: int64"
            ]
          },
          "metadata": {},
          "execution_count": 9
        }
      ]
    },
    {
      "cell_type": "code",
      "metadata": {
        "colab": {
          "base_uri": "https://localhost:8080/",
          "height": 389
        },
        "id": "ji0-F3-mjTCk",
        "outputId": "1167e750-af25-4800-81ae-11e4ae58110c"
      },
      "source": [
        "ps1_data.head()"
      ],
      "execution_count": 10,
      "outputs": [
        {
          "output_type": "execute_result",
          "data": {
            "text/html": [
              "<div>\n",
              "<style scoped>\n",
              "    .dataframe tbody tr th:only-of-type {\n",
              "        vertical-align: middle;\n",
              "    }\n",
              "\n",
              "    .dataframe tbody tr th {\n",
              "        vertical-align: top;\n",
              "    }\n",
              "\n",
              "    .dataframe thead th {\n",
              "        text-align: right;\n",
              "    }\n",
              "</style>\n",
              "<table border=\"1\" class=\"dataframe\">\n",
              "  <thead>\n",
              "    <tr style=\"text-align: right;\">\n",
              "      <th></th>\n",
              "      <th>Unnamed: 0</th>\n",
              "      <th>ID</th>\n",
              "      <th>Name</th>\n",
              "      <th>Age</th>\n",
              "      <th>Photo</th>\n",
              "      <th>Nationality</th>\n",
              "      <th>Flag</th>\n",
              "      <th>Overall</th>\n",
              "      <th>Potential</th>\n",
              "      <th>Club</th>\n",
              "      <th>Club Logo</th>\n",
              "      <th>Value</th>\n",
              "      <th>Wage</th>\n",
              "      <th>Special</th>\n",
              "      <th>Preferred Foot</th>\n",
              "      <th>International Reputation</th>\n",
              "      <th>Weak Foot</th>\n",
              "      <th>Skill Moves</th>\n",
              "      <th>Work Rate</th>\n",
              "      <th>Body Type</th>\n",
              "      <th>Real Face</th>\n",
              "      <th>Position</th>\n",
              "      <th>Jersey Number</th>\n",
              "      <th>Joined</th>\n",
              "      <th>Loaned From</th>\n",
              "      <th>Contract Valid Until</th>\n",
              "      <th>Height</th>\n",
              "      <th>Weight</th>\n",
              "      <th>LS</th>\n",
              "      <th>ST</th>\n",
              "      <th>RS</th>\n",
              "      <th>LW</th>\n",
              "      <th>LF</th>\n",
              "      <th>CF</th>\n",
              "      <th>RF</th>\n",
              "      <th>RW</th>\n",
              "      <th>LAM</th>\n",
              "      <th>CAM</th>\n",
              "      <th>RAM</th>\n",
              "      <th>LM</th>\n",
              "      <th>...</th>\n",
              "      <th>LB</th>\n",
              "      <th>LCB</th>\n",
              "      <th>CB</th>\n",
              "      <th>RCB</th>\n",
              "      <th>RB</th>\n",
              "      <th>Crossing</th>\n",
              "      <th>Finishing</th>\n",
              "      <th>HeadingAccuracy</th>\n",
              "      <th>ShortPassing</th>\n",
              "      <th>Volleys</th>\n",
              "      <th>Dribbling</th>\n",
              "      <th>Curve</th>\n",
              "      <th>FKAccuracy</th>\n",
              "      <th>LongPassing</th>\n",
              "      <th>BallControl</th>\n",
              "      <th>Acceleration</th>\n",
              "      <th>SprintSpeed</th>\n",
              "      <th>Agility</th>\n",
              "      <th>Reactions</th>\n",
              "      <th>Balance</th>\n",
              "      <th>ShotPower</th>\n",
              "      <th>Jumping</th>\n",
              "      <th>Stamina</th>\n",
              "      <th>Strength</th>\n",
              "      <th>LongShots</th>\n",
              "      <th>Aggression</th>\n",
              "      <th>Interceptions</th>\n",
              "      <th>Positioning</th>\n",
              "      <th>Vision</th>\n",
              "      <th>Penalties</th>\n",
              "      <th>Composure</th>\n",
              "      <th>Marking</th>\n",
              "      <th>StandingTackle</th>\n",
              "      <th>SlidingTackle</th>\n",
              "      <th>GKDiving</th>\n",
              "      <th>GKHandling</th>\n",
              "      <th>GKKicking</th>\n",
              "      <th>GKPositioning</th>\n",
              "      <th>GKReflexes</th>\n",
              "      <th>Release Clause</th>\n",
              "    </tr>\n",
              "  </thead>\n",
              "  <tbody>\n",
              "    <tr>\n",
              "      <th>0</th>\n",
              "      <td>0</td>\n",
              "      <td>158023</td>\n",
              "      <td>L. Messi</td>\n",
              "      <td>31</td>\n",
              "      <td>https://cdn.sofifa.org/players/4/19/158023.png</td>\n",
              "      <td>Argentina</td>\n",
              "      <td>https://cdn.sofifa.org/flags/52.png</td>\n",
              "      <td>94</td>\n",
              "      <td>94</td>\n",
              "      <td>FC Barcelona</td>\n",
              "      <td>https://cdn.sofifa.org/teams/2/light/241.png</td>\n",
              "      <td>€110.5M</td>\n",
              "      <td>€565K</td>\n",
              "      <td>2202</td>\n",
              "      <td>Left</td>\n",
              "      <td>5.0</td>\n",
              "      <td>4.0</td>\n",
              "      <td>4.0</td>\n",
              "      <td>Medium/ Medium</td>\n",
              "      <td>Messi</td>\n",
              "      <td>Yes</td>\n",
              "      <td>RF</td>\n",
              "      <td>10.0</td>\n",
              "      <td>Jul 1, 2004</td>\n",
              "      <td>NaN</td>\n",
              "      <td>2021</td>\n",
              "      <td>5'7</td>\n",
              "      <td>159lbs</td>\n",
              "      <td>88+2</td>\n",
              "      <td>88+2</td>\n",
              "      <td>88+2</td>\n",
              "      <td>92+2</td>\n",
              "      <td>93+2</td>\n",
              "      <td>93+2</td>\n",
              "      <td>93+2</td>\n",
              "      <td>92+2</td>\n",
              "      <td>93+2</td>\n",
              "      <td>93+2</td>\n",
              "      <td>93+2</td>\n",
              "      <td>91+2</td>\n",
              "      <td>...</td>\n",
              "      <td>59+2</td>\n",
              "      <td>47+2</td>\n",
              "      <td>47+2</td>\n",
              "      <td>47+2</td>\n",
              "      <td>59+2</td>\n",
              "      <td>84.0</td>\n",
              "      <td>95.0</td>\n",
              "      <td>70.0</td>\n",
              "      <td>90.0</td>\n",
              "      <td>86.0</td>\n",
              "      <td>97.0</td>\n",
              "      <td>93.0</td>\n",
              "      <td>94.0</td>\n",
              "      <td>87.0</td>\n",
              "      <td>96.0</td>\n",
              "      <td>91.0</td>\n",
              "      <td>86.0</td>\n",
              "      <td>91.0</td>\n",
              "      <td>95.0</td>\n",
              "      <td>95.0</td>\n",
              "      <td>85.0</td>\n",
              "      <td>68.0</td>\n",
              "      <td>72.0</td>\n",
              "      <td>59.0</td>\n",
              "      <td>94.0</td>\n",
              "      <td>48.0</td>\n",
              "      <td>22.0</td>\n",
              "      <td>94.0</td>\n",
              "      <td>94.0</td>\n",
              "      <td>75.0</td>\n",
              "      <td>96.0</td>\n",
              "      <td>33.0</td>\n",
              "      <td>28.0</td>\n",
              "      <td>26.0</td>\n",
              "      <td>6.0</td>\n",
              "      <td>11.0</td>\n",
              "      <td>15.0</td>\n",
              "      <td>14.0</td>\n",
              "      <td>8.0</td>\n",
              "      <td>€226.5M</td>\n",
              "    </tr>\n",
              "    <tr>\n",
              "      <th>1</th>\n",
              "      <td>1</td>\n",
              "      <td>20801</td>\n",
              "      <td>Cristiano Ronaldo</td>\n",
              "      <td>33</td>\n",
              "      <td>https://cdn.sofifa.org/players/4/19/20801.png</td>\n",
              "      <td>Portugal</td>\n",
              "      <td>https://cdn.sofifa.org/flags/38.png</td>\n",
              "      <td>94</td>\n",
              "      <td>94</td>\n",
              "      <td>Juventus</td>\n",
              "      <td>https://cdn.sofifa.org/teams/2/light/45.png</td>\n",
              "      <td>€77M</td>\n",
              "      <td>€405K</td>\n",
              "      <td>2228</td>\n",
              "      <td>Right</td>\n",
              "      <td>5.0</td>\n",
              "      <td>4.0</td>\n",
              "      <td>5.0</td>\n",
              "      <td>High/ Low</td>\n",
              "      <td>C. Ronaldo</td>\n",
              "      <td>Yes</td>\n",
              "      <td>ST</td>\n",
              "      <td>7.0</td>\n",
              "      <td>Jul 10, 2018</td>\n",
              "      <td>NaN</td>\n",
              "      <td>2022</td>\n",
              "      <td>6'2</td>\n",
              "      <td>183lbs</td>\n",
              "      <td>91+3</td>\n",
              "      <td>91+3</td>\n",
              "      <td>91+3</td>\n",
              "      <td>89+3</td>\n",
              "      <td>90+3</td>\n",
              "      <td>90+3</td>\n",
              "      <td>90+3</td>\n",
              "      <td>89+3</td>\n",
              "      <td>88+3</td>\n",
              "      <td>88+3</td>\n",
              "      <td>88+3</td>\n",
              "      <td>88+3</td>\n",
              "      <td>...</td>\n",
              "      <td>61+3</td>\n",
              "      <td>53+3</td>\n",
              "      <td>53+3</td>\n",
              "      <td>53+3</td>\n",
              "      <td>61+3</td>\n",
              "      <td>84.0</td>\n",
              "      <td>94.0</td>\n",
              "      <td>89.0</td>\n",
              "      <td>81.0</td>\n",
              "      <td>87.0</td>\n",
              "      <td>88.0</td>\n",
              "      <td>81.0</td>\n",
              "      <td>76.0</td>\n",
              "      <td>77.0</td>\n",
              "      <td>94.0</td>\n",
              "      <td>89.0</td>\n",
              "      <td>91.0</td>\n",
              "      <td>87.0</td>\n",
              "      <td>96.0</td>\n",
              "      <td>70.0</td>\n",
              "      <td>95.0</td>\n",
              "      <td>95.0</td>\n",
              "      <td>88.0</td>\n",
              "      <td>79.0</td>\n",
              "      <td>93.0</td>\n",
              "      <td>63.0</td>\n",
              "      <td>29.0</td>\n",
              "      <td>95.0</td>\n",
              "      <td>82.0</td>\n",
              "      <td>85.0</td>\n",
              "      <td>95.0</td>\n",
              "      <td>28.0</td>\n",
              "      <td>31.0</td>\n",
              "      <td>23.0</td>\n",
              "      <td>7.0</td>\n",
              "      <td>11.0</td>\n",
              "      <td>15.0</td>\n",
              "      <td>14.0</td>\n",
              "      <td>11.0</td>\n",
              "      <td>€127.1M</td>\n",
              "    </tr>\n",
              "    <tr>\n",
              "      <th>2</th>\n",
              "      <td>2</td>\n",
              "      <td>190871</td>\n",
              "      <td>Neymar Jr</td>\n",
              "      <td>26</td>\n",
              "      <td>https://cdn.sofifa.org/players/4/19/190871.png</td>\n",
              "      <td>Brazil</td>\n",
              "      <td>https://cdn.sofifa.org/flags/54.png</td>\n",
              "      <td>92</td>\n",
              "      <td>93</td>\n",
              "      <td>Paris Saint-Germain</td>\n",
              "      <td>https://cdn.sofifa.org/teams/2/light/73.png</td>\n",
              "      <td>€118.5M</td>\n",
              "      <td>€290K</td>\n",
              "      <td>2143</td>\n",
              "      <td>Right</td>\n",
              "      <td>5.0</td>\n",
              "      <td>5.0</td>\n",
              "      <td>5.0</td>\n",
              "      <td>High/ Medium</td>\n",
              "      <td>Neymar</td>\n",
              "      <td>Yes</td>\n",
              "      <td>LW</td>\n",
              "      <td>10.0</td>\n",
              "      <td>Aug 3, 2017</td>\n",
              "      <td>NaN</td>\n",
              "      <td>2022</td>\n",
              "      <td>5'9</td>\n",
              "      <td>150lbs</td>\n",
              "      <td>84+3</td>\n",
              "      <td>84+3</td>\n",
              "      <td>84+3</td>\n",
              "      <td>89+3</td>\n",
              "      <td>89+3</td>\n",
              "      <td>89+3</td>\n",
              "      <td>89+3</td>\n",
              "      <td>89+3</td>\n",
              "      <td>89+3</td>\n",
              "      <td>89+3</td>\n",
              "      <td>89+3</td>\n",
              "      <td>88+3</td>\n",
              "      <td>...</td>\n",
              "      <td>60+3</td>\n",
              "      <td>47+3</td>\n",
              "      <td>47+3</td>\n",
              "      <td>47+3</td>\n",
              "      <td>60+3</td>\n",
              "      <td>79.0</td>\n",
              "      <td>87.0</td>\n",
              "      <td>62.0</td>\n",
              "      <td>84.0</td>\n",
              "      <td>84.0</td>\n",
              "      <td>96.0</td>\n",
              "      <td>88.0</td>\n",
              "      <td>87.0</td>\n",
              "      <td>78.0</td>\n",
              "      <td>95.0</td>\n",
              "      <td>94.0</td>\n",
              "      <td>90.0</td>\n",
              "      <td>96.0</td>\n",
              "      <td>94.0</td>\n",
              "      <td>84.0</td>\n",
              "      <td>80.0</td>\n",
              "      <td>61.0</td>\n",
              "      <td>81.0</td>\n",
              "      <td>49.0</td>\n",
              "      <td>82.0</td>\n",
              "      <td>56.0</td>\n",
              "      <td>36.0</td>\n",
              "      <td>89.0</td>\n",
              "      <td>87.0</td>\n",
              "      <td>81.0</td>\n",
              "      <td>94.0</td>\n",
              "      <td>27.0</td>\n",
              "      <td>24.0</td>\n",
              "      <td>33.0</td>\n",
              "      <td>9.0</td>\n",
              "      <td>9.0</td>\n",
              "      <td>15.0</td>\n",
              "      <td>15.0</td>\n",
              "      <td>11.0</td>\n",
              "      <td>€228.1M</td>\n",
              "    </tr>\n",
              "    <tr>\n",
              "      <th>3</th>\n",
              "      <td>3</td>\n",
              "      <td>193080</td>\n",
              "      <td>De Gea</td>\n",
              "      <td>27</td>\n",
              "      <td>https://cdn.sofifa.org/players/4/19/193080.png</td>\n",
              "      <td>Spain</td>\n",
              "      <td>https://cdn.sofifa.org/flags/45.png</td>\n",
              "      <td>91</td>\n",
              "      <td>93</td>\n",
              "      <td>Manchester United</td>\n",
              "      <td>https://cdn.sofifa.org/teams/2/light/11.png</td>\n",
              "      <td>€72M</td>\n",
              "      <td>€260K</td>\n",
              "      <td>1471</td>\n",
              "      <td>Right</td>\n",
              "      <td>4.0</td>\n",
              "      <td>3.0</td>\n",
              "      <td>1.0</td>\n",
              "      <td>Medium/ Medium</td>\n",
              "      <td>Lean</td>\n",
              "      <td>Yes</td>\n",
              "      <td>GK</td>\n",
              "      <td>1.0</td>\n",
              "      <td>Jul 1, 2011</td>\n",
              "      <td>NaN</td>\n",
              "      <td>2020</td>\n",
              "      <td>6'4</td>\n",
              "      <td>168lbs</td>\n",
              "      <td>NaN</td>\n",
              "      <td>NaN</td>\n",
              "      <td>NaN</td>\n",
              "      <td>NaN</td>\n",
              "      <td>NaN</td>\n",
              "      <td>NaN</td>\n",
              "      <td>NaN</td>\n",
              "      <td>NaN</td>\n",
              "      <td>NaN</td>\n",
              "      <td>NaN</td>\n",
              "      <td>NaN</td>\n",
              "      <td>NaN</td>\n",
              "      <td>...</td>\n",
              "      <td>NaN</td>\n",
              "      <td>NaN</td>\n",
              "      <td>NaN</td>\n",
              "      <td>NaN</td>\n",
              "      <td>NaN</td>\n",
              "      <td>17.0</td>\n",
              "      <td>13.0</td>\n",
              "      <td>21.0</td>\n",
              "      <td>50.0</td>\n",
              "      <td>13.0</td>\n",
              "      <td>18.0</td>\n",
              "      <td>21.0</td>\n",
              "      <td>19.0</td>\n",
              "      <td>51.0</td>\n",
              "      <td>42.0</td>\n",
              "      <td>57.0</td>\n",
              "      <td>58.0</td>\n",
              "      <td>60.0</td>\n",
              "      <td>90.0</td>\n",
              "      <td>43.0</td>\n",
              "      <td>31.0</td>\n",
              "      <td>67.0</td>\n",
              "      <td>43.0</td>\n",
              "      <td>64.0</td>\n",
              "      <td>12.0</td>\n",
              "      <td>38.0</td>\n",
              "      <td>30.0</td>\n",
              "      <td>12.0</td>\n",
              "      <td>68.0</td>\n",
              "      <td>40.0</td>\n",
              "      <td>68.0</td>\n",
              "      <td>15.0</td>\n",
              "      <td>21.0</td>\n",
              "      <td>13.0</td>\n",
              "      <td>90.0</td>\n",
              "      <td>85.0</td>\n",
              "      <td>87.0</td>\n",
              "      <td>88.0</td>\n",
              "      <td>94.0</td>\n",
              "      <td>€138.6M</td>\n",
              "    </tr>\n",
              "    <tr>\n",
              "      <th>4</th>\n",
              "      <td>4</td>\n",
              "      <td>192985</td>\n",
              "      <td>K. De Bruyne</td>\n",
              "      <td>27</td>\n",
              "      <td>https://cdn.sofifa.org/players/4/19/192985.png</td>\n",
              "      <td>Belgium</td>\n",
              "      <td>https://cdn.sofifa.org/flags/7.png</td>\n",
              "      <td>91</td>\n",
              "      <td>92</td>\n",
              "      <td>Manchester City</td>\n",
              "      <td>https://cdn.sofifa.org/teams/2/light/10.png</td>\n",
              "      <td>€102M</td>\n",
              "      <td>€355K</td>\n",
              "      <td>2281</td>\n",
              "      <td>Right</td>\n",
              "      <td>4.0</td>\n",
              "      <td>5.0</td>\n",
              "      <td>4.0</td>\n",
              "      <td>High/ High</td>\n",
              "      <td>Normal</td>\n",
              "      <td>Yes</td>\n",
              "      <td>RCM</td>\n",
              "      <td>7.0</td>\n",
              "      <td>Aug 30, 2015</td>\n",
              "      <td>NaN</td>\n",
              "      <td>2023</td>\n",
              "      <td>5'11</td>\n",
              "      <td>154lbs</td>\n",
              "      <td>82+3</td>\n",
              "      <td>82+3</td>\n",
              "      <td>82+3</td>\n",
              "      <td>87+3</td>\n",
              "      <td>87+3</td>\n",
              "      <td>87+3</td>\n",
              "      <td>87+3</td>\n",
              "      <td>87+3</td>\n",
              "      <td>88+3</td>\n",
              "      <td>88+3</td>\n",
              "      <td>88+3</td>\n",
              "      <td>88+3</td>\n",
              "      <td>...</td>\n",
              "      <td>73+3</td>\n",
              "      <td>66+3</td>\n",
              "      <td>66+3</td>\n",
              "      <td>66+3</td>\n",
              "      <td>73+3</td>\n",
              "      <td>93.0</td>\n",
              "      <td>82.0</td>\n",
              "      <td>55.0</td>\n",
              "      <td>92.0</td>\n",
              "      <td>82.0</td>\n",
              "      <td>86.0</td>\n",
              "      <td>85.0</td>\n",
              "      <td>83.0</td>\n",
              "      <td>91.0</td>\n",
              "      <td>91.0</td>\n",
              "      <td>78.0</td>\n",
              "      <td>76.0</td>\n",
              "      <td>79.0</td>\n",
              "      <td>91.0</td>\n",
              "      <td>77.0</td>\n",
              "      <td>91.0</td>\n",
              "      <td>63.0</td>\n",
              "      <td>90.0</td>\n",
              "      <td>75.0</td>\n",
              "      <td>91.0</td>\n",
              "      <td>76.0</td>\n",
              "      <td>61.0</td>\n",
              "      <td>87.0</td>\n",
              "      <td>94.0</td>\n",
              "      <td>79.0</td>\n",
              "      <td>88.0</td>\n",
              "      <td>68.0</td>\n",
              "      <td>58.0</td>\n",
              "      <td>51.0</td>\n",
              "      <td>15.0</td>\n",
              "      <td>13.0</td>\n",
              "      <td>5.0</td>\n",
              "      <td>10.0</td>\n",
              "      <td>13.0</td>\n",
              "      <td>€196.4M</td>\n",
              "    </tr>\n",
              "  </tbody>\n",
              "</table>\n",
              "<p>5 rows × 89 columns</p>\n",
              "</div>"
            ],
            "text/plain": [
              "   Unnamed: 0      ID  ... GKReflexes  Release Clause\n",
              "0           0  158023  ...        8.0         €226.5M\n",
              "1           1   20801  ...       11.0         €127.1M\n",
              "2           2  190871  ...       11.0         €228.1M\n",
              "3           3  193080  ...       94.0         €138.6M\n",
              "4           4  192985  ...       13.0         €196.4M\n",
              "\n",
              "[5 rows x 89 columns]"
            ]
          },
          "metadata": {},
          "execution_count": 10
        }
      ]
    },
    {
      "cell_type": "markdown",
      "metadata": {
        "id": "AEpI4lnUj0TY"
      },
      "source": [
        "Converting available numerical values in categorical columns to numeric columns"
      ]
    },
    {
      "cell_type": "code",
      "metadata": {
        "id": "BzlSbfFNKS_Q"
      },
      "source": [
        "# Creating a custom function to convert units into numbers\n",
        "\n",
        "def remove_custom(col_data):\n",
        "  mult_fact=[]\n",
        "  for val in col_data:\n",
        "      if val[-1]==\"K\":\n",
        "          mult_fact.append(float(val[0:-1])*1000)\n",
        "      elif val[-1]==\"M\":\n",
        "          mult_fact.append(float(val[0:-1])*1000000)\n",
        "      elif val.isdigit():\n",
        "          mult_fact.append(float(val))\n",
        "      else:\n",
        "          mult_fact.append(\"NaN\")\n",
        "  return mult_fact"
      ],
      "execution_count": 11,
      "outputs": []
    },
    {
      "cell_type": "code",
      "metadata": {
        "colab": {
          "base_uri": "https://localhost:8080/"
        },
        "id": "NKSeSR5DOm5d",
        "outputId": "a76288d2-e4ab-4823-e414-e493b82f57dc"
      },
      "source": [
        "ps1_data[\"Release Clause\"].fillna(\"NaN\", inplace=True)\n",
        "print(\"Number of missing Values in Release Clause:{}\".format(ps1_data[\"Release Clause\"].isnull().sum()))\n",
        "ps1_data[\"Release Clause\"].isnull().sum()"
      ],
      "execution_count": 12,
      "outputs": [
        {
          "output_type": "stream",
          "name": "stdout",
          "text": [
            "Number of missing Values in Release Clause:0\n"
          ]
        },
        {
          "output_type": "execute_result",
          "data": {
            "text/plain": [
              "0"
            ]
          },
          "metadata": {},
          "execution_count": 12
        }
      ]
    },
    {
      "cell_type": "code",
      "metadata": {
        "id": "sZ6bQXykkvED",
        "colab": {
          "base_uri": "https://localhost:8080/"
        },
        "outputId": "f6556d26-2dda-4b2f-b7bc-04827a3560bf"
      },
      "source": [
        "# Replacing \"€\" with empty character in categorical columns\n",
        "\n",
        "cat_num_col=[]\n",
        "for col in cat_col:\n",
        "  if str(ps1_data[col][0]).startswith(\"€\"):\n",
        "    print(col)\n",
        "    cat_num_col.append(col)\n",
        "    ps1_data[col] = ps1_data[col].str.replace(\"€\",\"\")\n",
        "    ps1_data[col] = remove_custom(ps1_data[col])\n",
        "    print(ps1_data[col][0])"
      ],
      "execution_count": 13,
      "outputs": [
        {
          "output_type": "stream",
          "name": "stdout",
          "text": [
            "Value\n",
            "110500000.0\n",
            "Wage\n",
            "565000.0\n",
            "Release Clause\n",
            "226500000.0\n"
          ]
        }
      ]
    },
    {
      "cell_type": "code",
      "metadata": {
        "colab": {
          "base_uri": "https://localhost:8080/"
        },
        "id": "QDJ-UPCYOZ5a",
        "outputId": "958fa868-6771-4163-a3b8-8f02beb8844b"
      },
      "source": [
        "ps1_data[cat_num_col].dtypes"
      ],
      "execution_count": 14,
      "outputs": [
        {
          "output_type": "execute_result",
          "data": {
            "text/plain": [
              "Value             float64\n",
              "Wage              float64\n",
              "Release Clause     object\n",
              "dtype: object"
            ]
          },
          "metadata": {},
          "execution_count": 14
        }
      ]
    },
    {
      "cell_type": "code",
      "metadata": {
        "colab": {
          "base_uri": "https://localhost:8080/",
          "height": 389
        },
        "id": "w9IB7jf6PHME",
        "outputId": "f5a4ae88-6bf3-416b-c89a-8042d2ac6fe1"
      },
      "source": [
        "ps1_data.head()"
      ],
      "execution_count": 15,
      "outputs": [
        {
          "output_type": "execute_result",
          "data": {
            "text/html": [
              "<div>\n",
              "<style scoped>\n",
              "    .dataframe tbody tr th:only-of-type {\n",
              "        vertical-align: middle;\n",
              "    }\n",
              "\n",
              "    .dataframe tbody tr th {\n",
              "        vertical-align: top;\n",
              "    }\n",
              "\n",
              "    .dataframe thead th {\n",
              "        text-align: right;\n",
              "    }\n",
              "</style>\n",
              "<table border=\"1\" class=\"dataframe\">\n",
              "  <thead>\n",
              "    <tr style=\"text-align: right;\">\n",
              "      <th></th>\n",
              "      <th>Unnamed: 0</th>\n",
              "      <th>ID</th>\n",
              "      <th>Name</th>\n",
              "      <th>Age</th>\n",
              "      <th>Photo</th>\n",
              "      <th>Nationality</th>\n",
              "      <th>Flag</th>\n",
              "      <th>Overall</th>\n",
              "      <th>Potential</th>\n",
              "      <th>Club</th>\n",
              "      <th>Club Logo</th>\n",
              "      <th>Value</th>\n",
              "      <th>Wage</th>\n",
              "      <th>Special</th>\n",
              "      <th>Preferred Foot</th>\n",
              "      <th>International Reputation</th>\n",
              "      <th>Weak Foot</th>\n",
              "      <th>Skill Moves</th>\n",
              "      <th>Work Rate</th>\n",
              "      <th>Body Type</th>\n",
              "      <th>Real Face</th>\n",
              "      <th>Position</th>\n",
              "      <th>Jersey Number</th>\n",
              "      <th>Joined</th>\n",
              "      <th>Loaned From</th>\n",
              "      <th>Contract Valid Until</th>\n",
              "      <th>Height</th>\n",
              "      <th>Weight</th>\n",
              "      <th>LS</th>\n",
              "      <th>ST</th>\n",
              "      <th>RS</th>\n",
              "      <th>LW</th>\n",
              "      <th>LF</th>\n",
              "      <th>CF</th>\n",
              "      <th>RF</th>\n",
              "      <th>RW</th>\n",
              "      <th>LAM</th>\n",
              "      <th>CAM</th>\n",
              "      <th>RAM</th>\n",
              "      <th>LM</th>\n",
              "      <th>...</th>\n",
              "      <th>LB</th>\n",
              "      <th>LCB</th>\n",
              "      <th>CB</th>\n",
              "      <th>RCB</th>\n",
              "      <th>RB</th>\n",
              "      <th>Crossing</th>\n",
              "      <th>Finishing</th>\n",
              "      <th>HeadingAccuracy</th>\n",
              "      <th>ShortPassing</th>\n",
              "      <th>Volleys</th>\n",
              "      <th>Dribbling</th>\n",
              "      <th>Curve</th>\n",
              "      <th>FKAccuracy</th>\n",
              "      <th>LongPassing</th>\n",
              "      <th>BallControl</th>\n",
              "      <th>Acceleration</th>\n",
              "      <th>SprintSpeed</th>\n",
              "      <th>Agility</th>\n",
              "      <th>Reactions</th>\n",
              "      <th>Balance</th>\n",
              "      <th>ShotPower</th>\n",
              "      <th>Jumping</th>\n",
              "      <th>Stamina</th>\n",
              "      <th>Strength</th>\n",
              "      <th>LongShots</th>\n",
              "      <th>Aggression</th>\n",
              "      <th>Interceptions</th>\n",
              "      <th>Positioning</th>\n",
              "      <th>Vision</th>\n",
              "      <th>Penalties</th>\n",
              "      <th>Composure</th>\n",
              "      <th>Marking</th>\n",
              "      <th>StandingTackle</th>\n",
              "      <th>SlidingTackle</th>\n",
              "      <th>GKDiving</th>\n",
              "      <th>GKHandling</th>\n",
              "      <th>GKKicking</th>\n",
              "      <th>GKPositioning</th>\n",
              "      <th>GKReflexes</th>\n",
              "      <th>Release Clause</th>\n",
              "    </tr>\n",
              "  </thead>\n",
              "  <tbody>\n",
              "    <tr>\n",
              "      <th>0</th>\n",
              "      <td>0</td>\n",
              "      <td>158023</td>\n",
              "      <td>L. Messi</td>\n",
              "      <td>31</td>\n",
              "      <td>https://cdn.sofifa.org/players/4/19/158023.png</td>\n",
              "      <td>Argentina</td>\n",
              "      <td>https://cdn.sofifa.org/flags/52.png</td>\n",
              "      <td>94</td>\n",
              "      <td>94</td>\n",
              "      <td>FC Barcelona</td>\n",
              "      <td>https://cdn.sofifa.org/teams/2/light/241.png</td>\n",
              "      <td>110500000.0</td>\n",
              "      <td>565000.0</td>\n",
              "      <td>2202</td>\n",
              "      <td>Left</td>\n",
              "      <td>5.0</td>\n",
              "      <td>4.0</td>\n",
              "      <td>4.0</td>\n",
              "      <td>Medium/ Medium</td>\n",
              "      <td>Messi</td>\n",
              "      <td>Yes</td>\n",
              "      <td>RF</td>\n",
              "      <td>10.0</td>\n",
              "      <td>Jul 1, 2004</td>\n",
              "      <td>NaN</td>\n",
              "      <td>2021</td>\n",
              "      <td>5'7</td>\n",
              "      <td>159lbs</td>\n",
              "      <td>88+2</td>\n",
              "      <td>88+2</td>\n",
              "      <td>88+2</td>\n",
              "      <td>92+2</td>\n",
              "      <td>93+2</td>\n",
              "      <td>93+2</td>\n",
              "      <td>93+2</td>\n",
              "      <td>92+2</td>\n",
              "      <td>93+2</td>\n",
              "      <td>93+2</td>\n",
              "      <td>93+2</td>\n",
              "      <td>91+2</td>\n",
              "      <td>...</td>\n",
              "      <td>59+2</td>\n",
              "      <td>47+2</td>\n",
              "      <td>47+2</td>\n",
              "      <td>47+2</td>\n",
              "      <td>59+2</td>\n",
              "      <td>84.0</td>\n",
              "      <td>95.0</td>\n",
              "      <td>70.0</td>\n",
              "      <td>90.0</td>\n",
              "      <td>86.0</td>\n",
              "      <td>97.0</td>\n",
              "      <td>93.0</td>\n",
              "      <td>94.0</td>\n",
              "      <td>87.0</td>\n",
              "      <td>96.0</td>\n",
              "      <td>91.0</td>\n",
              "      <td>86.0</td>\n",
              "      <td>91.0</td>\n",
              "      <td>95.0</td>\n",
              "      <td>95.0</td>\n",
              "      <td>85.0</td>\n",
              "      <td>68.0</td>\n",
              "      <td>72.0</td>\n",
              "      <td>59.0</td>\n",
              "      <td>94.0</td>\n",
              "      <td>48.0</td>\n",
              "      <td>22.0</td>\n",
              "      <td>94.0</td>\n",
              "      <td>94.0</td>\n",
              "      <td>75.0</td>\n",
              "      <td>96.0</td>\n",
              "      <td>33.0</td>\n",
              "      <td>28.0</td>\n",
              "      <td>26.0</td>\n",
              "      <td>6.0</td>\n",
              "      <td>11.0</td>\n",
              "      <td>15.0</td>\n",
              "      <td>14.0</td>\n",
              "      <td>8.0</td>\n",
              "      <td>2.265e+08</td>\n",
              "    </tr>\n",
              "    <tr>\n",
              "      <th>1</th>\n",
              "      <td>1</td>\n",
              "      <td>20801</td>\n",
              "      <td>Cristiano Ronaldo</td>\n",
              "      <td>33</td>\n",
              "      <td>https://cdn.sofifa.org/players/4/19/20801.png</td>\n",
              "      <td>Portugal</td>\n",
              "      <td>https://cdn.sofifa.org/flags/38.png</td>\n",
              "      <td>94</td>\n",
              "      <td>94</td>\n",
              "      <td>Juventus</td>\n",
              "      <td>https://cdn.sofifa.org/teams/2/light/45.png</td>\n",
              "      <td>77000000.0</td>\n",
              "      <td>405000.0</td>\n",
              "      <td>2228</td>\n",
              "      <td>Right</td>\n",
              "      <td>5.0</td>\n",
              "      <td>4.0</td>\n",
              "      <td>5.0</td>\n",
              "      <td>High/ Low</td>\n",
              "      <td>C. Ronaldo</td>\n",
              "      <td>Yes</td>\n",
              "      <td>ST</td>\n",
              "      <td>7.0</td>\n",
              "      <td>Jul 10, 2018</td>\n",
              "      <td>NaN</td>\n",
              "      <td>2022</td>\n",
              "      <td>6'2</td>\n",
              "      <td>183lbs</td>\n",
              "      <td>91+3</td>\n",
              "      <td>91+3</td>\n",
              "      <td>91+3</td>\n",
              "      <td>89+3</td>\n",
              "      <td>90+3</td>\n",
              "      <td>90+3</td>\n",
              "      <td>90+3</td>\n",
              "      <td>89+3</td>\n",
              "      <td>88+3</td>\n",
              "      <td>88+3</td>\n",
              "      <td>88+3</td>\n",
              "      <td>88+3</td>\n",
              "      <td>...</td>\n",
              "      <td>61+3</td>\n",
              "      <td>53+3</td>\n",
              "      <td>53+3</td>\n",
              "      <td>53+3</td>\n",
              "      <td>61+3</td>\n",
              "      <td>84.0</td>\n",
              "      <td>94.0</td>\n",
              "      <td>89.0</td>\n",
              "      <td>81.0</td>\n",
              "      <td>87.0</td>\n",
              "      <td>88.0</td>\n",
              "      <td>81.0</td>\n",
              "      <td>76.0</td>\n",
              "      <td>77.0</td>\n",
              "      <td>94.0</td>\n",
              "      <td>89.0</td>\n",
              "      <td>91.0</td>\n",
              "      <td>87.0</td>\n",
              "      <td>96.0</td>\n",
              "      <td>70.0</td>\n",
              "      <td>95.0</td>\n",
              "      <td>95.0</td>\n",
              "      <td>88.0</td>\n",
              "      <td>79.0</td>\n",
              "      <td>93.0</td>\n",
              "      <td>63.0</td>\n",
              "      <td>29.0</td>\n",
              "      <td>95.0</td>\n",
              "      <td>82.0</td>\n",
              "      <td>85.0</td>\n",
              "      <td>95.0</td>\n",
              "      <td>28.0</td>\n",
              "      <td>31.0</td>\n",
              "      <td>23.0</td>\n",
              "      <td>7.0</td>\n",
              "      <td>11.0</td>\n",
              "      <td>15.0</td>\n",
              "      <td>14.0</td>\n",
              "      <td>11.0</td>\n",
              "      <td>1.271e+08</td>\n",
              "    </tr>\n",
              "    <tr>\n",
              "      <th>2</th>\n",
              "      <td>2</td>\n",
              "      <td>190871</td>\n",
              "      <td>Neymar Jr</td>\n",
              "      <td>26</td>\n",
              "      <td>https://cdn.sofifa.org/players/4/19/190871.png</td>\n",
              "      <td>Brazil</td>\n",
              "      <td>https://cdn.sofifa.org/flags/54.png</td>\n",
              "      <td>92</td>\n",
              "      <td>93</td>\n",
              "      <td>Paris Saint-Germain</td>\n",
              "      <td>https://cdn.sofifa.org/teams/2/light/73.png</td>\n",
              "      <td>118500000.0</td>\n",
              "      <td>290000.0</td>\n",
              "      <td>2143</td>\n",
              "      <td>Right</td>\n",
              "      <td>5.0</td>\n",
              "      <td>5.0</td>\n",
              "      <td>5.0</td>\n",
              "      <td>High/ Medium</td>\n",
              "      <td>Neymar</td>\n",
              "      <td>Yes</td>\n",
              "      <td>LW</td>\n",
              "      <td>10.0</td>\n",
              "      <td>Aug 3, 2017</td>\n",
              "      <td>NaN</td>\n",
              "      <td>2022</td>\n",
              "      <td>5'9</td>\n",
              "      <td>150lbs</td>\n",
              "      <td>84+3</td>\n",
              "      <td>84+3</td>\n",
              "      <td>84+3</td>\n",
              "      <td>89+3</td>\n",
              "      <td>89+3</td>\n",
              "      <td>89+3</td>\n",
              "      <td>89+3</td>\n",
              "      <td>89+3</td>\n",
              "      <td>89+3</td>\n",
              "      <td>89+3</td>\n",
              "      <td>89+3</td>\n",
              "      <td>88+3</td>\n",
              "      <td>...</td>\n",
              "      <td>60+3</td>\n",
              "      <td>47+3</td>\n",
              "      <td>47+3</td>\n",
              "      <td>47+3</td>\n",
              "      <td>60+3</td>\n",
              "      <td>79.0</td>\n",
              "      <td>87.0</td>\n",
              "      <td>62.0</td>\n",
              "      <td>84.0</td>\n",
              "      <td>84.0</td>\n",
              "      <td>96.0</td>\n",
              "      <td>88.0</td>\n",
              "      <td>87.0</td>\n",
              "      <td>78.0</td>\n",
              "      <td>95.0</td>\n",
              "      <td>94.0</td>\n",
              "      <td>90.0</td>\n",
              "      <td>96.0</td>\n",
              "      <td>94.0</td>\n",
              "      <td>84.0</td>\n",
              "      <td>80.0</td>\n",
              "      <td>61.0</td>\n",
              "      <td>81.0</td>\n",
              "      <td>49.0</td>\n",
              "      <td>82.0</td>\n",
              "      <td>56.0</td>\n",
              "      <td>36.0</td>\n",
              "      <td>89.0</td>\n",
              "      <td>87.0</td>\n",
              "      <td>81.0</td>\n",
              "      <td>94.0</td>\n",
              "      <td>27.0</td>\n",
              "      <td>24.0</td>\n",
              "      <td>33.0</td>\n",
              "      <td>9.0</td>\n",
              "      <td>9.0</td>\n",
              "      <td>15.0</td>\n",
              "      <td>15.0</td>\n",
              "      <td>11.0</td>\n",
              "      <td>2.281e+08</td>\n",
              "    </tr>\n",
              "    <tr>\n",
              "      <th>3</th>\n",
              "      <td>3</td>\n",
              "      <td>193080</td>\n",
              "      <td>De Gea</td>\n",
              "      <td>27</td>\n",
              "      <td>https://cdn.sofifa.org/players/4/19/193080.png</td>\n",
              "      <td>Spain</td>\n",
              "      <td>https://cdn.sofifa.org/flags/45.png</td>\n",
              "      <td>91</td>\n",
              "      <td>93</td>\n",
              "      <td>Manchester United</td>\n",
              "      <td>https://cdn.sofifa.org/teams/2/light/11.png</td>\n",
              "      <td>72000000.0</td>\n",
              "      <td>260000.0</td>\n",
              "      <td>1471</td>\n",
              "      <td>Right</td>\n",
              "      <td>4.0</td>\n",
              "      <td>3.0</td>\n",
              "      <td>1.0</td>\n",
              "      <td>Medium/ Medium</td>\n",
              "      <td>Lean</td>\n",
              "      <td>Yes</td>\n",
              "      <td>GK</td>\n",
              "      <td>1.0</td>\n",
              "      <td>Jul 1, 2011</td>\n",
              "      <td>NaN</td>\n",
              "      <td>2020</td>\n",
              "      <td>6'4</td>\n",
              "      <td>168lbs</td>\n",
              "      <td>NaN</td>\n",
              "      <td>NaN</td>\n",
              "      <td>NaN</td>\n",
              "      <td>NaN</td>\n",
              "      <td>NaN</td>\n",
              "      <td>NaN</td>\n",
              "      <td>NaN</td>\n",
              "      <td>NaN</td>\n",
              "      <td>NaN</td>\n",
              "      <td>NaN</td>\n",
              "      <td>NaN</td>\n",
              "      <td>NaN</td>\n",
              "      <td>...</td>\n",
              "      <td>NaN</td>\n",
              "      <td>NaN</td>\n",
              "      <td>NaN</td>\n",
              "      <td>NaN</td>\n",
              "      <td>NaN</td>\n",
              "      <td>17.0</td>\n",
              "      <td>13.0</td>\n",
              "      <td>21.0</td>\n",
              "      <td>50.0</td>\n",
              "      <td>13.0</td>\n",
              "      <td>18.0</td>\n",
              "      <td>21.0</td>\n",
              "      <td>19.0</td>\n",
              "      <td>51.0</td>\n",
              "      <td>42.0</td>\n",
              "      <td>57.0</td>\n",
              "      <td>58.0</td>\n",
              "      <td>60.0</td>\n",
              "      <td>90.0</td>\n",
              "      <td>43.0</td>\n",
              "      <td>31.0</td>\n",
              "      <td>67.0</td>\n",
              "      <td>43.0</td>\n",
              "      <td>64.0</td>\n",
              "      <td>12.0</td>\n",
              "      <td>38.0</td>\n",
              "      <td>30.0</td>\n",
              "      <td>12.0</td>\n",
              "      <td>68.0</td>\n",
              "      <td>40.0</td>\n",
              "      <td>68.0</td>\n",
              "      <td>15.0</td>\n",
              "      <td>21.0</td>\n",
              "      <td>13.0</td>\n",
              "      <td>90.0</td>\n",
              "      <td>85.0</td>\n",
              "      <td>87.0</td>\n",
              "      <td>88.0</td>\n",
              "      <td>94.0</td>\n",
              "      <td>1.386e+08</td>\n",
              "    </tr>\n",
              "    <tr>\n",
              "      <th>4</th>\n",
              "      <td>4</td>\n",
              "      <td>192985</td>\n",
              "      <td>K. De Bruyne</td>\n",
              "      <td>27</td>\n",
              "      <td>https://cdn.sofifa.org/players/4/19/192985.png</td>\n",
              "      <td>Belgium</td>\n",
              "      <td>https://cdn.sofifa.org/flags/7.png</td>\n",
              "      <td>91</td>\n",
              "      <td>92</td>\n",
              "      <td>Manchester City</td>\n",
              "      <td>https://cdn.sofifa.org/teams/2/light/10.png</td>\n",
              "      <td>102000000.0</td>\n",
              "      <td>355000.0</td>\n",
              "      <td>2281</td>\n",
              "      <td>Right</td>\n",
              "      <td>4.0</td>\n",
              "      <td>5.0</td>\n",
              "      <td>4.0</td>\n",
              "      <td>High/ High</td>\n",
              "      <td>Normal</td>\n",
              "      <td>Yes</td>\n",
              "      <td>RCM</td>\n",
              "      <td>7.0</td>\n",
              "      <td>Aug 30, 2015</td>\n",
              "      <td>NaN</td>\n",
              "      <td>2023</td>\n",
              "      <td>5'11</td>\n",
              "      <td>154lbs</td>\n",
              "      <td>82+3</td>\n",
              "      <td>82+3</td>\n",
              "      <td>82+3</td>\n",
              "      <td>87+3</td>\n",
              "      <td>87+3</td>\n",
              "      <td>87+3</td>\n",
              "      <td>87+3</td>\n",
              "      <td>87+3</td>\n",
              "      <td>88+3</td>\n",
              "      <td>88+3</td>\n",
              "      <td>88+3</td>\n",
              "      <td>88+3</td>\n",
              "      <td>...</td>\n",
              "      <td>73+3</td>\n",
              "      <td>66+3</td>\n",
              "      <td>66+3</td>\n",
              "      <td>66+3</td>\n",
              "      <td>73+3</td>\n",
              "      <td>93.0</td>\n",
              "      <td>82.0</td>\n",
              "      <td>55.0</td>\n",
              "      <td>92.0</td>\n",
              "      <td>82.0</td>\n",
              "      <td>86.0</td>\n",
              "      <td>85.0</td>\n",
              "      <td>83.0</td>\n",
              "      <td>91.0</td>\n",
              "      <td>91.0</td>\n",
              "      <td>78.0</td>\n",
              "      <td>76.0</td>\n",
              "      <td>79.0</td>\n",
              "      <td>91.0</td>\n",
              "      <td>77.0</td>\n",
              "      <td>91.0</td>\n",
              "      <td>63.0</td>\n",
              "      <td>90.0</td>\n",
              "      <td>75.0</td>\n",
              "      <td>91.0</td>\n",
              "      <td>76.0</td>\n",
              "      <td>61.0</td>\n",
              "      <td>87.0</td>\n",
              "      <td>94.0</td>\n",
              "      <td>79.0</td>\n",
              "      <td>88.0</td>\n",
              "      <td>68.0</td>\n",
              "      <td>58.0</td>\n",
              "      <td>51.0</td>\n",
              "      <td>15.0</td>\n",
              "      <td>13.0</td>\n",
              "      <td>5.0</td>\n",
              "      <td>10.0</td>\n",
              "      <td>13.0</td>\n",
              "      <td>1.964e+08</td>\n",
              "    </tr>\n",
              "  </tbody>\n",
              "</table>\n",
              "<p>5 rows × 89 columns</p>\n",
              "</div>"
            ],
            "text/plain": [
              "   Unnamed: 0      ID  ... GKReflexes  Release Clause\n",
              "0           0  158023  ...        8.0       2.265e+08\n",
              "1           1   20801  ...       11.0       1.271e+08\n",
              "2           2  190871  ...       11.0       2.281e+08\n",
              "3           3  193080  ...       94.0       1.386e+08\n",
              "4           4  192985  ...       13.0       1.964e+08\n",
              "\n",
              "[5 rows x 89 columns]"
            ]
          },
          "metadata": {},
          "execution_count": 15
        }
      ]
    },
    {
      "cell_type": "code",
      "metadata": {
        "id": "-pgyS04uRz6P"
      },
      "source": [
        "# Converting column to float datatype for appending it to Numeric columns list\n",
        "ps1_data[\"Release Clause\"]=ps1_data[\"Release Clause\"].astype(\"float64\")"
      ],
      "execution_count": 16,
      "outputs": []
    },
    {
      "cell_type": "code",
      "metadata": {
        "id": "5TYlTGfVKS2s",
        "colab": {
          "base_uri": "https://localhost:8080/"
        },
        "outputId": "28c135ec-3d0f-49df-aa6a-af9219e18d00"
      },
      "source": [
        "# Appending converted categorical columns to numerical columns list\n",
        "\n",
        "numeric_col.extend(cat_num_col)\n",
        "for col in cat_num_col:\n",
        "  cat_col.remove(col)\n",
        "print(\"Numeric Columns:{}\".format(numeric_col))\n",
        "print(\"Categorical Columns:{}\".format(cat_col))"
      ],
      "execution_count": 17,
      "outputs": [
        {
          "output_type": "stream",
          "name": "stdout",
          "text": [
            "Numeric Columns:['Unnamed: 0', 'ID', 'Age', 'Overall', 'Potential', 'Special', 'International Reputation', 'Weak Foot', 'Skill Moves', 'Jersey Number', 'Crossing', 'Finishing', 'HeadingAccuracy', 'ShortPassing', 'Volleys', 'Dribbling', 'Curve', 'FKAccuracy', 'LongPassing', 'BallControl', 'Acceleration', 'SprintSpeed', 'Agility', 'Reactions', 'Balance', 'ShotPower', 'Jumping', 'Stamina', 'Strength', 'LongShots', 'Aggression', 'Interceptions', 'Positioning', 'Vision', 'Penalties', 'Composure', 'Marking', 'StandingTackle', 'SlidingTackle', 'GKDiving', 'GKHandling', 'GKKicking', 'GKPositioning', 'GKReflexes', 'Value', 'Wage', 'Release Clause']\n",
            "Categorical Columns:['Name', 'Photo', 'Nationality', 'Flag', 'Club', 'Club Logo', 'Preferred Foot', 'Work Rate', 'Body Type', 'Real Face', 'Position', 'Joined', 'Loaned From', 'Contract Valid Until', 'Height', 'Weight', 'LS', 'ST', 'RS', 'LW', 'LF', 'CF', 'RF', 'RW', 'LAM', 'CAM', 'RAM', 'LM', 'LCM', 'CM', 'RCM', 'RM', 'LWB', 'LDM', 'CDM', 'RDM', 'RWB', 'LB', 'LCB', 'CB', 'RCB', 'RB']\n"
          ]
        }
      ]
    },
    {
      "cell_type": "markdown",
      "metadata": {
        "id": "MLOYI7J5it34"
      },
      "source": [
        "**b. Preprocessing height - convert data in format xx'xx to xx.xx Remove \"nan\" with \n",
        "Mode and convert the column to numerical**"
      ]
    },
    {
      "cell_type": "code",
      "metadata": {
        "id": "dlT8hpxS2XRk",
        "colab": {
          "base_uri": "https://localhost:8080/"
        },
        "outputId": "5c437855-496f-461e-d810-efd3a5452d86"
      },
      "source": [
        "# Replacing Null values with Mode and converting Height in feet to centimeters\n",
        "\n",
        "ps1_data['Height']=ps1_data['Height'].fillna(ps1_data['Height'].mode())\n",
        "print(\"Before conversion\")\n",
        "print(ps1_data['Height'][0:5])\n",
        "\n",
        "ps1_data[['feet','inches']] = ps1_data['Height'].str.split(\"'\",expand=True)\n",
        "ps1_data['feet'] = ps1_data['feet'].astype(\"float64\")\n",
        "ps1_data['inches'] = ps1_data['inches'].astype(\"float64\")\n",
        "ps1_data['Height'] = (2.54 * (12 * (ps1_data['feet']))) + (2.54 * ps1_data['inches'])\n",
        "\n",
        "print(\"\\nAfter conversion (in cm)\")\n",
        "print(ps1_data['Height'][0:5])"
      ],
      "execution_count": 18,
      "outputs": [
        {
          "output_type": "stream",
          "name": "stdout",
          "text": [
            "Before conversion\n",
            "0     5'7\n",
            "1     6'2\n",
            "2     5'9\n",
            "3     6'4\n",
            "4    5'11\n",
            "Name: Height, dtype: object\n",
            "\n",
            "After conversion (in cm)\n",
            "0    170.18\n",
            "1    187.96\n",
            "2    175.26\n",
            "3    193.04\n",
            "4    180.34\n",
            "Name: Height, dtype: float64\n"
          ]
        }
      ]
    },
    {
      "cell_type": "markdown",
      "metadata": {
        "id": "xKOc75b3iu6E"
      },
      "source": [
        "**c. Preprocessing weight - convert data in format xxlbs to xx Remove \"nan\" with Mode and convert the column to numerical**"
      ]
    },
    {
      "cell_type": "code",
      "metadata": {
        "id": "c3HILX-13LbH",
        "colab": {
          "base_uri": "https://localhost:8080/"
        },
        "outputId": "cf452c3c-0504-40ca-d92c-0fcf3efcea35"
      },
      "source": [
        "# Replacing Null values with Mode and converting Weight in lbs to Kg\n",
        "\n",
        "ps1_data['Weight']=ps1_data['Weight'].fillna(ps1_data['Weight'].mode())\n",
        "print(\"Before conversion\")\n",
        "print(ps1_data['Weight'][0:5])\n",
        "\n",
        "ps1_data['Weight']=ps1_data.Weight.str.replace(\"lbs\", \"\")\n",
        "ps1_data['Weight'] = ps1_data['Weight'].astype(\"float64\")\n",
        "ps1_data['Weight'] = ps1_data['Weight']/2.2046\n",
        "\n",
        "print(\"\\nAfter conversion (in Kg)\")\n",
        "print(ps1_data['Weight'][0:5])"
      ],
      "execution_count": 19,
      "outputs": [
        {
          "output_type": "stream",
          "name": "stdout",
          "text": [
            "Before conversion\n",
            "0    159lbs\n",
            "1    183lbs\n",
            "2    150lbs\n",
            "3    168lbs\n",
            "4    154lbs\n",
            "Name: Weight, dtype: object\n",
            "\n",
            "After conversion (in Kg)\n",
            "0    72.121927\n",
            "1    83.008255\n",
            "2    68.039554\n",
            "3    76.204300\n",
            "4    69.853942\n",
            "Name: Weight, dtype: float64\n"
          ]
        }
      ]
    },
    {
      "cell_type": "markdown",
      "metadata": {
        "id": "ImutJA44Lli3"
      },
      "source": [
        "**a. (continued) Filling missing values for continuous variables with Mean(Average)**"
      ]
    },
    {
      "cell_type": "code",
      "metadata": {
        "id": "iUpcO6ijMJ_Y",
        "colab": {
          "base_uri": "https://localhost:8080/"
        },
        "outputId": "49d9f040-d21a-4945-a040-0c0a2b533fb4"
      },
      "source": [
        "ps1_data[numeric_col]=ps1_data[numeric_col].fillna(ps1_data[numeric_col].mean())\n",
        "print(\"Columns          Number of null values\")\n",
        "ps1_data[numeric_col].isnull().sum()"
      ],
      "execution_count": 20,
      "outputs": [
        {
          "output_type": "stream",
          "name": "stdout",
          "text": [
            "Columns          Number of null values\n"
          ]
        },
        {
          "output_type": "execute_result",
          "data": {
            "text/plain": [
              "Unnamed: 0                  0\n",
              "ID                          0\n",
              "Age                         0\n",
              "Overall                     0\n",
              "Potential                   0\n",
              "Special                     0\n",
              "International Reputation    0\n",
              "Weak Foot                   0\n",
              "Skill Moves                 0\n",
              "Jersey Number               0\n",
              "Crossing                    0\n",
              "Finishing                   0\n",
              "HeadingAccuracy             0\n",
              "ShortPassing                0\n",
              "Volleys                     0\n",
              "Dribbling                   0\n",
              "Curve                       0\n",
              "FKAccuracy                  0\n",
              "LongPassing                 0\n",
              "BallControl                 0\n",
              "Acceleration                0\n",
              "SprintSpeed                 0\n",
              "Agility                     0\n",
              "Reactions                   0\n",
              "Balance                     0\n",
              "ShotPower                   0\n",
              "Jumping                     0\n",
              "Stamina                     0\n",
              "Strength                    0\n",
              "LongShots                   0\n",
              "Aggression                  0\n",
              "Interceptions               0\n",
              "Positioning                 0\n",
              "Vision                      0\n",
              "Penalties                   0\n",
              "Composure                   0\n",
              "Marking                     0\n",
              "StandingTackle              0\n",
              "SlidingTackle               0\n",
              "GKDiving                    0\n",
              "GKHandling                  0\n",
              "GKKicking                   0\n",
              "GKPositioning               0\n",
              "GKReflexes                  0\n",
              "Value                       0\n",
              "Wage                        0\n",
              "Release Clause              0\n",
              "dtype: int64"
            ]
          },
          "metadata": {},
          "execution_count": 20
        }
      ]
    },
    {
      "cell_type": "markdown",
      "metadata": {
        "id": "bes_6-k3AcYN"
      },
      "source": [
        "**d. Univariate analysis for outliers detection for Height and Weight**"
      ]
    },
    {
      "cell_type": "code",
      "metadata": {
        "id": "Q4CUBRfc3LYS",
        "colab": {
          "base_uri": "https://localhost:8080/",
          "height": 510
        },
        "outputId": "b498e7b5-2e48-495d-f3b7-03533867301c"
      },
      "source": [
        "# Box plot for outlier analysis of Height\n",
        "\n",
        "sns.set_theme(style=\"whitegrid\")\n",
        "sns.set(rc = {'figure.figsize':(14,8)})\n",
        "sns.boxplot(y=ps1_data.Height,orient='v',whis=1.5,palette='autumn')\n",
        "plt.title(\"Boxplot of Height\", loc='center', size=18, pad=30)\n",
        "plt.show()"
      ],
      "execution_count": 21,
      "outputs": [
        {
          "output_type": "display_data",
          "data": {
            "image/png": "[encoded data removed]",
            "text/plain": [
              "<Figure size 1008x576 with 1 Axes>"
            ]
          },
          "metadata": {}
        }
      ]
    },
    {
      "cell_type": "code",
      "metadata": {
        "colab": {
          "base_uri": "https://localhost:8080/"
        },
        "id": "ekOACN42EzCo",
        "outputId": "4d9c45ce-fcf3-4b13-e9db-bce15e18cca2"
      },
      "source": [
        "ps1_data['Height'].describe()"
      ],
      "execution_count": 22,
      "outputs": [
        {
          "output_type": "execute_result",
          "data": {
            "text/plain": [
              "count    16636.000000\n",
              "mean       181.292576\n",
              "std          6.737965\n",
              "min        154.940000\n",
              "25%        175.260000\n",
              "50%        180.340000\n",
              "75%        185.420000\n",
              "max        205.740000\n",
              "Name: Height, dtype: float64"
            ]
          },
          "metadata": {},
          "execution_count": 22
        }
      ]
    },
    {
      "cell_type": "markdown",
      "metadata": {
        "id": "IECkPZtoBTbh"
      },
      "source": [
        "\n",
        "**1.** **Summarise your findings from the visual**\n",
        "   \n",
        "   * Most of the players height range from 175cm to 185cm. \n",
        "   * Very few among the players fall in the range below the height 154cm who are under the avg. height and few above 205cm. \n",
        "   * Mean and Meadian of the heights of the players are almost same. \n",
        "   * From the above visualization it is easy to interpret that there are only five players as such who will be considered as outliers.\n",
        "\n",
        "**2. The reason for selecting the chart type you did**\n",
        "\n",
        "  * Box Plot gives the representation of statistical five number summary of a given data set.\n",
        "  * We have used Box Plot as it provides a visual summary of the data to identify mean values, the dispersion of the data set, and signs of skewness.\n",
        "  * As the purpose is to identify outliers, box plots is the right fit for visualization to give a better view of comparing the distributions.\n",
        "\n",
        "**3. Mention the pre-attentive attributes used.(atleast 2)**\n",
        "  \n",
        "  * A dark orange colour is used to show the concentration of the data points between the Quartiles Q1 and Q3.\n",
        "  * A diamond shape is used to represent only the outliers and not all the data points in the column.\n",
        "  \n",
        "**4. Mention the gestalt principles used.(atleast 2)**\n",
        "\n",
        "  * Principle of Similarity\n",
        "\n",
        "  All the outliers are represented by same shape, size and colour to denote them as a group of outliers.\n",
        "\n",
        "  * Figure/Ground\n",
        "\n",
        "  In this visualization, back ground is used as least aspect while the foreground the max with Orange colour.\n",
        "\n",
        "  * Principle of Continuity\n",
        "\n",
        "  Outliers are in a continuous line and compel the eye to move through one object and continue to another object.\n",
        "\n",
        "  * Principle of Proximity\n",
        "\n",
        "  When we have items next to each other, they are perceived as grouped/ similar/ together in case of outliers"
      ]
    },
    {
      "cell_type": "code",
      "metadata": {
        "id": "1U_D9HEc3LWI",
        "colab": {
          "base_uri": "https://localhost:8080/",
          "height": 510
        },
        "outputId": "61823740-886d-4cf2-9485-6044989c6446"
      },
      "source": [
        "# Box plot for outlier analysis for Weight\n",
        "\n",
        "sns.set_theme(style=\"whitegrid\")\n",
        "sns.set(rc = {'figure.figsize':(14,8)})\n",
        "sns.boxplot(y=ps1_data.Weight,orient='v',whis=1.5,palette='Dark2',fliersize=5)\n",
        "plt.title(\"Boxplot of Weight\", loc='center', size=18, pad=30)\n",
        "plt.show()"
      ],
      "execution_count": 23,
      "outputs": [
        {
          "output_type": "display_data",
          "data": {
            "image/png": "[encoded data removed]",
            "text/plain": [
              "<Figure size 1008x576 with 1 Axes>"
            ]
          },
          "metadata": {}
        }
      ]
    },
    {
      "cell_type": "code",
      "metadata": {
        "colab": {
          "base_uri": "https://localhost:8080/"
        },
        "id": "eJ2KWELzNsOA",
        "outputId": "e2667453-ddf8-4ead-e8c4-c549ce0703c7"
      },
      "source": [
        "ps1_data['Weight'].describe()"
      ],
      "execution_count": 24,
      "outputs": [
        {
          "output_type": "execute_result",
          "data": {
            "text/plain": [
              "count    16636.000000\n",
              "mean        75.504846\n",
              "std          7.057361\n",
              "min         49.895673\n",
              "25%         69.853942\n",
              "50%         74.843509\n",
              "75%         79.833076\n",
              "max        110.224077\n",
              "Name: Weight, dtype: float64"
            ]
          },
          "metadata": {},
          "execution_count": 24
        }
      ]
    },
    {
      "cell_type": "markdown",
      "metadata": {
        "id": "SR72zrKePUwX"
      },
      "source": [
        "\n",
        "**1.** **Summarise your findings from the visual**\n",
        "   \n",
        "   * Most of the players weighed from 70 to 80 kgs. \n",
        "   * 4 of the players are underweight and 12 are overweight.\n",
        "   * From the above visualization it is easy to interpret the players who are underweight and overweight as such who will be considered as outliers.\n",
        "\n",
        "**2. The reason for selecting the chart type you did**\n",
        "\n",
        "  * Box Plot gives the representation of statistical five number summary of a given data set.\n",
        "  * We have used Box Plot as it provides a visual summary of the data to identify mean values, the dispersion of the data set, and signs of skewness.\n",
        "  * As the purpose is to identify outliers, box plots is the right fit for visualization to give a better view of comparing the distributions.\n",
        "\n",
        "**3. Mention the pre-attentive attributes used.(atleast 2)**\n",
        "  \n",
        "  * A dark green colour is used to show the concentration of the data points between the Quartiles Q1 and Q3.\n",
        "  * A diamond shape is used to represent only the outliers and not all the data points in the column.\n",
        "  \n",
        "**4. Mention the gestalt principles used.(atleast 2)**\n",
        "\n",
        "  * Principle of Similarity\n",
        "\n",
        "  All the outliers are represented by same shape, size and colour to denote them as a group of outliers.\n",
        "\n",
        "  * Figure/Ground\n",
        "\n",
        "  In this visualization, back ground is used as least aspect while the foreground the max with Green colour.\n",
        "\n",
        "  * Principle of Continuity\n",
        "\n",
        "  Outliers are in a continuous line and compel the eye to move through one object and continue to another object.\n",
        "\n",
        "  * Principle of Proximity\n",
        "\n",
        "  When we have items next to each other, they are perceived as grouped/ similar/ together in case of outliers"
      ]
    },
    {
      "cell_type": "markdown",
      "metadata": {
        "id": "diRYcB0ZnDT9"
      },
      "source": [
        "### Question 2\n",
        "<h4>Do Bi-Variate analysis for outliers detection for height and weight \n",
        "<br><br>\n",
        "<h4>Write the python code in the below cell to create appropriate visual to perform the above task.\n",
        "<h4> Answer in markdown cells below the visual\n",
        "<br><br>\n",
        "<ol>\n",
        "    <li>Summarise your findings from the visual</li>\n",
        "    <li>The reason for selecting the chart type you did</li>\n",
        "    <li>Mention the pre-attentive attributes used.(atleast 2)</li>\n",
        "    <li>Mention the gestalt principles used.(atleast 2)</li>\n",
        "</ol>"
      ]
    },
    {
      "cell_type": "markdown",
      "metadata": {
        "id": "FPGv_7SscUxQ"
      },
      "source": [
        "**Bi-Variate analysis for outliers detection for Height and Weight**"
      ]
    },
    {
      "cell_type": "code",
      "metadata": {
        "id": "Rs2QzLvdnDT-",
        "colab": {
          "base_uri": "https://localhost:8080/",
          "height": 546
        },
        "outputId": "3fe068dd-73a4-4c13-9e27-b1e3dd14d727"
      },
      "source": [
        "# Scatter Plot for Bi-Variate analysis of Height and Weight\n",
        "\n",
        "sns.scatterplot(x=ps1_data.Height, y=ps1_data.Weight)\n",
        "plt.title(\"Scatter Plot of Height and Weight\", loc='center', size=18, pad=30)\n",
        "plt.show()"
      ],
      "execution_count": 25,
      "outputs": [
        {
          "output_type": "display_data",
          "data": {
            "image/png": "[encoded data removed]",
            "text/plain": [
              "<Figure size 1008x576 with 1 Axes>"
            ]
          },
          "metadata": {}
        }
      ]
    },
    {
      "cell_type": "markdown",
      "metadata": {
        "id": "ye9COfDqdohF"
      },
      "source": [
        "* Looking at the plot above, we can say that most of the data points are lying in a linear fashion and there are few points which are far from the population like towards the extreme top.\n",
        "* There is a strong positive correlation between Height and Weight attributes."
      ]
    },
    {
      "cell_type": "markdown",
      "metadata": {
        "id": "bo8eSvUGmKte"
      },
      "source": [
        "**Outliers detection using IQR range**"
      ]
    },
    {
      "cell_type": "code",
      "metadata": {
        "colab": {
          "base_uri": "https://localhost:8080/"
        },
        "id": "N4LbXK6td8Uc",
        "outputId": "08e6fba5-0e9a-43cf-8a55-4898b2ada80c"
      },
      "source": [
        "Q1 = ps1_data[[\"Height\",\"Weight\"]].quantile(0.25)\n",
        "Q3 = ps1_data[[\"Height\",\"Weight\"]].quantile(0.75)\n",
        "IQR = Q3 - Q1\n",
        "print(IQR)"
      ],
      "execution_count": 26,
      "outputs": [
        {
          "output_type": "stream",
          "name": "stdout",
          "text": [
            "Height    10.160000\n",
            "Weight     9.979135\n",
            "dtype: float64\n"
          ]
        }
      ]
    },
    {
      "cell_type": "code",
      "metadata": {
        "id": "za77dEdke3BZ"
      },
      "source": [
        "df_ht_wt=((ps1_data[[\"Height\",\"Weight\"]] < (Q1 - (1.5 * IQR))) | ((ps1_data[[\"Height\",\"Weight\"]] > (Q3 + (1.5 * IQR))) ) )"
      ],
      "execution_count": 27,
      "outputs": []
    },
    {
      "cell_type": "code",
      "metadata": {
        "colab": {
          "base_uri": "https://localhost:8080/"
        },
        "id": "GWIfnROAhPJb",
        "outputId": "35ac8d6d-ce91-496f-f9d9-34739553dbc4"
      },
      "source": [
        "df_ht_wt.value_counts()"
      ],
      "execution_count": 28,
      "outputs": [
        {
          "output_type": "execute_result",
          "data": {
            "text/plain": [
              "Height  Weight\n",
              "False   False     16590\n",
              "        True         61\n",
              "True    False        27\n",
              "        True          6\n",
              "dtype: int64"
            ]
          },
          "metadata": {},
          "execution_count": 28
        }
      ]
    },
    {
      "cell_type": "markdown",
      "metadata": {
        "id": "tDBTM0ZHhud8"
      },
      "source": [
        "* The data point where we have False that means these values are valid whereas True indicates presence of an outlier.\n",
        "* As such, there are 7 players whose height and weight both are considered as outliers\n",
        "* There are 68 players whose Weight is considered as outlier but not their Height\n"
      ]
    },
    {
      "cell_type": "code",
      "metadata": {
        "id": "ZG2sSLvqUqqd",
        "colab": {
          "base_uri": "https://localhost:8080/",
          "height": 577
        },
        "outputId": "96434438-5431-4604-88a6-f4f18a47a456"
      },
      "source": [
        "#Joint plot for Height and Weight\n",
        "\n",
        "sns.set_theme(style=\"whitegrid\")\n",
        "sns.jointplot(data=ps1_data, x=\"Height\", y=\"Weight\", color=\"#3ab09e\", marginal_ticks=True, kind=\"reg\", height=8, ratio=3, joint_kws={'line_kws':{'color':'r'}})\n",
        "plt.title(\"Joint plot for Height and Weight\", loc='left', size=18, pad=80)\n",
        "plt.show()"
      ],
      "execution_count": 29,
      "outputs": [
        {
          "output_type": "display_data",
          "data": {
            "image/png": "[encoded data removed]",
            "text/plain": [
              "<Figure size 576x576 with 3 Axes>"
            ]
          },
          "metadata": {}
        }
      ]
    },
    {
      "cell_type": "markdown",
      "metadata": {
        "id": "hj0vBJjllAYb"
      },
      "source": [
        "* With the regression line plotted in the scatter plot, we can see that there is a string positive correlation between Height and Weight i.e., when Height increases weight also increases "
      ]
    },
    {
      "cell_type": "markdown",
      "metadata": {
        "id": "ePKWjoEMlRj2"
      },
      "source": [
        "\n",
        "**1.** **Summarise your findings from the visual**\n",
        "   \n",
        "   * From the above visualizations, we can say that most of the data points are lying in a linear fashion and there are few points which are far from the population like towards the extreme top.\n",
        "   * There is a strong positive correlation between Height and Weight attributes.\n",
        "\n",
        "**2. The reason for selecting the chart type you did**\n",
        "\n",
        "  * Scatter plot gives the relationship between two numeric variables. The dots in a scatter plot not only reports the values of individual data points, but also patterns when the data is taken as a whole.\n",
        "  * As we want to identify the relationship and other patterns between two numeric variables, scatter plot is used.\n",
        "\n",
        "**3. Mention the pre-attentive attributes used.(atleast 2)**\n",
        "  \n",
        "  * A grid plot is used to plot the scatter points of the data hence grabbing the eye points focus towards the data points.\n",
        "  * A regression line coloured in red is plotted to make it easy for the audience to understand the relation between the attributes.\n",
        "  * Outliers are coloured in light colour and in the area where majority of the points are concentrated are darker in colour.\n",
        "  \n",
        "**4. Mention the gestalt principles used.(atleast 2)**\n",
        "\n",
        "  * Principle of Continuity\n",
        "\n",
        "  Outliers are in a continuous line and compel the eye to move through one object and continue to another object.\n",
        "\n",
        "  * Principle of Similarity\n",
        "\n",
        "  All the data points are represented by same shape, size and colour."
      ]
    },
    {
      "cell_type": "markdown",
      "metadata": {
        "id": "qQkg7ciNnDT_"
      },
      "source": [
        "### Question 3\n",
        "<h4>What kind of co-relation exists between Age and Overall\n",
        "<br><br>    \n",
        "Write the python code in the below cell to create appropriate visual to perform the above task.\n",
        "<h4> Answer in markdown cells below the visual\n",
        "<br><br>\n",
        "<ol>\n",
        "    <li>Summarise your findings from the visual</li>\n",
        "    <li>The reason for selecting the chart type you did</li>\n",
        "    <li>Mention the pre-attentive attributes used.(atleast 2)</li>\n",
        "    <li>Mention the gestalt principles used.(atleast 2)</li>\n",
        "</ol>"
      ]
    },
    {
      "cell_type": "code",
      "metadata": {
        "colab": {
          "base_uri": "https://localhost:8080/",
          "height": 577
        },
        "id": "oc13XYShMZiI",
        "outputId": "a8026a39-5121-4ed9-9517-f84e86146aad"
      },
      "source": [
        "#Jointplot for Age and Overall\n",
        "\n",
        "sns.jointplot(data=ps1_data, x=\"Age\", y=\"Overall\", marginal_ticks=True, color=\"#326ffd\", kind=\"reg\", height=8, ratio=3, joint_kws={'line_kws':{'color':'r'}})\n",
        "plt.title(\"Joint plot for Age and Overall\", loc='left', size=18, pad=80)\n",
        "plt.show()"
      ],
      "execution_count": 30,
      "outputs": [
        {
          "output_type": "display_data",
          "data": {
            "image/png": "[encoded data removed]",
            "text/plain": [
              "<Figure size 576x576 with 3 Axes>"
            ]
          },
          "metadata": {}
        }
      ]
    },
    {
      "cell_type": "markdown",
      "metadata": {
        "id": "qN1R32nvtnhf"
      },
      "source": [
        "* Looking at the plot above, we can say that most of the data points are concentrated in the center towards left but there are points which are far from the population like towards the right curvature.\n",
        "* There is a weak positive correlation between Age and Overall attributes."
      ]
    },
    {
      "cell_type": "markdown",
      "metadata": {
        "id": "O7fiQZvnrJZi"
      },
      "source": [
        "\n",
        "**1.** **Summarise your findings from the visual**\n",
        "   \n",
        "   * From the above visualizations, we can say that most of the data points are lying in a somewhat but not exact linear fashion and there are many points which are far from the population like towards the top and bottom.\n",
        "   * There is a weak positive correlation between Age and Overall hence leading to large error value.\n",
        "\n",
        "**2. The reason for selecting the chart type you did**\n",
        "\n",
        "  * The dots in a scatter plot not only reports the values of individual data points, but also patterns when the data is taken as a whole.\n",
        "  * As we want to identify the relationship and other patterns between two numeric variables, scatter plot is used.\n",
        "\n",
        "**3. Mention the pre-attentive attributes used.(atleast 2)**\n",
        "  \n",
        "  * A grid plot is used to plot the scatter points of the data hence grabbing the eye points focus towards the data points.\n",
        "  * A regression line coloured in red is plotted to make it easy for the audience to understand the relation between the attributes.\n",
        "  * Outliers are coloured in light colour and in the area where majority of the points are concentrated are darker in colour.\n",
        "  \n",
        "**4. Mention the gestalt principles used.(atleast 2)**\n",
        "\n",
        "  * Principle of Continuity\n",
        "\n",
        "  Outliers are in a continuous line and compel the eye to move through one object and continue to another object.\n",
        "\n",
        "  * Principle of Similarity\n",
        "\n",
        "  All the data points are represented by same shape, size and colour."
      ]
    },
    {
      "cell_type": "markdown",
      "metadata": {
        "id": "DeuNFfRpnDUD"
      },
      "source": [
        "  ### Question 4\n",
        "<h4>What kind of relation exists between Age and (potential vs Overall). Create an appropriate visual to compare potential vs Overall with respect to age in one single visual.\n",
        "<br><br>\n",
        "Write the python code in the below cell to create appropriate visual to perform the above task.\n",
        "<h4> Answer in markdown cells below the visual\n",
        "<br><br>\n",
        "<ol>\n",
        "    <li>Summarise your findings from the visual</li>\n",
        "    <li>The reason for selecting the chart type you did</li>\n",
        "    <li>Mention the pre-attentive attributes used.(atleast 2)</li>\n",
        "    <li>Mention the gestalt principles used.(atleast 2)</li>\n",
        "</ol>"
      ]
    },
    {
      "cell_type": "code",
      "metadata": {
        "colab": {
          "base_uri": "https://localhost:8080/",
          "height": 546
        },
        "id": "oYIeDujBODMS",
        "outputId": "23fd08ea-ddc3-45d1-9d6a-0bc516c7735b"
      },
      "source": [
        "# Line plot of Potential and Overall across Age\n",
        "\n",
        "plt.figure(figsize=(12, 8))\n",
        "sns.lineplot(data=ps1_data, x=\"Age\", y=\"Potential\", legend=\"full\", color='r', label=\"Potential\")\n",
        "sns.lineplot(data=ps1_data, x=\"Age\", y=\"Overall\", color=\"g\", label=\"Overall\")\n",
        "plt.ylabel(\"Potential and Overall\")\n",
        "plt.title(\"Line plot of Potential and Overall across Age\", loc='center', size=18, pad=30)\n",
        "plt.legend()\n",
        "plt.show()"
      ],
      "execution_count": 31,
      "outputs": [
        {
          "output_type": "display_data",
          "data": {
            "image/png": "[encoded data removed]",
            "text/plain": [
              "<Figure size 864x576 with 1 Axes>"
            ]
          },
          "metadata": {}
        }
      ]
    },
    {
      "cell_type": "code",
      "metadata": {
        "id": "CjfaaUJRWwfA",
        "colab": {
          "base_uri": "https://localhost:8080/"
        },
        "outputId": "896b96be-f230-4616-ebb2-4d0fcf4c12a5"
      },
      "source": [
        "ps1_data[\"Potential\"].dtypes"
      ],
      "execution_count": 32,
      "outputs": [
        {
          "output_type": "execute_result",
          "data": {
            "text/plain": [
              "dtype('int64')"
            ]
          },
          "metadata": {},
          "execution_count": 32
        }
      ]
    },
    {
      "cell_type": "markdown",
      "metadata": {
        "id": "1Axpf7BxuLjA"
      },
      "source": [
        "Bucketizing Age attribute to colour code the scatter plot of Potential vs Overall"
      ]
    },
    {
      "cell_type": "code",
      "metadata": {
        "id": "jfVj8jNAXJHJ"
      },
      "source": [
        "bins = [0, 18, 29, 39, 49, 59]\n",
        "labels = [1, 2, 3, 4, 5]\n",
        "label_names=[\"0-18 yrs\", \"19-29 yrs\", \"30-39 yrs\", \"40-49 yrs\", \"50+ yrs\"]\n",
        "ps1_data['agerange'] = pd.cut(ps1_data.Age, bins, labels = labels,include_lowest = True)"
      ],
      "execution_count": 33,
      "outputs": []
    },
    {
      "cell_type": "code",
      "metadata": {
        "id": "H5NaXcIwXeXX",
        "colab": {
          "base_uri": "https://localhost:8080/"
        },
        "outputId": "443e5f07-703b-4f34-93d0-5afa9a28692c"
      },
      "source": [
        "ps1_data[[\"Age\",\"agerange\"]].dtypes"
      ],
      "execution_count": 34,
      "outputs": [
        {
          "output_type": "execute_result",
          "data": {
            "text/plain": [
              "Age            int64\n",
              "agerange    category\n",
              "dtype: object"
            ]
          },
          "metadata": {},
          "execution_count": 34
        }
      ]
    },
    {
      "cell_type": "markdown",
      "metadata": {
        "id": "QAhO9gFf6cVT"
      },
      "source": [
        "**Alternative visual to compare Potential vs Overall with respect to Age**"
      ]
    },
    {
      "cell_type": "code",
      "metadata": {
        "colab": {
          "base_uri": "https://localhost:8080/",
          "height": 726
        },
        "id": "VL2KGB_vV42W",
        "outputId": "5e3fdad1-7737-4ab5-d912-1c955b74576e"
      },
      "source": [
        "# Scatter plot of Potential Vs Overall coloured with agerange category as colour\n",
        "\n",
        "plt.figure(figsize=(10, 10), dpi=80)\n",
        "scatter = plt.scatter(ps1_data.Potential, ps1_data.Overall, ps1_data.Age, c=ps1_data.agerange, cmap='viridis', linewidth=0.8)\n",
        "plt.legend(handles=scatter.legend_elements()[0], \n",
        "           labels=label_names,\n",
        "           title=\"Age buckets\")\n",
        "plt.xlabel(\"Potential\")\n",
        "plt.ylabel(\"Overall\")\n",
        "plt.title(\"Scatter plot of Potential Vs Overall\", loc='center', size=18, pad=30)\n",
        "plt.show()"
      ],
      "execution_count": 35,
      "outputs": [
        {
          "output_type": "display_data",
          "data": {
            "image/png": "[encoded data removed]",
            "text/plain": [
              "<Figure size 800x800 with 1 Axes>"
            ]
          },
          "metadata": {}
        }
      ]
    },
    {
      "cell_type": "markdown",
      "metadata": {
        "id": "rEUFNlOvzQjA"
      },
      "source": [
        "\n",
        "**1.** **Summarise your findings from the visual**\n",
        "   \n",
        "   * From the first visual it is evident that there is a huge difference between Potential and Overall of the players whose Age is below 30 years and tend to converge towards each other.\n",
        "   * After that age there is not much difference in these 2 attributes but a sudden dip is seen at the age of 41 years.\n",
        "   * From the above visualization, there is a strong correlation between Age and Potential Vs Overall as the Age buckets which are colour coded are distributed in a linear fashion.\n",
        "\n",
        "**2. The reason for selecting the chart type you did**\n",
        "\n",
        "  * The dots in a scatter plot not only reports the values of individual data points, but also patterns when the data is taken as a whole.\n",
        "  * As we want to identify the relationship and other patterns between two numeric variables and the Age which is also numerical which is later converted to category by bucketizing the ages, a scatter plot is used.\n",
        "  * To analyze the variation of Potential Vs Overall and Age we have plotted a line plot to understand the rise and fall in these attributes across Age. \n",
        "\n",
        "**3. Mention the pre-attentive attributes used.(atleast 2)**\n",
        "  \n",
        "  * In the scatter plot, age ranges are coloured so as to differentiate the groups and legend is given to indicate them.\n",
        "  * In the line plot, Potential and Overall are represented by different colours so as to indicate that they are lines of different attributes.\n",
        "  * The background of these two attributes are lightly shaded to represent the variation of that attribute for that particular Age along x-axis.\n",
        "  \n",
        "**4. Mention the gestalt principles used.(atleast 2)**\n",
        "\n",
        "  * Principle of Similarity\n",
        "\n",
        "  All the data points are represented by same shape, size and coloured with different colours to represent that they belong to different groups in scatter plot.\n",
        "\n",
        "  * Principle of Figure/ ground\n",
        "\n",
        "  We can differentiate the line of the attribute from its surrounding area in line plot by using lighter shade for background in line plot.  \n",
        "\n",
        "  * Principle of Enclosure\n",
        "\n",
        "  To represent the legend, a box is drawn surrounding the label names.\n"
      ]
    },
    {
      "cell_type": "markdown",
      "metadata": {
        "id": "lF9Sdb7ynDUG"
      },
      "source": [
        "  ### Question 5\n",
        "<h4>What kind of relation exists between Player Vision and Player Value. Create an appropriate visual to show any kind of relation that exists between Vision and Value of the player in one single visual.\n",
        "<br><br>\n",
        "Write the python code in the below cell to create appropriate visual to perform the above task.\n",
        "<h4> Answer in markdown cells below the visual\n",
        "<br><br>\n",
        "<ol>\n",
        "    <li>Summarise your findings from the visual</li>\n",
        "    <li>The reason for selecting the chart type you did</li>\n",
        "    <li>Mention the pre-attentive attributes used.(atleast 2)</li>\n",
        "    <li>Mention the gestalt principles used.(atleast 2)</li>\n",
        "</ol>"
      ]
    },
    {
      "cell_type": "code",
      "metadata": {
        "id": "FJgAKqfleuzS",
        "colab": {
          "base_uri": "https://localhost:8080/"
        },
        "outputId": "a84cb859-6e5d-401b-c604-cf5a9aadd6df"
      },
      "source": [
        "ps1_data.Vision.unique()"
      ],
      "execution_count": 36,
      "outputs": [
        {
          "output_type": "execute_result",
          "data": {
            "text/plain": [
              "array([94.        , 82.        , 87.        , 68.        , 89.        ,\n",
              "       92.        , 84.        , 63.        , 70.        , 77.        ,\n",
              "       86.        , 52.        , 79.        , 80.        , 83.        ,\n",
              "       69.        , 44.        , 50.        , 91.        , 90.        ,\n",
              "       30.        , 74.        , 72.        , 41.        , 58.        ,\n",
              "       64.        , 43.        , 76.        , 65.        , 62.        ,\n",
              "       67.        , 59.        , 85.        , 56.        , 88.        ,\n",
              "       47.        , 75.        , 93.        , 57.        , 81.        ,\n",
              "       66.        , 22.        , 53.        , 78.        , 48.        ,\n",
              "       49.        , 27.        , 73.        , 51.        , 54.        ,\n",
              "       46.        , 45.        , 42.        , 60.        , 61.        ,\n",
              "       71.        , 55.        , 23.        , 37.        , 25.        ,\n",
              "       40.        , 34.        , 32.        , 36.        , 28.        ,\n",
              "       15.        , 38.        , 33.        , 39.        , 31.        ,\n",
              "       16.        , 35.        , 18.        , 14.        , 20.        ,\n",
              "       21.        , 11.        , 26.        , 19.        , 17.        ,\n",
              "       29.        , 24.        , 13.        , 12.        , 10.        ,\n",
              "       54.50045086])"
            ]
          },
          "metadata": {},
          "execution_count": 36
        }
      ]
    },
    {
      "cell_type": "code",
      "metadata": {
        "id": "6hCgl75Pf8J-",
        "colab": {
          "base_uri": "https://localhost:8080/"
        },
        "outputId": "623d817e-62cc-47b5-b35b-183c239ccc5d"
      },
      "source": [
        "ps1_data.Value.unique()"
      ],
      "execution_count": 37,
      "outputs": [
        {
          "output_type": "execute_result",
          "data": {
            "text/plain": [
              "array([1.105e+08, 7.700e+07, 1.185e+08, 7.200e+07, 1.020e+08, 9.300e+07,\n",
              "       6.700e+07, 8.000e+07, 5.100e+07, 6.800e+07, 7.650e+07, 4.400e+07,\n",
              "       6.000e+07, 6.300e+07, 8.900e+07, 8.350e+07, 7.800e+07, 5.800e+07,\n",
              "       5.350e+07, 5.150e+07, 3.800e+07, 6.450e+07, 2.700e+07, 8.100e+07,\n",
              "       6.950e+07, 5.950e+07, 6.200e+07, 7.350e+07, 5.900e+07, 4.600e+07,\n",
              "       4.300e+07, 3.600e+07, 5.700e+07, 2.400e+07, 3.000e+07, 4.000e+06,\n",
              "       6.400e+07, 3.050e+07, 6.250e+07, 5.200e+07, 4.500e+07, 3.400e+07,\n",
              "       4.650e+07, 6.100e+07, 4.150e+07, 4.450e+07, 5.650e+07, 5.300e+07,\n",
              "       5.000e+07, 5.500e+07, 3.650e+07, 4.550e+07, 4.350e+07, 3.500e+07,\n",
              "       3.900e+07, 1.800e+07, 2.150e+07, 5.050e+07, 5.400e+07, 4.050e+07,\n",
              "       3.750e+07, 2.850e+07, 3.700e+07, 3.200e+07, 2.600e+07, 3.300e+07,\n",
              "       3.850e+07, 3.550e+07, 9.000e+06, 1.550e+07, 2.200e+07, 1.400e+07,\n",
              "       4.250e+07, 3.150e+07, 4.200e+07, 2.500e+07, 2.950e+07, 3.100e+07,\n",
              "       2.450e+07, 2.750e+07, 2.900e+07, 1.650e+07, 2.300e+07, 1.900e+07,\n",
              "       4.200e+06, 4.000e+07, 4.100e+07, 2.800e+07, 2.250e+07, 3.450e+07,\n",
              "       3.250e+07, 2.000e+07, 2.650e+07, 2.550e+07, 2.100e+07, 1.300e+07,\n",
              "       1.750e+07, 1.150e+07, 8.000e+06, 6.000e+06, 1.950e+07, 6.500e+06,\n",
              "       2.050e+07, 2.350e+07, 1.850e+07, 1.700e+07, 1.250e+07, 1.500e+07,\n",
              "       1.350e+07, 4.800e+06, 3.000e+06, 1.500e+06, 1.600e+07, 1.000e+07,\n",
              "       1.100e+07, 7.000e+06, 1.450e+07, 5.500e+06, 1.050e+07, 4.500e+06,\n",
              "       1.200e+07, 0.000e+00, 9.500e+06, 8.500e+06, 2.000e+06, 1.700e+06,\n",
              "       1.000e+06, 3.600e+06, 7.500e+06, 3.800e+06, 5.000e+06, 2.400e+06,\n",
              "       2.900e+06, 4.700e+06, 4.100e+06, 2.100e+06, 6.000e+05, 2.700e+06,\n",
              "       3.400e+06, 2.500e+06, 3.200e+06, 3.100e+06, 4.900e+06, 4.300e+06,\n",
              "       2.300e+06, 5.250e+05, 3.900e+06, 1.800e+06, 2.200e+06, 4.400e+06,\n",
              "       1.600e+06, 9.000e+05, 3.700e+06, 3.500e+06, 1.900e+06, 4.500e+05,\n",
              "       7.750e+05, 6.500e+05, 7.500e+05, 2.800e+06, 1.300e+06, 4.600e+06,\n",
              "       2.600e+06, 1.200e+06, 3.750e+05, 3.300e+06, 2.700e+05, 9.500e+05,\n",
              "       5.500e+05, 1.100e+06, 9.750e+05, 1.400e+06, 7.250e+05, 4.250e+05,\n",
              "       2.100e+05, 8.750e+05, 6.750e+05, 3.250e+05, 8.000e+05, 8.500e+05,\n",
              "       1.600e+05, 1.200e+05, 8.250e+05, 9.250e+05, 6.250e+05, 2.400e+05,\n",
              "       5.000e+05, 5.750e+05, 2.000e+05, 2.500e+05, 7.000e+05, 3.500e+05,\n",
              "       4.750e+05, 3.000e+05, 7.000e+04, 1.400e+05, 2.300e+05, 4.000e+05,\n",
              "       2.800e+05, 1.000e+05, 6.000e+04, 2.600e+05, 1.800e+05, 2.200e+05,\n",
              "       5.000e+04, 2.900e+05, 9.000e+04, 1.500e+05, 4.000e+04, 1.300e+05,\n",
              "       1.900e+05, 1.700e+05, 1.100e+05, 3.000e+04, 8.000e+04, 2.000e+04,\n",
              "       1.000e+04])"
            ]
          },
          "metadata": {},
          "execution_count": 37
        }
      ]
    },
    {
      "cell_type": "code",
      "metadata": {
        "colab": {
          "base_uri": "https://localhost:8080/",
          "height": 577
        },
        "id": "9oKYoy-k8MEY",
        "outputId": "25091390-ba3e-416f-9a42-d7e6ecacfe12"
      },
      "source": [
        "# Joint plot of Vision and Value\n",
        "\n",
        "sns.jointplot(data=ps1_data, x=\"Vision\", y=\"Value\", marginal_ticks=True, color=\"#E15739\", kind=\"reg\", height=8, ratio=3, joint_kws={'line_kws':{'color':'g'}})\n",
        "plt.title(\"Joint plot for Vision and Value\", loc='left', size=18, pad=80)\n",
        "plt.show()"
      ],
      "execution_count": 38,
      "outputs": [
        {
          "output_type": "display_data",
          "data": {
            "image/png": "[encoded data removed]",
            "text/plain": [
              "<Figure size 576x576 with 3 Axes>"
            ]
          },
          "metadata": {}
        }
      ]
    },
    {
      "cell_type": "code",
      "metadata": {
        "id": "E-aePOZOgBCu",
        "colab": {
          "base_uri": "https://localhost:8080/",
          "height": 546
        },
        "outputId": "edebdc33-987e-4646-c7ab-a76fa045f6b8"
      },
      "source": [
        "# Line plot of Vision and Value\n",
        "\n",
        "sns.lineplot(data=ps1_data,x=\"Vision\",y=\"Value\")\n",
        "plt.title(\"Line plot of Vision and Value\", loc='center', size=18, pad=30)\n",
        "plt.show()"
      ],
      "execution_count": 39,
      "outputs": [
        {
          "output_type": "display_data",
          "data": {
            "image/png": "[encoded data removed]",
            "text/plain": [
              "<Figure size 1008x576 with 1 Axes>"
            ]
          },
          "metadata": {}
        }
      ]
    },
    {
      "cell_type": "markdown",
      "metadata": {
        "id": "YlhaviRY-Gq2"
      },
      "source": [
        "\n",
        "**1.** **Summarise your findings from the visual**\n",
        "   \n",
        "  * Looking at the plot above, we can say that most of the data points are lying at the bottom and there are many data points that are far from the population.\n",
        "  * There is a very weak positive correlation between Value and Vision attributes.\n",
        "  * So as Vision increases, Value tends to vary very slowly.\n",
        "\n",
        "**2. The reason for selecting the chart type you did**\n",
        "\n",
        "  * The dots in a scatter plot not only reports the values of individual data points, but also patterns when the data is taken as a whole.\n",
        "  * As we want to identify the relationship and other patterns between two numeric variables a scatter plot is used.\n",
        "  * To analyze the variation of Vision and Value we have plotted a line plot to understand the rise and fall in these attributes.\n",
        "\n",
        "**3. Mention the pre-attentive attributes used.(atleast 2)**\n",
        "  \n",
        "  * A grid plot is used to plot the scatter points of the data hence grabbing the eye points focus towards the data points.\n",
        "  * A regression line coloured in green in previous scatter plot is plotted to make it easy for the audience to understand the relation between the attributes.\n",
        "  * In scatter plot, outliers are coloured in light colour and in the area where majority of the points are concentrated are darker in colour.\n",
        "  * In line plot, background of attribute \"Value\" is lightly shaded to represent the variation of that attribute for that particular \"Vision\" along x-axis.\n",
        "\n",
        "**4. Mention the gestalt principles used.(atleast 2)**\n",
        "\n",
        "  * Principle of Proximity\n",
        "\n",
        "  Looking at the scatter plot above, we tend to group data points that seem near each other at bottom assume they share similar characteristics.\n",
        "\n",
        "  * Principle of Continuity\n",
        "\n",
        "  In the above plot, data points are aligned with one another to appear to form a continuation of one another.\n",
        "\n",
        "  * Principle of Similarity\n",
        "\n",
        "  All the data points are represented by same shape, size and color"
      ]
    },
    {
      "cell_type": "markdown",
      "metadata": {
        "id": "ciXnXIuGoCKE"
      },
      "source": [
        "# Group's choice-2 Marks\n",
        " \n",
        "#### Frame 1 (more) question which will help in the EDA(Exploratory Data Analysis) of the given data set and answer the same using the best visual.\n",
        " \n",
        " 1. Write the question in a markdown cell\n",
        " 2. Below the question,in a coding cell,write the python code to create the visual to answer the question  \n",
        "\n",
        "<h4> Answer in markdown cells below the visual <br><br>\n",
        "   1.Summarise your findings from the visual.<br>\n",
        "   2.The reason for selecting the chart type you did <br>\n",
        "   3.Mention the pre-attentive attributes used.(atleast 2)<br>\n",
        "   4.Mention the gestalt principles used.(atleast 2)<br>"
      ]
    },
    {
      "cell_type": "markdown",
      "metadata": {
        "id": "DTcpfE2GsiwL"
      },
      "source": [
        "## 1. What is the correlation between all the features in the dataset?"
      ]
    },
    {
      "cell_type": "code",
      "metadata": {
        "id": "x3Lk4uDpsfpm",
        "colab": {
          "base_uri": "https://localhost:8080/",
          "height": 1000
        },
        "outputId": "f336f982-6287-433b-ab1d-d13ed2a7edf8"
      },
      "source": [
        "# Correlation heatmap\n",
        "sns.set(rc = {'figure.figsize':(25,20)})\n",
        "dataplot = sns.heatmap(ps1_data.corr(), cmap=\"YlGnBu\")\n",
        "plt.title(\"Correlation between all the features\", loc='center', size=18, pad=30)\n",
        "plt.show()"
      ],
      "execution_count": 40,
      "outputs": [
        {
          "output_type": "display_data",
          "data": {
            "image/png": "[encoded data removed]",
            "text/plain": [
              "<Figure size 1800x1440 with 2 Axes>"
            ]
          },
          "metadata": {}
        }
      ]
    },
    {
      "cell_type": "markdown",
      "metadata": {
        "id": "bK_MeP0nLIWC"
      },
      "source": [
        "\n",
        "**1. Summarise your findings from the visual**\n",
        "\n",
        "  * From the correlation heatmap, we can see that Value and Release Clause are highly correlated.\n",
        "  * Next highly correlated attributes are GKDiving, GKHandling, GKKicking, GKPositioning, GKReflexes.\n",
        "\n",
        "**2. The reason for selecting the chart type you did**\n",
        "\n",
        "  * Inorder to analyse the correlation of the whole dataset, correlation heatmap is the best way which depicts high or low correlation by intensity of colours.\n",
        "\n",
        "**3. Mention the pre-attentive attributes used.(atleast 2)**\n",
        "  \n",
        "  * Dark colour is used to represent that there is a high correlation between the variables and light colour to represent low correlation.\n",
        "\n",
        "  * A gradient scale is used to show the amount of correlation among the attributes.\n",
        "\n",
        "**4. Mention the gestalt principles used.(atleast 2)**\n",
        "\n",
        "  * Principle of Similarity\n",
        "\n",
        "  The plot across all the variables which have very high correlation are represented visually with dark colour, and the ones with low correlation with light colour on a gradient scale.\n",
        "\n",
        "  * Principle of Continuity\n",
        "\n",
        "  Our tendency to see shapes as continuous to the greatest degree possible. The human eye follows a sequence of coloured shapes to create pathways.\n",
        "\n",
        "  * Principle of Focal Point\n",
        "\n",
        "  Highlighting the cell which is having good correlation.\n"
      ]
    },
    {
      "cell_type": "markdown",
      "metadata": {
        "id": "6r-d2Cch1Ynr"
      },
      "source": [
        "## 2. Which foot do the Footballers prefer?"
      ]
    },
    {
      "cell_type": "code",
      "metadata": {
        "id": "bzlvXa1dnDUL",
        "colab": {
          "base_uri": "https://localhost:8080/",
          "height": 383
        },
        "outputId": "065c7785-923f-4825-cd84-1de430a94124"
      },
      "source": [
        "sns.set(rc = {'figure.figsize':(8,5)})\n",
        "sns.histplot(data=ps1_data, x=\"Preferred Foot\", hue=\"Preferred Foot\", stat=\"percent\", shrink=.75)\n",
        "plt.title(\"Histogram plot of Preferred Foot (in %)\", loc='center', size=18, pad=30)\n",
        "plt.show()"
      ],
      "execution_count": 41,
      "outputs": [
        {
          "output_type": "display_data",
          "data": {
            "image/png": "[encoded data removed]",
            "text/plain": [
              "<Figure size 576x360 with 1 Axes>"
            ]
          },
          "metadata": {}
        }
      ]
    },
    {
      "cell_type": "markdown",
      "metadata": {
        "id": "tAjTAMGvTBk_"
      },
      "source": [
        "\n",
        "**1. Summarise your findings from the visual**\n",
        "\n",
        "  * From the above histogram plot, it is observed that more than 70% of teh players prefer right foot where as less than 25% of the players prefer left foot for playing. \n",
        "\n",
        "**2. The reason for selecting the chart type you did**\n",
        "\n",
        "  * Inorder to compare the occurrence or count of a category, histogram plot is the best visual for representation.\n",
        "\n",
        "**3. Mention the pre-attentive attributes used.(atleast 2)**\n",
        "  \n",
        "  * Two different colours are used to represent the two categories of Preferred Foot.\n",
        "\n",
        "  * A gap is maintained between the two bars to differentiate  the categories.\n",
        "\n",
        "**4. Mention the gestalt principles used.(atleast 2)**\n",
        "\n",
        "  * Principle of Closure\n",
        "\n",
        "  Inspite of the absence of border for the plot, the audience brain is inclined to perceive that the figure is complete.\n",
        "\n",
        "  * Principle of Enclosure\n",
        "\n",
        "  To represent the legend, a box is drawn surrounding the label names.\n"
      ]
    },
    {
      "cell_type": "markdown",
      "metadata": {
        "id": "PUJxl5NGMUsx"
      },
      "source": [
        "## 3. What is the distribution of International Reputation of players from different countries?"
      ]
    },
    {
      "cell_type": "code",
      "metadata": {
        "colab": {
          "base_uri": "https://localhost:8080/",
          "height": 542
        },
        "id": "d0PTEDRbnCLO",
        "outputId": "2b728312-d9d9-409a-82c1-49ce60487af3"
      },
      "source": [
        "import plotly.graph_objs as go\n",
        "import plotly.offline as py\n",
        "\n",
        "rating = pd.DataFrame(ps1_data.groupby(['Nationality'])['Potential'].mean().reset_index())\n",
        "count_df = pd.DataFrame(rating.groupby('Nationality')['Potential'].mean().reset_index())\n",
        "\n",
        "trace = [go.Choropleth(\n",
        "            colorscale = 'YlOrRd',\n",
        "            locationmode = 'country names',\n",
        "            locations = count_df['Nationality'],\n",
        "            text = count_df['Nationality'],\n",
        "            z = count_df['Potential'] )]\n",
        "\n",
        "layout = go.Layout(title = 'Country vs Mean of Potential', title_x=0.5)\n",
        "\n",
        "fig = go.Figure(data = trace, layout = layout)\n",
        "py.iplot(fig)"
      ],
      "execution_count": 42,
      "outputs": [
        {
          "output_type": "display_data",
          "data": {
            "text/html": [
              "<html>\n",
              "<head><meta charset=\"utf-8\" /></head>\n",
              "<body>\n",
              "    <div>\n",
              "            <script src=\"https://cdnjs.cloudflare.com/ajax/libs/mathjax/2.7.5/MathJax.js?config=TeX-AMS-MML_SVG\"></script><script type=\"text/javascript\">if (window.MathJax) {MathJax.Hub.Config({SVG: {font: \"STIX-Web\"}});}</script>\n",
              "                <script type=\"text/javascript\">window.PlotlyConfig = {MathJaxConfig: 'local'};</script>\n",
              "        <script src=\"https://cdn.plot.ly/plotly-latest.min.js\"></script>    \n",
              "            <div id=\"fca3f54d-648d-4cf1-a39c-a800c6bfe676\" class=\"plotly-graph-div\" style=\"height:525px; width:100%;\"></div>\n",
              "            <script type=\"text/javascript\">\n",
              "                \n",
              "                    window.PLOTLYENV=window.PLOTLYENV || {};\n",
              "                    \n",
              "                if (document.getElementById(\"fca3f54d-648d-4cf1-a39c-a800c6bfe676\")) {\n",
              "                    Plotly.newPlot(\n",
              "                        'fca3f54d-648d-4cf1-a39c-a800c6bfe676',\n",
              "                        [{\"colorscale\": [[0.0, \"rgb(255,255,204)\"], [0.125, \"rgb(255,237,160)\"], [0.25, \"rgb(254,217,118)\"], [0.375, \"rgb(254,178,76)\"], [0.5, \"rgb(253,141,60)\"], [0.625, \"rgb(252,78,42)\"], [0.75, \"rgb(227,26,28)\"], [0.875, \"rgb(189,0,38)\"], [1.0, \"rgb(128,0,38)\"]], \"locationmode\": \"country names\", \"locations\": [\"Afghanistan\", \"Albania\", \"Algeria\", \"Andorra\", \"Angola\", \"Antigua & Barbuda\", \"Argentina\", \"Armenia\", \"Australia\", \"Austria\", \"Azerbaijan\", \"Barbados\", \"Belarus\", \"Belgium\", \"Belize\", \"Benin\", \"Bermuda\", \"Bolivia\", \"Bosnia Herzegovina\", \"Brazil\", \"Bulgaria\", \"Burkina Faso\", \"Burundi\", \"Cameroon\", \"Canada\", \"Cape Verde\", \"Central African Rep.\", \"Chad\", \"Chile\", \"China PR\", \"Colombia\", \"Comoros\", \"Congo\", \"Costa Rica\", \"Croatia\", \"Cuba\", \"Curacao\", \"Cyprus\", \"Czech Republic\", \"DR Congo\", \"Denmark\", \"Dominican Republic\", \"Ecuador\", \"Egypt\", \"El Salvador\", \"England\", \"Equatorial Guinea\", \"Eritrea\", \"Estonia\", \"Ethiopia\", \"FYR Macedonia\", \"Faroe Islands\", \"Fiji\", \"Finland\", \"France\", \"Gabon\", \"Gambia\", \"Georgia\", \"Germany\", \"Ghana\", \"Greece\", \"Grenada\", \"Guam\", \"Guatemala\", \"Guinea\", \"Guinea Bissau\", \"Guyana\", \"Haiti\", \"Honduras\", \"Hong Kong\", \"Hungary\", \"Iceland\", \"India\", \"Iran\", \"Iraq\", \"Israel\", \"Italy\", \"Ivory Coast\", \"Jamaica\", \"Japan\", \"Jordan\", \"Kazakhstan\", \"Kenya\", \"Korea DPR\", \"Korea Republic\", \"Kosovo\", \"Kuwait\", \"Latvia\", \"Lebanon\", \"Liberia\", \"Libya\", \"Liechtenstein\", \"Lithuania\", \"Luxembourg\", \"Madagascar\", \"Mali\", \"Malta\", \"Mauritania\", \"Mauritius\", \"Mexico\", \"Moldova\", \"Montenegro\", \"Montserrat\", \"Morocco\", \"Mozambique\", \"Namibia\", \"Netherlands\", \"New Caledonia\", \"New Zealand\", \"Nicaragua\", \"Niger\", \"Nigeria\", \"Northern Ireland\", \"Norway\", \"Oman\", \"Palestine\", \"Panama\", \"Paraguay\", \"Peru\", \"Philippines\", \"Poland\", \"Portugal\", \"Puerto Rico\", \"Qatar\", \"Republic of Ireland\", \"Romania\", \"Russia\", \"Rwanda\", \"Saudi Arabia\", \"Scotland\", \"Senegal\", \"Serbia\", \"Sierra Leone\", \"Slovakia\", \"Slovenia\", \"South Africa\", \"South Sudan\", \"Spain\", \"St Kitts Nevis\", \"St Lucia\", \"Sudan\", \"Suriname\", \"Sweden\", \"Switzerland\", \"Syria\", \"S\\u00e3o Tom\\u00e9 & Pr\\u00edncipe\", \"Tanzania\", \"Thailand\", \"Togo\", \"Trinidad & Tobago\", \"Tunisia\", \"Turkey\", \"Uganda\", \"Ukraine\", \"United Arab Emirates\", \"United States\", \"Uruguay\", \"Uzbekistan\", \"Venezuela\", \"Wales\", \"Zambia\", \"Zimbabwe\"], \"text\": [\"Afghanistan\", \"Albania\", \"Algeria\", \"Andorra\", \"Angola\", \"Antigua & Barbuda\", \"Argentina\", \"Armenia\", \"Australia\", \"Austria\", \"Azerbaijan\", \"Barbados\", \"Belarus\", \"Belgium\", \"Belize\", \"Benin\", \"Bermuda\", \"Bolivia\", \"Bosnia Herzegovina\", \"Brazil\", \"Bulgaria\", \"Burkina Faso\", \"Burundi\", \"Cameroon\", \"Canada\", \"Cape Verde\", \"Central African Rep.\", \"Chad\", \"Chile\", \"China PR\", \"Colombia\", \"Comoros\", \"Congo\", \"Costa Rica\", \"Croatia\", \"Cuba\", \"Curacao\", \"Cyprus\", \"Czech Republic\", \"DR Congo\", \"Denmark\", \"Dominican Republic\", \"Ecuador\", \"Egypt\", \"El Salvador\", \"England\", \"Equatorial Guinea\", \"Eritrea\", \"Estonia\", \"Ethiopia\", \"FYR Macedonia\", \"Faroe Islands\", \"Fiji\", \"Finland\", \"France\", \"Gabon\", \"Gambia\", \"Georgia\", \"Germany\", \"Ghana\", \"Greece\", \"Grenada\", \"Guam\", \"Guatemala\", \"Guinea\", \"Guinea Bissau\", \"Guyana\", \"Haiti\", \"Honduras\", \"Hong Kong\", \"Hungary\", \"Iceland\", \"India\", \"Iran\", \"Iraq\", \"Israel\", \"Italy\", \"Ivory Coast\", \"Jamaica\", \"Japan\", \"Jordan\", \"Kazakhstan\", \"Kenya\", \"Korea DPR\", \"Korea Republic\", \"Kosovo\", \"Kuwait\", \"Latvia\", \"Lebanon\", \"Liberia\", \"Libya\", \"Liechtenstein\", \"Lithuania\", \"Luxembourg\", \"Madagascar\", \"Mali\", \"Malta\", \"Mauritania\", \"Mauritius\", \"Mexico\", \"Moldova\", \"Montenegro\", \"Montserrat\", \"Morocco\", \"Mozambique\", \"Namibia\", \"Netherlands\", \"New Caledonia\", \"New Zealand\", \"Nicaragua\", \"Niger\", \"Nigeria\", \"Northern Ireland\", \"Norway\", \"Oman\", \"Palestine\", \"Panama\", \"Paraguay\", \"Peru\", \"Philippines\", \"Poland\", \"Portugal\", \"Puerto Rico\", \"Qatar\", \"Republic of Ireland\", \"Romania\", \"Russia\", \"Rwanda\", \"Saudi Arabia\", \"Scotland\", \"Senegal\", \"Serbia\", \"Sierra Leone\", \"Slovakia\", \"Slovenia\", \"South Africa\", \"South Sudan\", \"Spain\", \"St Kitts Nevis\", \"St Lucia\", \"Sudan\", \"Suriname\", \"Sweden\", \"Switzerland\", \"Syria\", \"S\\u00e3o Tom\\u00e9 & Pr\\u00edncipe\", \"Tanzania\", \"Thailand\", \"Togo\", \"Trinidad & Tobago\", \"Tunisia\", \"Turkey\", \"Uganda\", \"Ukraine\", \"United Arab Emirates\", \"United States\", \"Uruguay\", \"Uzbekistan\", \"Venezuela\", \"Wales\", \"Zambia\", \"Zimbabwe\"], \"type\": \"choropleth\", \"z\": [67.75, 72.13513513513513, 72.98333333333333, 64.0, 71.53333333333333, 67.75, 73.29609544468546, 71.8, 68.49222797927462, 70.10820895522389, 66.5, 65.0, 71.0, 74.42801556420234, 61.0, 70.66666666666667, 66.5, 69.96551724137932, 72.34426229508196, 73.38976857490864, 67.93333333333334, 73.125, 70.5, 73.11235955056179, 69.75438596491227, 73.73684210526316, 76.0, 78.0, 71.21637426900585, 64.97472924187726, 71.44937833037301, 69.33333333333333, 69.75, 71.63333333333334, 74.76229508196721, 72.75, 70.28571428571429, 70.85714285714286, 72.8080808080808, 72.6, 71.08727272727273, 80.5, 72.93023255813954, 72.64516129032258, 69.6, 70.68124118476727, 75.2, 68.5, 67.76923076923077, 64.0, 72.84210526315789, 66.6, 71.0, 70.60714285714286, 73.75085714285714, 72.26666666666667, 73.93333333333334, 73.8076923076923, 71.99468556244464, 73.35779816513761, 74.56565656565657, 68.0, 67.0, 67.66666666666667, 72.87096774193549, 73.13333333333334, 66.33333333333333, 71.375, 72.3125, 66.5, 73.43243243243244, 71.53333333333333, 63.81818181818182, 72.76470588235294, 71.14285714285714, 73.0, 72.92930780559647, 74.11111111111111, 68.87096774193549, 67.58354755784062, 70.0, 66.5, 70.44444444444444, 69.5, 67.80503144654088, 72.83333333333333, 70.0, 68.8, 66.0, 73.0, 73.5, 67.66666666666667, 68.57142857142857, 71.375, 68.83333333333333, 73.78571428571429, 63.0, 70.0, 69.0, 71.76521739130435, 74.75, 72.95652173913044, 68.0, 73.47619047619048, 73.75, 71.33333333333333, 73.09009009009009, 71.0, 68.23076923076923, 64.0, 68.5, 74.16379310344827, 69.74242424242425, 69.76595744680851, 72.0, 66.0, 70.33333333333333, 73.12048192771084, 73.64864864864865, 71.5, 69.62633451957295, 75.29813664596273, 63.0, 68.0, 67.84701492537313, 73.98076923076923, 75.34177215189874, 71.0, 66.92250922509226, 70.77178423236515, 73.10236220472441, 73.74193548387096, 70.83333333333333, 72.83018867924528, 72.88888888888889, 70.65217391304348, 63.0, 74.71320754716982, 67.0, 68.0, 66.0, 69.5, 69.33633633633633, 72.62176165803109, 72.375, 72.0, 74.0, 65.75, 72.91666666666667, 71.33333333333333, 71.3125, 72.13978494623656, 68.4, 75.13888888888889, 78.0, 70.85670731707317, 73.54421768707483, 67.5, 73.7936507936508, 70.49549549549549, 73.625, 72.46153846153847]}],\n",
              "                        {\"template\": {\"data\": {\"bar\": [{\"error_x\": {\"color\": \"#2a3f5f\"}, \"error_y\": {\"color\": \"#2a3f5f\"}, \"marker\": {\"line\": {\"color\": \"#E5ECF6\", \"width\": 0.5}}, \"type\": \"bar\"}], \"barpolar\": [{\"marker\": {\"line\": {\"color\": \"#E5ECF6\", \"width\": 0.5}}, \"type\": \"barpolar\"}], \"carpet\": [{\"aaxis\": {\"endlinecolor\": \"#2a3f5f\", \"gridcolor\": \"white\", \"linecolor\": \"white\", \"minorgridcolor\": \"white\", \"startlinecolor\": \"#2a3f5f\"}, \"baxis\": {\"endlinecolor\": \"#2a3f5f\", \"gridcolor\": \"white\", \"linecolor\": \"white\", \"minorgridcolor\": \"white\", \"startlinecolor\": \"#2a3f5f\"}, \"type\": \"carpet\"}], \"choropleth\": [{\"colorbar\": {\"outlinewidth\": 0, \"ticks\": \"\"}, \"type\": \"choropleth\"}], \"contour\": [{\"colorbar\": {\"outlinewidth\": 0, \"ticks\": \"\"}, \"colorscale\": [[0.0, \"#0d0887\"], [0.1111111111111111, \"#46039f\"], [0.2222222222222222, \"#7201a8\"], [0.3333333333333333, \"#9c179e\"], [0.4444444444444444, \"#bd3786\"], [0.5555555555555556, \"#d8576b\"], [0.6666666666666666, \"#ed7953\"], [0.7777777777777778, \"#fb9f3a\"], [0.8888888888888888, \"#fdca26\"], [1.0, \"#f0f921\"]], \"type\": \"contour\"}], \"contourcarpet\": [{\"colorbar\": {\"outlinewidth\": 0, \"ticks\": \"\"}, \"type\": \"contourcarpet\"}], \"heatmap\": [{\"colorbar\": {\"outlinewidth\": 0, \"ticks\": \"\"}, \"colorscale\": [[0.0, \"#0d0887\"], [0.1111111111111111, \"#46039f\"], [0.2222222222222222, \"#7201a8\"], [0.3333333333333333, \"#9c179e\"], [0.4444444444444444, \"#bd3786\"], [0.5555555555555556, \"#d8576b\"], [0.6666666666666666, \"#ed7953\"], [0.7777777777777778, \"#fb9f3a\"], [0.8888888888888888, \"#fdca26\"], [1.0, \"#f0f921\"]], \"type\": \"heatmap\"}], \"heatmapgl\": [{\"colorbar\": {\"outlinewidth\": 0, \"ticks\": \"\"}, \"colorscale\": [[0.0, \"#0d0887\"], [0.1111111111111111, \"#46039f\"], [0.2222222222222222, \"#7201a8\"], [0.3333333333333333, \"#9c179e\"], [0.4444444444444444, \"#bd3786\"], [0.5555555555555556, \"#d8576b\"], [0.6666666666666666, \"#ed7953\"], [0.7777777777777778, \"#fb9f3a\"], [0.8888888888888888, \"#fdca26\"], [1.0, \"#f0f921\"]], \"type\": \"heatmapgl\"}], \"histogram\": [{\"marker\": {\"colorbar\": {\"outlinewidth\": 0, \"ticks\": \"\"}}, \"type\": \"histogram\"}], \"histogram2d\": [{\"colorbar\": {\"outlinewidth\": 0, \"ticks\": \"\"}, \"colorscale\": [[0.0, \"#0d0887\"], [0.1111111111111111, \"#46039f\"], [0.2222222222222222, \"#7201a8\"], [0.3333333333333333, \"#9c179e\"], [0.4444444444444444, \"#bd3786\"], [0.5555555555555556, \"#d8576b\"], [0.6666666666666666, \"#ed7953\"], [0.7777777777777778, \"#fb9f3a\"], [0.8888888888888888, \"#fdca26\"], [1.0, \"#f0f921\"]], \"type\": \"histogram2d\"}], \"histogram2dcontour\": [{\"colorbar\": {\"outlinewidth\": 0, \"ticks\": \"\"}, \"colorscale\": [[0.0, \"#0d0887\"], [0.1111111111111111, \"#46039f\"], [0.2222222222222222, \"#7201a8\"], [0.3333333333333333, \"#9c179e\"], [0.4444444444444444, \"#bd3786\"], [0.5555555555555556, \"#d8576b\"], [0.6666666666666666, \"#ed7953\"], [0.7777777777777778, \"#fb9f3a\"], [0.8888888888888888, \"#fdca26\"], [1.0, \"#f0f921\"]], \"type\": \"histogram2dcontour\"}], \"mesh3d\": [{\"colorbar\": {\"outlinewidth\": 0, \"ticks\": \"\"}, \"type\": \"mesh3d\"}], \"parcoords\": [{\"line\": {\"colorbar\": {\"outlinewidth\": 0, \"ticks\": \"\"}}, \"type\": \"parcoords\"}], \"pie\": [{\"automargin\": true, \"type\": \"pie\"}], \"scatter\": [{\"marker\": {\"colorbar\": {\"outlinewidth\": 0, \"ticks\": \"\"}}, \"type\": \"scatter\"}], \"scatter3d\": [{\"line\": {\"colorbar\": {\"outlinewidth\": 0, \"ticks\": \"\"}}, \"marker\": {\"colorbar\": {\"outlinewidth\": 0, \"ticks\": \"\"}}, \"type\": \"scatter3d\"}], \"scattercarpet\": [{\"marker\": {\"colorbar\": {\"outlinewidth\": 0, \"ticks\": \"\"}}, \"type\": \"scattercarpet\"}], \"scattergeo\": [{\"marker\": {\"colorbar\": {\"outlinewidth\": 0, \"ticks\": \"\"}}, \"type\": \"scattergeo\"}], \"scattergl\": [{\"marker\": {\"colorbar\": {\"outlinewidth\": 0, \"ticks\": \"\"}}, \"type\": \"scattergl\"}], \"scattermapbox\": [{\"marker\": {\"colorbar\": {\"outlinewidth\": 0, \"ticks\": \"\"}}, \"type\": \"scattermapbox\"}], \"scatterpolar\": [{\"marker\": {\"colorbar\": {\"outlinewidth\": 0, \"ticks\": \"\"}}, \"type\": \"scatterpolar\"}], \"scatterpolargl\": [{\"marker\": {\"colorbar\": {\"outlinewidth\": 0, \"ticks\": \"\"}}, \"type\": \"scatterpolargl\"}], \"scatterternary\": [{\"marker\": {\"colorbar\": {\"outlinewidth\": 0, \"ticks\": \"\"}}, \"type\": \"scatterternary\"}], \"surface\": [{\"colorbar\": {\"outlinewidth\": 0, \"ticks\": \"\"}, \"colorscale\": [[0.0, \"#0d0887\"], [0.1111111111111111, \"#46039f\"], [0.2222222222222222, \"#7201a8\"], [0.3333333333333333, \"#9c179e\"], [0.4444444444444444, \"#bd3786\"], [0.5555555555555556, \"#d8576b\"], [0.6666666666666666, \"#ed7953\"], [0.7777777777777778, \"#fb9f3a\"], [0.8888888888888888, \"#fdca26\"], [1.0, \"#f0f921\"]], \"type\": \"surface\"}], \"table\": [{\"cells\": {\"fill\": {\"color\": \"#EBF0F8\"}, \"line\": {\"color\": \"white\"}}, \"header\": {\"fill\": {\"color\": \"#C8D4E3\"}, \"line\": {\"color\": \"white\"}}, \"type\": \"table\"}]}, \"layout\": {\"annotationdefaults\": {\"arrowcolor\": \"#2a3f5f\", \"arrowhead\": 0, \"arrowwidth\": 1}, \"coloraxis\": {\"colorbar\": {\"outlinewidth\": 0, \"ticks\": \"\"}}, \"colorscale\": {\"diverging\": [[0, \"#8e0152\"], [0.1, \"#c51b7d\"], [0.2, \"#de77ae\"], [0.3, \"#f1b6da\"], [0.4, \"#fde0ef\"], [0.5, \"#f7f7f7\"], [0.6, \"#e6f5d0\"], [0.7, \"#b8e186\"], [0.8, \"#7fbc41\"], [0.9, \"#4d9221\"], [1, \"#276419\"]], \"sequential\": [[0.0, \"#0d0887\"], [0.1111111111111111, \"#46039f\"], [0.2222222222222222, \"#7201a8\"], [0.3333333333333333, \"#9c179e\"], [0.4444444444444444, \"#bd3786\"], [0.5555555555555556, \"#d8576b\"], [0.6666666666666666, \"#ed7953\"], [0.7777777777777778, \"#fb9f3a\"], [0.8888888888888888, \"#fdca26\"], [1.0, \"#f0f921\"]], \"sequentialminus\": [[0.0, \"#0d0887\"], [0.1111111111111111, \"#46039f\"], [0.2222222222222222, \"#7201a8\"], [0.3333333333333333, \"#9c179e\"], [0.4444444444444444, \"#bd3786\"], [0.5555555555555556, \"#d8576b\"], [0.6666666666666666, \"#ed7953\"], [0.7777777777777778, \"#fb9f3a\"], [0.8888888888888888, \"#fdca26\"], [1.0, \"#f0f921\"]]}, \"colorway\": [\"#636efa\", \"#EF553B\", \"#00cc96\", \"#ab63fa\", \"#FFA15A\", \"#19d3f3\", \"#FF6692\", \"#B6E880\", \"#FF97FF\", \"#FECB52\"], \"font\": {\"color\": \"#2a3f5f\"}, \"geo\": {\"bgcolor\": \"white\", \"lakecolor\": \"white\", \"landcolor\": \"#E5ECF6\", \"showlakes\": true, \"showland\": true, \"subunitcolor\": \"white\"}, \"hoverlabel\": {\"align\": \"left\"}, \"hovermode\": \"closest\", \"mapbox\": {\"style\": \"light\"}, \"paper_bgcolor\": \"white\", \"plot_bgcolor\": \"#E5ECF6\", \"polar\": {\"angularaxis\": {\"gridcolor\": \"white\", \"linecolor\": \"white\", \"ticks\": \"\"}, \"bgcolor\": \"#E5ECF6\", \"radialaxis\": {\"gridcolor\": \"white\", \"linecolor\": \"white\", \"ticks\": \"\"}}, \"scene\": {\"xaxis\": {\"backgroundcolor\": \"#E5ECF6\", \"gridcolor\": \"white\", \"gridwidth\": 2, \"linecolor\": \"white\", \"showbackground\": true, \"ticks\": \"\", \"zerolinecolor\": \"white\"}, \"yaxis\": {\"backgroundcolor\": \"#E5ECF6\", \"gridcolor\": \"white\", \"gridwidth\": 2, \"linecolor\": \"white\", \"showbackground\": true, \"ticks\": \"\", \"zerolinecolor\": \"white\"}, \"zaxis\": {\"backgroundcolor\": \"#E5ECF6\", \"gridcolor\": \"white\", \"gridwidth\": 2, \"linecolor\": \"white\", \"showbackground\": true, \"ticks\": \"\", \"zerolinecolor\": \"white\"}}, \"shapedefaults\": {\"line\": {\"color\": \"#2a3f5f\"}}, \"ternary\": {\"aaxis\": {\"gridcolor\": \"white\", \"linecolor\": \"white\", \"ticks\": \"\"}, \"baxis\": {\"gridcolor\": \"white\", \"linecolor\": \"white\", \"ticks\": \"\"}, \"bgcolor\": \"#E5ECF6\", \"caxis\": {\"gridcolor\": \"white\", \"linecolor\": \"white\", \"ticks\": \"\"}}, \"title\": {\"x\": 0.05}, \"xaxis\": {\"automargin\": true, \"gridcolor\": \"white\", \"linecolor\": \"white\", \"ticks\": \"\", \"title\": {\"standoff\": 15}, \"zerolinecolor\": \"white\", \"zerolinewidth\": 2}, \"yaxis\": {\"automargin\": true, \"gridcolor\": \"white\", \"linecolor\": \"white\", \"ticks\": \"\", \"title\": {\"standoff\": 15}, \"zerolinecolor\": \"white\", \"zerolinewidth\": 2}}}, \"title\": {\"text\": \"Country vs Mean of Potential\", \"x\": 0.5}},\n",
              "                        {\"responsive\": true}\n",
              "                    ).then(function(){\n",
              "                            \n",
              "var gd = document.getElementById('fca3f54d-648d-4cf1-a39c-a800c6bfe676');\n",
              "var x = new MutationObserver(function (mutations, observer) {{\n",
              "        var display = window.getComputedStyle(gd).display;\n",
              "        if (!display || display === 'none') {{\n",
              "            console.log([gd, 'removed!']);\n",
              "            Plotly.purge(gd);\n",
              "            observer.disconnect();\n",
              "        }}\n",
              "}});\n",
              "\n",
              "// Listen for the removal of the full notebook cells\n",
              "var notebookContainer = gd.closest('#notebook-container');\n",
              "if (notebookContainer) {{\n",
              "    x.observe(notebookContainer, {childList: true});\n",
              "}}\n",
              "\n",
              "// Listen for the clearing of the current output cell\n",
              "var outputEl = gd.closest('.output');\n",
              "if (outputEl) {{\n",
              "    x.observe(outputEl, {childList: true});\n",
              "}}\n",
              "\n",
              "                        })\n",
              "                };\n",
              "                \n",
              "            </script>\n",
              "        </div>\n",
              "</body>\n",
              "</html>"
            ]
          },
          "metadata": {}
        }
      ]
    },
    {
      "cell_type": "markdown",
      "metadata": {
        "id": "LYnbzoRc587s"
      },
      "source": [
        "\n",
        "**1. Summarise your findings from the visual**\n",
        "\n",
        "  * From the chloropleth visual above, we can see that United Arab Emirates is having the highest average of Overall.\n",
        "\n",
        "**2. The reason for selecting the chart type you did**\n",
        "\n",
        "  * Inorder to represent statistical data through various shading patterns of Player's Overall, we have used chloropleth map.\n",
        "  \n",
        "**3. Mention the pre-attentive attributes used.(atleast 2)**\n",
        "  \n",
        "  * Only the regions that have players are coloured and rest are left as it is.\n",
        "\n",
        "  * We have used a gradient scale to represent the shades of colours based on the mean of Overall attribute values.\n",
        "\n",
        "**4. Mention the gestalt principles used.(atleast 2)**\n",
        "\n",
        "  * Principle of Similarity\n",
        "\n",
        "  The plot across all the variables which have very high average Ovaerall value are represented visually with dark colour, and the ones with lower average Overall value with light colour on a gradient scale.\n",
        "\n",
        "  * Principle of Figure and Ground\n",
        "\n",
        "  The coloured regions that form the figure in the chart, they are in the forefront and capture our attention.\n"
      ]
    },
    {
      "cell_type": "markdown",
      "metadata": {
        "id": "Dy22QpOZnDUK"
      },
      "source": [
        "<h1><center> ************ END OF ASSIGNMENT ****************</center></h1>"
      ]
    }
  ]
}